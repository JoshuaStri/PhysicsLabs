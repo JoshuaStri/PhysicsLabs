{
 "cells": [
  {
   "cell_type": "markdown",
   "metadata": {},
   "source": [
    "# Theory of Error Propogation\n",
    "\n",
    "In this laboratory course, there are a lot of calculations of the uncertainty in a derived quantity, based on the uncertainties in the raw quantities involved.  We can understand how to calculate these uncertainties using just a little bit of calculus!\n",
    "\n",
    "Consider a function, $z = f(x,y)$.  We imagine that $x$ and $y$ are two independent raw quantities measured in the experiment, and $z$ is some derived quantity.  The appropriate way to calculate the uncertainy in a derived quantity will depend, fundamentally, on the $type$ of uncertainty:  instrumental (uniform), or counting experiment (Gaussian), for example.  \n",
    "\n",
    "The chain-rule of differentiation, together with an assumption that the uncertainties are $uniform$ in nature (such as, for example, one typically has in the experiments in this lab course), lead to the following:\n",
    "\n",
    "\\begin{equation}\n",
    "\\delta z = \\left| \\frac{\\partial{f}}{\\partial{x}} \\right| \\delta x + \n",
    " \\left| \\frac{\\partial{f}}{\\partial{y}} \\right| \\delta y\n",
    "\\tag{1}\n",
    "\\end{equation}\n",
    "\n",
    "If we assume that the uncertainties are $Gaussian$ in nature (such as, for example, one typically has in counting\n",
    "experiments), we get the following:\n",
    "\n",
    "\\begin{equation}\n",
    "(\\delta z)^2 = \\left( \\frac{\\partial{f}}{\\partial{x}} \\right)^2 (\\delta x)^2 + \n",
    " \\left( \\frac{\\partial{f}}{\\partial{y}} \\right)^2 (\\delta y)^2\n",
    "\\tag{2}\n",
    "\\end{equation}"
   ]
  },
  {
   "cell_type": "markdown",
   "metadata": {},
   "source": [
    "## Addition/Subtraction\n",
    "\n",
    "Consider $z = x + y$.    Referring to Equations ([1](#mjx-eqn)) and ([2](#mjx-eqn)), we see that the relevant derivatives are:\n",
    "\n",
    "\\begin{equation}\n",
    "\\frac{\\partial{f}}{\\partial{x}} = 1 \\\\\n",
    "\\frac{\\partial{f}}{\\partial{y}} = 1\n",
    "\\end{equation}\n",
    "\n",
    "and thus, for uniform/instrumental uncertainties, we have that:\n",
    "\n",
    "\\begin{equation}\n",
    "\\delta z = \\delta x + \\delta y\n",
    "\\tag{3}\n",
    "\\end{equation}\n",
    "\n",
    "and for Gaussian/statistical uncertainties, we have that:\n",
    "\n",
    "\\begin{equation}\n",
    "(\\delta z)^2 = (\\delta x)^2 + (\\delta y)^2 \\\\\n",
    "\\delta z = \\sqrt{(\\delta x)^2 + (\\delta y)^2}\n",
    "\\tag{4}\n",
    "\\end{equation}\n",
    "\n",
    "Note that if we consider the function $z = x - y$, we get exactly the same results!  So, the \"rules\" for addition and subtraction are exactly the same!\n",
    "\n"
   ]
  },
  {
   "cell_type": "markdown",
   "metadata": {},
   "source": [
    "### Example\n",
    "\n",
    "Consider the following measurements of the quantity, $x$\n",
    "\n",
    "\\begin{equation}\n",
    "x_1 = 100.0 \\pm 0.3 \\\\\n",
    "x_2 = 102.0 \\pm 0.4 \\\\ \\nonumber\n",
    "\\end{equation}\n",
    "\n",
    "The sum of these two numbers, $x = x_1 + x_2 = 202.0$.  The uncertainty in the sum is given, for uniform errors, by:\n",
    "\n",
    "\\begin{equation}\n",
    "\\delta x = \\delta x_1 + \\delta x_2 = 0.3 + 0.4 = 0.7\n",
    "\\end{equation}\n",
    "\n",
    "Thus, we have that $x = 202.0 \\pm 0.7$.\n",
    "\n",
    "The uncertainty in the sum is given, for Gaussian errors, by:\n",
    "\n",
    "\\begin{equation}\n",
    "\\delta x = \\sqrt{(\\delta x_1)^2 + (\\delta x_2)^2} = \\sqrt{0.3^2 + 0.4^2} = 0.5\n",
    "\\end{equation}\n",
    "\n",
    "Thus, we have that $x = 202.0 \\pm 0.5$\n",
    "\n",
    "Now, let's look at the $difference$ between these two measurements, $y = x_2 - x_1 = 102.0 - 100.0 = 2.0$.  The uncertainties in the difference are the SAME as caculated above!  Thus, we would report:\n",
    "\n",
    "\\begin{equation}\n",
    "y = x_2 - x_1 = 2.0 \\pm 0.7 \\hspace{0.5in} \\rm{(Instrumental~Errors)} \\\\\n",
    "y = x_2 - x_1 = 2.0 \\pm 0.5 \\hspace{0.5in} \\rm{(Gaussian~Errors)}\n",
    "\\end{equation}"
   ]
  },
  {
   "cell_type": "markdown",
   "metadata": {},
   "source": [
    "## Multiplication/Division\n",
    "\n",
    "Consider $z = xy$.    Referring to Equations ([1](#mjx-eqn)) and ([2](#mjx-eqn)), we see that the relevant derivatives are:\n",
    "\n",
    "\\begin{equation}\n",
    "\\frac{\\partial{f}}{\\partial{x}} = y \\\\\n",
    "\\frac{\\partial{f}}{\\partial{y}} = x\n",
    "\\end{equation}\n",
    "\n",
    "and thus, for uniform/instrumental uncertainties, we have that:\n",
    "\n",
    "\\begin{equation}\n",
    "\\delta z = |y| \\delta x + |x| \\delta y \\\\\n",
    "    \\left| \\frac{\\delta z}{z} \\right| = \\left| \\frac{\\delta x}{x} \\right| + \\left|\\frac{\\delta y}{y} \\right| \\\\\n",
    "    \\delta z = |z| \\left( \\left| \\frac{\\delta x}{x} \\right| + \\left|\\frac{\\delta y}{y} \\right| \\right)\n",
    "    \\tag{5}\n",
    "\\end{equation}\n",
    "\n",
    "and for Gaussian/statistical uncertainties, we have that:\n",
    "\n",
    "\\begin{equation}\n",
    "(\\delta z)^2 = y^2 (\\delta x)^2 + x^2 (\\delta y)^2 \\\\\n",
    "\\left(\\frac{\\delta z}{z}\\right)^2 = \\left(\\frac{\\delta x}{x}\\right)^2 + \\left(\\frac{\\delta y}{y}\\right)^2 \\\\\n",
    "\\delta z  = z \\left( \\sqrt{\\left(\\frac{\\delta x}{x}\\right)^2 + \\left(\\frac{\\delta y}{y}\\right)^2} \\right)\n",
    "\\tag{6}\n",
    "\\end{equation}\n",
    "\n",
    "While the calculus is just slightly more involved, the calculation of the rules for division is straightforward, and leads to the same relationships as for multiplication!"
   ]
  },
  {
   "cell_type": "markdown",
   "metadata": {},
   "source": [
    "### Example\n",
    "\n",
    "Consider the following measurements of the quantity, $x$\n",
    "\n",
    "\\begin{equation}\n",
    "x_1 = 10.0 \\pm 1.0 \\\\\n",
    "x_2 = 12.0 \\pm 2.0 \\\\ \\nonumber\n",
    "\\end{equation}\n",
    "\n",
    "The product of these two numbers, $x = x_1 \\cdot x_2 = 120.0$.  The uncertainty in the sum is given, for uniform errors, by:\n",
    "\n",
    "\\begin{equation}\n",
    "\\delta x = |x| \\left( \\left| \\frac{\\delta x_1}{x_1} \\right| + \\left|\\frac{\\delta x_2}{x_2} \\right| \\right) \\\\\n",
    "\\delta x = 120.0 \\left( \\left| \\frac{1.0}{10.0} \\right| + \\left|\\frac{2.0}{12.0} \\right| \\right) \\\\\n",
    "\\delta x = 32.0\n",
    "\\end{equation}\n",
    "\n",
    "Thus, we have that $x = 120.0 \\pm 32.0$.\n",
    "\n",
    "The uncertainty in the sum is given, for Gaussian errors, by:\n",
    "\n",
    "\\begin{equation}\n",
    "\\delta x  = x \\left( \\sqrt{ \\left( \\frac{\\delta x_1}{x_1} \\right)^2 + \\left( \\frac{\\delta x_2}{x_2} \\right)^2 } \\right) \\\\\n",
    "\\delta x  = 120 \\left( \\sqrt{ \\left( \\frac{1.0}{10.0} \\right)^2 + \\left( \\frac{2.0}{12.0} \\right)^2 } \\right) \\\\\n",
    "\\delta x = 23.3\n",
    "\\end{equation}\n",
    "\n",
    "Thus, we have that $x = 120.0 \\pm 23.3$.\n",
    "\n",
    "Now, let's consider the ratio of these two numbers, $y = \\frac{x_1}{x_2} = \\frac{10.0}{12.0} = 0.833$.\n",
    "\n",
    "The uncertainty in $y$ is calculated, for uniform errors, as:\n",
    "\n",
    "\\begin{equation}\n",
    "\\delta y = |y| \\left( \\left| \\frac{\\delta x_1}{x_1} \\right| + \\left|\\frac{\\delta x_2}{x_2} \\right| \\right) \\\\\n",
    "\\delta y = 8.333 \\left( \\left| \\frac{1.0}{10.0} \\right| + \\left|\\frac{2.0}{12.0} \\right| \\right) \\\\\n",
    "\\delta y = 0.022\n",
    "\\end{equation}\n",
    "\n",
    "and we would report $y = 0.833 \\pm 0.022$.\n",
    "\n",
    "and for Gaussian errors as:\n",
    "\n",
    "\\begin{equation}\n",
    "\\delta y  = y \\left( \\sqrt{ \\left( \\frac{\\delta x_1}{x_1} \\right)^2 + \\left( \\frac{\\delta x_2}{x_2} \\right)^2 } \\right) \\\\\n",
    "\\delta y  = 0.833 \\left( \\sqrt{ \\left( \\frac{1.0}{10.0} \\right)^2 + \\left( \\frac{2.0}{12.0} \\right)^2 } \\right) \\\\\n",
    "\\delta y = 0.016\n",
    "\\end{equation}\n",
    "\n",
    "and the result is $y = 0.833 \\pm 0.016$.\n"
   ]
  },
  {
   "cell_type": "markdown",
   "metadata": {},
   "source": [
    "# Theory of Weighted Average Calculations\n",
    "\n",
    "A second extremely important concept in this experiment is the calculation of the weighted average of a series of numbers, each of which has an uncertainty associated with it.  For example, imagine that we make four measurements of the same quantity, $x$, and have an uncertainty, $\\delta x$, for each of these four measurements.  The questions are:\n",
    "\n",
    "(a) What is the $average$ of these four measurements?  \n",
    "(b) What is the $uncertainty$ in this average?\n",
    "\n",
    "Normally, when we average a series of numbers, we simply add up the values and divide by the total number of values:\n",
    "\n",
    "\\begin{equation}\n",
    "\\bar{x} = \\frac{1}{N} \\sum_{i=1}^N x_i\n",
    "\\end{equation}\n",
    "\n",
    "However, when each of the measurements has an uncertainty, it is not so simple.  The idea is that we want to attach more importance to measurements with $small$ uncertainties, and less importance to measurements with $large$ uncertainties.  This is called calculating a $weighted$ average.  For Gaussian uncertainties, it turns out that the way that we do this is to calculate the average as:\n",
    "\n",
    "\\begin{equation}\n",
    "\\bar{x} = \\frac{\\sum_{i=1}^N w_i x_i} {\\sum_{i=1}^N w_i}\n",
    "\\end{equation}\n",
    "\n",
    "where the $w_i$ are weights associated with each measurement.  For the case of uniform uncertainties, we have that $w_i = \\frac{1}{\\delta x_i}$.  For Gaussian uncertainties, we use $w_i = \\frac{1}{\\delta x_i^2}$.\n",
    "\n",
    "Note that if $\\delta x_i$ is small, the corresponding weight in the sum will be large, which is exactly what we want!\n",
    "\n",
    "For the calculation of the uncertainty in $\\bar{x}$, there are $TWO$ separate concepts related to uncertainties that we must consider.  The first is that there are uncertainties in each of the raw quantities that are being used to calculate the weighted mean.  This uncertainty is a $systematic$ uncertainty.  But also, there is uncertainty that comes from the notion that the actual $values$ of the individual measurements are not all the same. Since this involves the concept of the statistical fluctuation of repeated measurments of the same quantity, this is a $statistical$ uncertainty.\n",
    "\n",
    "The mathematics of calculating these uncertainties is actually quite complex and involved.  For the purposes of this course, we are going to simply report the final results of this mathematical exercise:\n",
    "\n",
    "\\begin{equation}\n",
    "\\delta \\bar{x}_{systematic} = \\frac{N}{\\sum_{i=1}^N w_i}\n",
    "\\end{equation}\n",
    "\n",
    "\\begin{equation}\n",
    "\\delta \\bar{x}_{statistical} = \\sqrt{ \\left( \\frac{\\sum_{i=1}^N w_i x_i^2}{\\sum_{i=1}^N w_i} - (\\bar{x})^2 \\right)   \\frac{1}{N-1} }\n",
    "\\end{equation}\n",
    "\n",
    "We should, then, combine these uncertainties together into a single uncertainty on the weighted average.  The usual technique is to combine these two errors together either linearly, in the case of uniform error measurements, or\n",
    "quadratically, in the case of Gaussian errors:\n",
    "\n",
    "\\begin{equation}\n",
    "\\delta \\bar{x} = \\delta \\bar{x}_{systematic} + \\delta \\bar{x}_{statistical} \\hspace{0.5in} \\rm{(Uniform~Errors)} \\\\\n",
    "\\delta \\bar{x} = \\sqrt{\\delta \\bar{x}_{systematic}^2 + \\delta \\bar{x}_{statistical}^2 }\\hspace{0.5in} \\rm{(Gaussian~Errors)}\n",
    "\\end{equation}\n",
    "\n",
    "Example:  Consider the following measurements of the quantity, $x$\n",
    "\n",
    "\\begin{equation}\n",
    "x_1 = 100.0 \\pm 2.5 \\\\\n",
    "x_2 = 102.0 \\pm 4.5 \\\\\n",
    "x_3 = 98.0 \\pm 0.2 \\\\ \\nonumber\n",
    "\\end{equation}\n",
    "\n",
    "We will assume that these uncerainties are instrumental/uniform uncertainties.\n",
    "\n",
    "\\begin{equation}\n",
    "\\sum_{i=1}^N \\frac{x_i}{\\delta x_i} = \\frac{100}{2.5} + \\frac{102}{4.5} + \\frac{98}{0.2} = 552.667 \\nonumber\n",
    "\\end{equation}\n",
    "\n",
    "\\begin{equation}\n",
    "\\sum_{i=1}^N \\frac{1}{\\delta x_i} = \\frac{1}{2.5} + \\frac{1}{4.5} + \\frac{1}{0.2} = 5.6222I 2 \\nonumber\n",
    "\\end{equation}\n",
    "\n",
    "\\begin{equation}\n",
    "\\bar{x} = \\frac{552.667}{5.62222} = 98.3004 \\nonumber\n",
    "\\end{equation}\n",
    "\n",
    "Notice the $weighted$ average is closer to 98 than to either of the other two data values, because the uncertainty in that measured value is significantly smaller than the other uncertainties.\n",
    "\n",
    "\\begin{equation}\n",
    "\\sum_{i=1}^N w_i = \\frac{1}{2.5} + \\frac{1}{4.5} + \\frac{1}{0.2} = 5.62222 \\nonumber  \\nonumber\n",
    "\\end{equation}\n",
    "\n",
    "\\begin{equation}\n",
    "\\sum_{i=1}^N w_i^2 = \\frac{1}{2.5^2} + \\frac{1}{4.5^2} + \\frac{1}{0.2^2} = 25.2094 \\nonumber\n",
    "\\end{equation}\n",
    "\n",
    "\\begin{equation}\n",
    "\\sum_{i=1}^N w_i x_i^2 = \\frac{100^2}{2.5} + \\frac{102^2}{4.5} + \\frac{98^2}{0.2} = 54332.00 \\nonumber\n",
    "\\end{equation}\n",
    "\n",
    "\\begin{equation}\n",
    "\\delta \\bar{x}_{systematic} = \\frac{3}{5.62222} = 0.53 \\nonumber\n",
    "\\end{equation}\n",
    "\n",
    "\\begin{equation}\n",
    "\\delta \\bar{x}_{statistical} = \\sqrt{ \\left( \\frac{54332.00}{5.62222} - (98.3004)^2 \\right)   \\frac{1}{3-1} } = 0.64 \\nonumber\n",
    "\\end{equation}\n",
    "\n",
    "\\begin{equation}\n",
    "\\delta \\bar{x} = 0.53 + 0.64 = 1.17\\nonumber\n",
    "\\end{equation}\n",
    "\n",
    "Thus, we would quote the weighted average as $\\bar{x} = 98.3 \\pm 1.2$.\n",
    "\n",
    "We can write a python function to do all of this!  It will take the $x$ and $\\delta x$ measurements as numpy array inputs, together with the $type$ of uncertainty (i.e. uniform=1 or Gaussian=2), and will return $\\bar{x}$ and $\\delta \\bar{x}$.  We will call this function weighted_average().\n",
    "\n",
    "We will also write a function, which will be useful in these examples, which will also return the effective degrees of freedom and a correction factor so that we can compare to the Python stats package's curve_fit() function.  We will call this function weighted_average_full().\n",
    "\n",
    "Both of these functions are included in the P201_Functions.py, and we can use this throughout the course to calculate weighted averages and uncertainties!!!!!!"
   ]
  },
  {
   "cell_type": "markdown",
   "metadata": {},
   "source": [
    "# Example 1: Unequal Uncertainties, unqual value, as above"
   ]
  },
  {
   "cell_type": "code",
   "execution_count": 1,
   "metadata": {},
   "outputs": [],
   "source": [
    "# Import Numpy, Pandas, and MatPlotLib with standard names\n",
    "import pandas as pd\n",
    "import numpy as np\n",
    "import matplotlib.pyplot as plt\n",
    "\n",
    "import sys; sys.path.insert(0, '..')\n",
    "import P201_FunctionsSystematic as p201"
   ]
  },
  {
   "cell_type": "code",
   "execution_count": 2,
   "metadata": {},
   "outputs": [
    {
     "name": "stdout",
     "output_type": "stream",
     "text": [
      "\n",
      "Average Density (Uniform) = 98.3004 +/- 0.6429 g/cm^3 (stat.) +/- 0.5336 g/cm^3 (syst.)\n",
      "\n",
      "\n",
      "Average Density (Gaussian) = 98.0205 +/- 0.1678 g/cm^3 (stat.) +/- 0.0687 g/cm^3 (syst.) \n"
     ]
    }
   ],
   "source": [
    "x = np.array([100.0,102.0,98.0])\n",
    "deltax = np.array([2.5,4.5,0.2])\n",
    "\n",
    "xbar,delta_xbar_stat,delta_xbar_syst = p201.weighted_average(x,deltax,1)\n",
    "\n",
    "print (\"\")\n",
    "print (\"Average Density (Uniform) = %0.4f +/- %0.4f g/cm^3 (stat.) +/- %0.4f g/cm^3 (syst.)\" % \n",
    "       (xbar,delta_xbar_stat,delta_xbar_syst))\n",
    "print(\"\")\n",
    "\n",
    "xbar,delta_xbar_stat,delta_xbar_syst = p201.weighted_average(x,deltax,2)\n",
    "\n",
    "print (\"\")\n",
    "print (\"Average Density (Gaussian) = %0.4f +/- %0.4f g/cm^3 (stat.) +/- %0.4f g/cm^3 (syst.) \" % \n",
    "       (xbar,delta_xbar_stat,delta_xbar_syst))"
   ]
  },
  {
   "cell_type": "code",
   "execution_count": 4,
   "metadata": {},
   "outputs": [
    {
     "name": "stdout",
     "output_type": "stream",
     "text": [
      "Constant Fit: Coefficients (from curve_fit)\n",
      "[98.0205293]\n",
      "Constant Fit: Covariance Matrix (from curve_fit)\n",
      "[[0.02815418]]\n",
      "\n",
      "Constant Fit: Final Result: y = (98.02053 +/- 0.16779)\n",
      "\n"
     ]
    },
    {
     "data": {
      "image/png": "[encoded data removed]",
      "text/plain": [
       "<Figure size 432x288 with 1 Axes>"
      ]
     },
     "metadata": {
      "needs_background": "light"
     },
     "output_type": "display_data"
    },
    {
     "name": "stdout",
     "output_type": "stream",
     "text": [
      "Conclusion:  the value for the uncertainty that we get from the curve_fit() function\n",
      "             only includes that statistical error, and assumes Gaussian uncertainties!!!!\n"
     ]
    }
   ],
   "source": [
    "# Let's look at doing a constant fit\n",
    "# to these three data points using Python's stats curve_fit function)\n",
    "\n",
    "x_data = [1,2,3]\n",
    "y_data = x\n",
    "Delta_x = [0.001,0.001,0.001]\n",
    "Delta_y = deltax\n",
    "\n",
    "# Creates the base plot with titles\n",
    "plt.errorbar(x_data,y_data,Delta_y,Delta_x,'b.',label='Raw Data')\n",
    "plt.ylabel('Measurent')\n",
    "plt.xlabel('Measurement Number')\n",
    "plt.title('Constant Fit')\n",
    "\n",
    "# Takes the x and y values to make a trendline\n",
    "intercept,dintercept = p201.constant_fit_plot_errors(x_data,y_data,Delta_y,plt)\n",
    "\n",
    "# Adds the legend to the plot\n",
    "plt.legend()\n",
    "\n",
    "# Displays the plot\n",
    "plt.show()\n",
    "\n",
    "print(\"Conclusion:  the value for the uncertainty that we get from the curve_fit() function\")\n",
    "print(\"             only includes that statistical error, and assumes Gaussian uncertainties!!!!\")"
   ]
  },
  {
   "cell_type": "markdown",
   "metadata": {},
   "source": [
    "# Example 2: Equal Uncertainties, unequal values"
   ]
  },
  {
   "cell_type": "code",
   "execution_count": 5,
   "metadata": {},
   "outputs": [
    {
     "name": "stdout",
     "output_type": "stream",
     "text": [
      "\n",
      "Average Density (Uniform) = 100.0000 +/- 1.1547 g/cm^3 (stat.) +/- 2.0000 g/cm^3 (syst.)\n",
      "\n",
      "\n",
      "Average Density (Gaussian) = 100.0000 +/- 1.1547 g/cm^3 (stat.) +/- 2.3094 g/cm^3 (syst.) \n",
      "Constant Fit: Coefficients (from curve_fit)\n",
      "[100.]\n",
      "Constant Fit: Covariance Matrix (from curve_fit)\n",
      "[[1.33333333]]\n",
      "\n",
      "Constant Fit: Final Result: y = (100.00000 +/- 1.15470)\n",
      "\n"
     ]
    },
    {
     "data": {
      "image/png": "[encoded data removed]",
      "text/plain": [
       "<Figure size 432x288 with 1 Axes>"
      ]
     },
     "metadata": {
      "needs_background": "light"
     },
     "output_type": "display_data"
    }
   ],
   "source": [
    "x = np.array([100.0,102.0,98.0])\n",
    "deltax = np.array([2.0,2.0,2.0])\n",
    "\n",
    "xbar,delta_xbar_stat,delta_xbar_syst = p201.weighted_average(x,deltax,1)\n",
    "\n",
    "print (\"\")\n",
    "print (\"Average Density (Uniform) = %0.4f +/- %0.4f g/cm^3 (stat.) +/- %0.4f g/cm^3 (syst.)\" % \n",
    "       (xbar,delta_xbar_stat,delta_xbar_syst))\n",
    "print(\"\")\n",
    "\n",
    "xbar,delta_xbar_stat,delta_xbar_syst = p201.weighted_average(x,deltax,2)\n",
    "\n",
    "print (\"\")\n",
    "print (\"Average Density (Gaussian) = %0.4f +/- %0.4f g/cm^3 (stat.) +/- %0.4f g/cm^3 (syst.) \" % \n",
    "       (xbar,delta_xbar_stat,delta_xbar_syst))\n",
    "\n",
    "x_data = [1,2,3]\n",
    "y_data = x\n",
    "Delta_x = [0.001,0.001,0.001]\n",
    "Delta_y = deltax\n",
    "\n",
    "# Creates the base plot with titles\n",
    "plt.errorbar(x_data,y_data,Delta_y,Delta_x,'b.',label='Raw Data')\n",
    "plt.ylabel('Measurent')\n",
    "plt.xlabel('Measurement Number')\n",
    "plt.title('Constant Fit')\n",
    "\n",
    "# Takes the x and y values to make a trendline\n",
    "intercept,dintercept = p201.constant_fit_plot_errors(x_data,y_data,Delta_y,plt)\n",
    "\n",
    "# Adds the legend to the plot\n",
    "plt.legend()\n",
    "\n",
    "# Displays the plot\n",
    "plt.show()"
   ]
  },
  {
   "cell_type": "markdown",
   "metadata": {},
   "source": [
    "\\begin{equation}\n",
    "(\\frac{\\delta x}{x})^2 = \\frac{1}{9} \\left( (\\frac{\\delta x_1}{x_1})^2 + (\\frac{\\delta x_2}{x_2})^2 + (\\frac{\\delta x_3}{x_3})^2 \\right )\n",
    "\\end{equation}\n",
    "\n",
    "\\begin{equation}\n",
    "(\\frac{\\delta x}{x})^2 = \\frac{1}{9} \\left( (\\frac{2.0}{100.0})^2 + (\\frac{2.0}{102.0})^2 + (\\frac{2.0}{98.0})^2 \\right )\n",
    "\\end{equation}\n",
    "\n",
    "\\begin{equation}\n",
    "\\frac{\\delta x}{x} = \\sqrt{0.000013304} = 0.0115 \\\\\n",
    "\\delta x = 100.0(0.0115) = 1.155\n",
    "\\end{equation}"
   ]
  },
  {
   "cell_type": "markdown",
   "metadata": {},
   "source": [
    "# Example 3: Unqual Uncertainties, equal values"
   ]
  },
  {
   "cell_type": "code",
   "execution_count": 6,
   "metadata": {},
   "outputs": [
    {
     "name": "stdout",
     "output_type": "stream",
     "text": [
      "\n",
      "Average Density (Uniform) = 100.0000 +/- 0.0000 g/cm^3 (stat.) +/- 0.5336 g/cm^3 (syst.)\n",
      "\n",
      "\n",
      "Average Density (Gaussian) = 100.0000 +/- 0.0000 g/cm^3 (stat.) +/- 0.0687 g/cm^3 (syst.) \n",
      "Constant Fit: Coefficients (from curve_fit)\n",
      "[100.]\n",
      "Constant Fit: Covariance Matrix (from curve_fit)\n",
      "[[0.]]\n",
      "\n",
      "Constant Fit: Final Result: y = (100.00000 +/- 0.00000)\n",
      "\n"
     ]
    },
    {
     "data": {
      "image/png": "[encoded data removed]",
      "text/plain": [
       "<Figure size 432x288 with 1 Axes>"
      ]
     },
     "metadata": {
      "needs_background": "light"
     },
     "output_type": "display_data"
    }
   ],
   "source": [
    "x = np.array([100.00,100.00,100.00])\n",
    "deltax = np.array([2.5,4.5,.2])\n",
    "\n",
    "xbar,delta_xbar_stat,delta_xbar_syst = p201.weighted_average(x,deltax,1)\n",
    "\n",
    "print (\"\")\n",
    "print (\"Average Density (Uniform) = %0.4f +/- %0.4f g/cm^3 (stat.) +/- %0.4f g/cm^3 (syst.)\" % \n",
    "       (xbar,delta_xbar_stat,delta_xbar_syst))\n",
    "print(\"\")\n",
    "\n",
    "xbar,delta_xbar_stat,delta_xbar_syst = p201.weighted_average(x,deltax,2)\n",
    "\n",
    "print (\"\")\n",
    "print (\"Average Density (Gaussian) = %0.4f +/- %0.4f g/cm^3 (stat.) +/- %0.4f g/cm^3 (syst.) \" % \n",
    "       (xbar,delta_xbar_stat,delta_xbar_syst))\n",
    "\n",
    "x_data = [1,2,3]\n",
    "y_data = x\n",
    "Delta_x = [0.001,0.001,0.001]\n",
    "Delta_y = deltax\n",
    "\n",
    "# Creates the base plot with titles\n",
    "plt.errorbar(x_data,y_data,Delta_y,Delta_x,'b.',label='Raw Data')\n",
    "plt.ylabel('Measurent')\n",
    "plt.xlabel('Measurement Number')\n",
    "plt.title('Constant Fit')\n",
    "\n",
    "# Takes the x and y values to make a trendline\n",
    "intercept,dintercept = p201.constant_fit_plot_errors(x_data,y_data,Delta_y,plt)\n",
    "\n",
    "# Adds the legend to the plot\n",
    "plt.legend()\n",
    "\n",
    "# Displays the plot\n",
    "plt.show()\n",
    "\n"
   ]
  },
  {
   "cell_type": "code",
   "execution_count": null,
   "metadata": {},
   "outputs": [],
   "source": []
  }
 ],
 "metadata": {
  "kernelspec": {
   "display_name": "Python 3",
   "language": "python",
   "name": "python3"
  },
  "language_info": {
   "codemirror_mode": {
    "name": "ipython",
    "version": 3
   },
   "file_extension": ".py",
   "mimetype": "text/x-python",
   "name": "python",
   "nbconvert_exporter": "python",
   "pygments_lexer": "ipython3",
   "version": "3.6.8"
  }
 },
 "nbformat": 4,
 "nbformat_minor": 4
}
