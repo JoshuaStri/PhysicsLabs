{
 "cells": [
  {
   "cell_type": "markdown",
   "metadata": {},
   "source": [
    "# JupiterLab Intro\n",
    "    Date: 20220601\n",
    "    Class: PHYS 201L\n",
    "    Name: Nathaniel Mackenzie\n",
    "    Groupmates: N/A"
   ]
  },
  {
   "cell_type": "markdown",
   "metadata": {},
   "source": [
    "## Deliverale 1:\n",
    "This is my first physics course in college.\n",
    "I believe my program requires calculus-based physics because it solidifies students' understanding of basic principles of mechanics through mathematically enlightening processes and introduces experimental techniques, data analysis, and technical report writing.\n",
    "I am worried aout my ability to understand the instructions in this course.\n",
    "I have worked with no one in this class before."
   ]
  },
  {
   "cell_type": "markdown",
   "metadata": {},
   "source": [
    "## Deliverable 2:\n",
    "**Pythagorean Formula:**\n",
    "\n",
    "$ c = \\sqrt{a^2 + b^2} $\n",
    "\n",
    "**Quadriatic Formula:**\n",
    "\n",
    "$ \\frac{-b\\pm\\sqrt{b^2 - 4ac}}{2a} $"
   ]
  },
  {
   "cell_type": "markdown",
   "metadata": {},
   "source": [
    "## Deliverable 3:"
   ]
  },
  {
   "cell_type": "code",
   "execution_count": 1,
   "metadata": {},
   "outputs": [
    {
     "name": "stdout",
     "output_type": "stream",
     "text": [
      "Name:\tNathaniel Mackenzie\n",
      "PMT:\tI like Trains\n"
     ]
    }
   ],
   "source": [
    "print('Name:\\tNathaniel Mackenzie\\nPMT:\\tI like Trains')"
   ]
  },
  {
   "cell_type": "code",
   "execution_count": 2,
   "metadata": {},
   "outputs": [
    {
     "data": {
      "text/plain": [
       "15.78135244521204"
      ]
     },
     "execution_count": 2,
     "metadata": {},
     "output_type": "execute_result"
    }
   ],
   "source": [
    "import math as m\n",
    "m.sqrt(14.494**2 + 6.243**2)"
   ]
  },
  {
   "cell_type": "code",
   "execution_count": 3,
   "metadata": {},
   "outputs": [
    {
     "name": "stdout",
     "output_type": "stream",
     "text": [
      "15.78135244521204\n"
     ]
    }
   ],
   "source": [
    "import numpy as np\n",
    "vMag = np.sqrt(np.power(14.494,2)+ np.power(6.243,2))\n",
    "print(vMag)"
   ]
  },
  {
   "cell_type": "markdown",
   "metadata": {},
   "source": [
    "$$ -0.015 v^2 -0.08 * 170 *\\cos{(25^\\circ)} + 170* \\sin{(25^\\circ)} = -5.280$$\n",
    "\n",
    "$$ -0.08 * 170 *\\cos{(25^\\circ)} + 170* \\sin{(25^\\circ)} + 5.280 = 0.015 v^2 $$\n",
    "\n",
    "$$ \\frac{-0.08 * 170 *\\cos{(25^\\circ)} + 170* \\sin{(25^\\circ)} + 5.280}{ 0.015 } = v^2 $$\n",
    "\n",
    "$$ \\pm\\sqrt{\\frac{-0.08 * 170 *\\cos{(25^\\circ)} + 170* \\sin{(25^\\circ)} + 5.280}{ 0.015 }} = v $$\n"
   ]
  },
  {
   "cell_type": "code",
   "execution_count": 4,
   "metadata": {},
   "outputs": [
    {
     "name": "stdout",
     "output_type": "stream",
     "text": [
      "v = 65.7263613234043\n"
     ]
    }
   ],
   "source": [
    "v = np.sqrt((-0.08*170 *np.cos(np.deg2rad(25)) + 170* np.sin(np.deg2rad(25)) + 5.280)/(0.015))\n",
    "print('v =',v)"
   ]
  }
 ],
 "metadata": {
  "kernelspec": {
   "display_name": "Python 3",
   "language": "python",
   "name": "python3"
  },
  "language_info": {
   "codemirror_mode": {
    "name": "ipython",
    "version": 3
   },
   "file_extension": ".py",
   "mimetype": "text/x-python",
   "name": "python",
   "nbconvert_exporter": "python",
   "pygments_lexer": "ipython3",
   "version": "3.6.8"
  }
 },
 "nbformat": 4,
 "nbformat_minor": 2
}
