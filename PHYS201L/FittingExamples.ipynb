{
 "cells": [
  {
   "cell_type": "markdown",
   "metadata": {},
   "source": [
    "# Fitting Stuff\n",
    "\n",
    "The generic physics experiment goes as follows:  we measure some quantity, $y$, as a function of some other quantity, $x$.  We plot that data, and then we attempt to find a function, $y_{fit} = f(x)$ that best describes the data.\n",
    "\n",
    "In addition, in most (maybe all?) experiments, we have uncertainties,$\\delta y$, associated with each data point.  We should understand more about how this affects the fitting procedure.\n",
    "\n",
    "One of the oldest and still more relied upon methods for determining the optimal parameters of the fitting function is a method called \"Ordinary Least Squares\".  The basic theory behind this is.  We first define a measure of the goodness of the fit:\n",
    "\n",
    "$\\chi^2 = \\sum_i^N (y_i - y_{fit}(x_i))^2$\n",
    "\n",
    "Note that $y_{fit}(x)$ necessarily depends on some number of parameters, $(a,b,c,...)$. For example, for a quadratic fitting function, we might have that:\n",
    "\n",
    "$y_{fit}(x) = a x^2 + b x + c$\n",
    "\n",
    "In order to make $\\chi^2$ as small as possible, i.e. find its $minimum$ value, we must solve the set of equations defined by:\n",
    "\n",
    "$\\frac{\\partial \\chi^2}{\\partial a} = 0, \\frac{\\partial \\chi^2}{\\partial b} = 0, \\frac{\\partial \\chi^2}{\\partial c} = 0, ...$\n",
    "\n",
    "As it turns out, is the case of polynomial fitting functions (of any order), the values of the polynomial coefficients are uniquely defined.  That is, there is a single global minimum in the $\\chi^2$ function.  For other non-linear fitting functions, there may be local minima in the $\\chi^2$ function, and this requires that we provide initial starting values for the parameters of the fitting function that are close to the global minimum.\n",
    "\n",
    "When we have uncertainties for each of the $N$ data points, the definition of $\\chi^2$ becomes:\n",
    "\n",
    "$\\chi^2 = \\sum_i^N \\left (\\frac{y_i - y_{fit}(x_i)}{\\sigma_i}\\right)^2$"
   ]
  },
  {
   "cell_type": "markdown",
   "metadata": {},
   "source": [
    "### Let us now investigate how uncertainties affect both (a) the fit parameters and (b) the confidence interval on the fit."
   ]
  },
  {
   "cell_type": "code",
   "execution_count": 4,
   "metadata": {},
   "outputs": [],
   "source": [
    "import numpy as np\n",
    "import pandas as pd\n",
    "import matplotlib.pyplot as plt\n",
    "import scipy.stats as stats\n",
    "\n",
    "#add a line for github testing"
   ]
  },
  {
   "cell_type": "code",
   "execution_count": 5,
   "metadata": {},
   "outputs": [],
   "source": [
    "# create some fake data\n",
    "\n",
    "npts = 11\n",
    "xlow = 0.5\n",
    "xhigh = 5.5\n",
    "\n",
    "xi = np.linspace(xlow,xhigh,npts)\n",
    "yrandom = stats.norm.rvs(size=npts,loc=0,scale=.2)\n",
    "yi = xi + yrandom"
   ]
  },
  {
   "cell_type": "code",
   "execution_count": 6,
   "metadata": {},
   "outputs": [
    {
     "data": {
      "text/plain": [
       "[<matplotlib.lines.Line2D at 0x7f43441ba240>]"
      ]
     },
     "execution_count": 6,
     "metadata": {},
     "output_type": "execute_result"
    },
    {
     "data": {
      "image/png": "[encoded data removed]",
      "text/plain": [
       "<Figure size 432x288 with 1 Axes>"
      ]
     },
     "metadata": {
      "needs_background": "light"
     },
     "output_type": "display_data"
    }
   ],
   "source": [
    "plt.plot(xi,yi,'o')"
   ]
  },
  {
   "cell_type": "markdown",
   "metadata": {},
   "source": [
    "## Case 1:  Linear Fit with No Uncertainties"
   ]
  },
  {
   "cell_type": "code",
   "execution_count": 7,
   "metadata": {},
   "outputs": [
    {
     "name": "stdout",
     "output_type": "stream",
     "text": [
      "Coefficients (from curve_fit)\n",
      "[0.0712269  0.99736774]\n",
      "Covariance Matrix (from curve_fit)\n",
      "[[ 0.01417328 -0.00369738]\n",
      " [-0.00369738  0.00123246]]\n",
      "\n",
      "Final Result: y = (1.00 +/- 0.04) x + (0.07 +/- 0.12)\n"
     ]
    },
    {
     "data": {
      "image/png": "[encoded data removed]",
      "text/plain": [
       "<Figure size 432x288 with 1 Axes>"
      ]
     },
     "metadata": {
      "needs_background": "light"
     },
     "output_type": "display_data"
    }
   ],
   "source": [
    "from scipy.optimize import curve_fit\n",
    "\n",
    "# define a linear fit function\n",
    "def fitfunction(x,*paramlist):\n",
    "    return paramlist[0]+paramlist[1]*x\n",
    "\n",
    "# initialize the parameters of the fitting function (to zero)\n",
    "init_vals = [0.0 for x in range(2)]\n",
    "\n",
    "# call the curve fitting routine, passing to it the name of the fitting function,\n",
    "# the data to be fit (x,y), and the array of initial values of the parameters. Curve_fit\n",
    "# returns an array of the optimized parameters (popt), and the covariance matrix\n",
    "# of the fit.  The errors on the fit parameters are given by the square root of the diagonal\n",
    "# elements of the covariance matrix!\n",
    "popt, pcov = curve_fit(fitfunction,xi,yi,p0=init_vals)\n",
    "perr = np.sqrt(np.diag(pcov))\n",
    "\n",
    "# We want to visualize not only the line of best fit, but also the lines that correspond\n",
    "# to \"band\" of fit lines that correspond to the 95% confidence level of the fit.\n",
    "#\n",
    "# I am not going to go into great detail on how this works here :)  If you want to learn\n",
    "# more about this, I suggest you take Physics 421 or 441 at some point!\n",
    "#\n",
    "ps = np.random.multivariate_normal(popt,pcov,10000)\n",
    "ysample=np.asarray([fitfunction(xi,*pi) for pi in ps])\n",
    "lower = np.percentile(ysample,2.5,axis=0)\n",
    "upper = np.percentile(ysample,97.5,axis=0)\n",
    "middle = (lower+upper)/2.0\n",
    "\n",
    "plt.plot(xi,yi,'o')\n",
    "\n",
    "plt.plot(xi,middle)\n",
    "plt.plot(xi,lower)\n",
    "plt.plot(xi,upper)\n",
    "plt.show()\n",
    "\n",
    "\n",
    "# Finally print out the coefficients, covariance matrix, and final results!\n",
    "print(\"Coefficients (from curve_fit)\")\n",
    "print (popt)\n",
    "print(\"Covariance Matrix (from curve_fit)\")\n",
    "print (pcov)\n",
    "\n",
    "print()\n",
    "print (\"Final Result: y = (%0.2f +/- %0.2f) x + (%0.2f +/- %0.2f)\" % (popt[1],perr[1],popt[0],perr[0]))\n",
    "\n",
    "# Since we are going to be comparing the results of fitting different data sets, create\n",
    "# and stat to fill some arrays to hold the fit results - (slope +/- dslope), (yint +/ dyint)\n",
    "slope = []\n",
    "dslope = []\n",
    "yint = []\n",
    "dyint = []\n",
    "type = []\n",
    "\n",
    "slope.append(popt[1])\n",
    "dslope.append(perr[1])\n",
    "yint.append(popt[0])\n",
    "dyint.append(perr[0])\n",
    "type.append('None')"
   ]
  },
  {
   "cell_type": "markdown",
   "metadata": {},
   "source": [
    "## Case 2:  Linear Fit with Uniform Uncertainties"
   ]
  },
  {
   "cell_type": "code",
   "execution_count": 8,
   "metadata": {},
   "outputs": [
    {
     "data": {
      "text/plain": [
       "<ErrorbarContainer object of 3 artists>"
      ]
     },
     "execution_count": 8,
     "metadata": {},
     "output_type": "execute_result"
    },
    {
     "data": {
      "image/png": "[encoded data removed]",
      "text/plain": [
       "<Figure size 432x288 with 1 Axes>"
      ]
     },
     "metadata": {
      "needs_background": "light"
     },
     "output_type": "display_data"
    }
   ],
   "source": [
    "sigmai = np.array([0.5 for i in range(npts)])\n",
    "plt.errorbar(xi, yi, yerr=sigmai, fmt='o', capsize=5, capthick=2)"
   ]
  },
  {
   "cell_type": "code",
   "execution_count": 9,
   "metadata": {},
   "outputs": [
    {
     "name": "stdout",
     "output_type": "stream",
     "text": [
      "Coefficients (from curve_fit)\n",
      "[0.0712269  0.99736774]\n",
      "Covariance Matrix (from curve_fit)\n",
      "[[ 0.01417328 -0.00369738]\n",
      " [-0.00369738  0.00123246]]\n",
      "\n",
      "Final Result: y = (1.00 +/- 0.04) x + (0.07 +/- 0.12)\n"
     ]
    },
    {
     "data": {
      "image/png": "[encoded data removed]",
      "text/plain": [
       "<Figure size 432x288 with 1 Axes>"
      ]
     },
     "metadata": {
      "needs_background": "light"
     },
     "output_type": "display_data"
    }
   ],
   "source": [
    "init_vals = [0.0 for x in range(2)]\n",
    "popt, pcov = curve_fit(fitfunction,xi,yi,p0=init_vals,sigma=sigmai)\n",
    "perr = np.sqrt(np.diag(pcov))\n",
    "\n",
    "ps = np.random.multivariate_normal(popt,pcov,10000)\n",
    "ysample=np.asarray([fitfunction(xi,*pi) for pi in ps])\n",
    "\n",
    "lower = np.percentile(ysample,2.5,axis=0)\n",
    "upper = np.percentile(ysample,97.5,axis=0)\n",
    "middle = (lower+upper)/2.0\n",
    "\n",
    "print(\"Coefficients (from curve_fit)\")\n",
    "print (popt)\n",
    "print(\"Covariance Matrix (from curve_fit)\")\n",
    "print (pcov)\n",
    "\n",
    "print()\n",
    "print (\"Final Result: y = (%0.2f +/- %0.2f) x + (%0.2f +/- %0.2f)\" % (popt[1],perr[1],popt[0],perr[0]))\n",
    "\n",
    "plt.errorbar(xi, yi, yerr=sigmai, fmt='o', capsize=5, capthick=2)\n",
    "\n",
    "plt.plot(xi,middle)\n",
    "plt.plot(xi,lower)\n",
    "plt.plot(xi,upper)\n",
    "plt.show()\n",
    "\n",
    "slope.append(popt[1])\n",
    "dslope.append(perr[1])\n",
    "yint.append(popt[0])\n",
    "dyint.append(perr[0])\n",
    "type.append('Uniform')"
   ]
  },
  {
   "cell_type": "markdown",
   "metadata": {},
   "source": [
    "## Case 3:  Linear Fit with Increasing Uncertainties"
   ]
  },
  {
   "cell_type": "code",
   "execution_count": 12,
   "metadata": {},
   "outputs": [
    {
     "data": {
      "text/plain": [
       "<ErrorbarContainer object of 3 artists>"
      ]
     },
     "execution_count": 12,
     "metadata": {},
     "output_type": "execute_result"
    },
    {
     "data": {
      "image/png": "[encoded data removed]",
      "text/plain": [
       "<Figure size 432x288 with 1 Axes>"
      ]
     },
     "metadata": {
      "needs_background": "light"
     },
     "output_type": "display_data"
    }
   ],
   "source": [
    "xl = xlow + 0.1\n",
    "sigmai = np.array([0.1 + 0.25*(xi[i]-xl) for i in range(npts)])\n",
    "plt.errorbar(xi, yi, yerr=sigmai, fmt='o', capsize=5, capthick=2)"
   ]
  },
  {
   "cell_type": "code",
   "execution_count": 13,
   "metadata": {},
   "outputs": [
    {
     "name": "stdout",
     "output_type": "stream",
     "text": [
      "Coefficients (from curve_fit)\n",
      "[-0.01303843  1.05337415]\n",
      "Covariance Matrix (from curve_fit)\n",
      "[[ 0.00302191 -0.00276437]\n",
      " [-0.00276437  0.00353756]]\n",
      "\n",
      "Final Result: y = (1.05 +/- 0.06) x + (-0.01 +/- 0.05)\n"
     ]
    },
    {
     "data": {
      "image/png": "[encoded data removed]",
      "text/plain": [
       "<Figure size 432x288 with 1 Axes>"
      ]
     },
     "metadata": {
      "needs_background": "light"
     },
     "output_type": "display_data"
    }
   ],
   "source": [
    "init_vals = [0.0 for x in range(2)]\n",
    "popt, pcov = curve_fit(fitfunction,xi,yi,p0=init_vals,sigma=sigmai)\n",
    "perr = np.sqrt(np.diag(pcov))\n",
    "\n",
    "ps = np.random.multivariate_normal(popt,pcov,10000)\n",
    "ysample=np.asarray([fitfunction(xi,*pi) for pi in ps])\n",
    "\n",
    "lower = np.percentile(ysample,2.5,axis=0)\n",
    "upper = np.percentile(ysample,97.5,axis=0)\n",
    "middle = (lower+upper)/2.0\n",
    "\n",
    "print(\"Coefficients (from curve_fit)\")\n",
    "print (popt)\n",
    "print(\"Covariance Matrix (from curve_fit)\")\n",
    "print (pcov)\n",
    "\n",
    "print()\n",
    "print (\"Final Result: y = (%0.2f +/- %0.2f) x + (%0.2f +/- %0.2f)\" % (popt[1],perr[1],popt[0],perr[0]))\n",
    "\n",
    "plt.errorbar(xi, yi, yerr=sigmai, fmt='o', capsize=5, capthick=2)\n",
    "\n",
    "plt.plot(xi,middle)\n",
    "plt.plot(xi,lower)\n",
    "plt.plot(xi,upper)\n",
    "plt.show()\n",
    "\n",
    "slope.append(popt[1])\n",
    "dslope.append(perr[1])\n",
    "yint.append(popt[0])\n",
    "dyint.append(perr[0])\n",
    "type.append('Increasing')"
   ]
  },
  {
   "cell_type": "markdown",
   "metadata": {},
   "source": [
    "## Case 4:  Linear Fit with Increasing Uncertainties at Endpoints"
   ]
  },
  {
   "cell_type": "code",
   "execution_count": 14,
   "metadata": {},
   "outputs": [
    {
     "data": {
      "text/plain": [
       "<ErrorbarContainer object of 3 artists>"
      ]
     },
     "execution_count": 14,
     "metadata": {},
     "output_type": "execute_result"
    },
    {
     "data": {
      "image/png": "[encoded data removed]",
      "text/plain": [
       "<Figure size 432x288 with 1 Axes>"
      ]
     },
     "metadata": {
      "needs_background": "light"
     },
     "output_type": "display_data"
    }
   ],
   "source": [
    "sigmai = np.array([0.1+ 0.25*(xi[i]-xmid) for i in range(npts)])\n",
    "plt.errorbar(xi, yi, yerr=sigmai, fmt='o', capsize=5, capthick=2)"
   ]
  },
  {
   "cell_type": "code",
   "execution_count": 15,
   "metadata": {},
   "outputs": [
    {
     "name": "stdout",
     "output_type": "stream",
     "text": [
      "Coefficients (from curve_fit)\n",
      "[0.40530946 0.78204671]\n",
      "Covariance Matrix (from curve_fit)\n",
      "[[ 0.06104996 -0.04326828]\n",
      " [-0.04326828  0.03182552]]\n",
      "\n",
      "Final Result: y = (0.78 +/- 0.18) x + (0.41 +/- 0.25)\n"
     ]
    },
    {
     "data": {
      "image/png": "[encoded data removed]",
      "text/plain": [
       "<Figure size 432x288 with 1 Axes>"
      ]
     },
     "metadata": {
      "needs_background": "light"
     },
     "output_type": "display_data"
    }
   ],
   "source": [
    "init_vals = [0.0 for x in range(2)]\n",
    "popt, pcov = curve_fit(fitfunction,xi,yi,p0=init_vals,sigma=sigmai)\n",
    "perr = np.sqrt(np.diag(pcov))\n",
    "\n",
    "ps = np.random.multivariate_normal(popt,pcov,10000)\n",
    "ysample=np.asarray([fitfunction(xi,*pi) for pi in ps])\n",
    "\n",
    "lower = np.percentile(ysample,2.5,axis=0)\n",
    "upper = np.percentile(ysample,97.5,axis=0)\n",
    "middle = (lower+upper)/2.0\n",
    "\n",
    "print(\"Coefficients (from curve_fit)\")\n",
    "print (popt)\n",
    "print(\"Covariance Matrix (from curve_fit)\")\n",
    "print (pcov)\n",
    "\n",
    "print()\n",
    "print (\"Final Result: y = (%0.2f +/- %0.2f) x + (%0.2f +/- %0.2f)\" % (popt[1],perr[1],popt[0],perr[0]))\n",
    "\n",
    "plt.errorbar(xi, yi, yerr=sigmai, fmt='o', capsize=5, capthick=2)\n",
    "\n",
    "plt.plot(xi,middle)\n",
    "plt.plot(xi,lower)\n",
    "plt.plot(xi,upper)\n",
    "plt.show()\n",
    "\n",
    "slope.append(popt[1])\n",
    "dslope.append(perr[1])\n",
    "yint.append(popt[0])\n",
    "dyint.append(perr[0])\n",
    "type.append('Endpoints')"
   ]
  },
  {
   "cell_type": "markdown",
   "metadata": {},
   "source": [
    "## Preliminary Conclusions\n",
    "\n",
    "1. If the uncertainties are uniform, there is no impact on the uncertainties in the fit parameters, the uncertainties in the fit parameters, or the confidence bands.  This can be understood mathematically by considering the dependence of $\\chi^2$ on $\\sigma_i$; if all $\\sigma_i$ are the same, then there is no dependence of the derivatives of $\\chi^2$ on $\\sigma_i$.\n",
    "\n",
    "2. If the uncertainties are non-uniform, the resulting fit parameters and confidence bands will depend upon the $\\sigma_i$ in a complicated way!\n",
    "\n"
   ]
  },
  {
   "cell_type": "code",
   "execution_count": 16,
   "metadata": {},
   "outputs": [
    {
     "data": {
      "text/html": [
       "<div>\n",
       "<style scoped>\n",
       "    .dataframe tbody tr th:only-of-type {\n",
       "        vertical-align: middle;\n",
       "    }\n",
       "\n",
       "    .dataframe tbody tr th {\n",
       "        vertical-align: top;\n",
       "    }\n",
       "\n",
       "    .dataframe thead th {\n",
       "        text-align: right;\n",
       "    }\n",
       "</style>\n",
       "<table border=\"1\" class=\"dataframe\">\n",
       "  <thead>\n",
       "    <tr style=\"text-align: right;\">\n",
       "      <th></th>\n",
       "      <th>Fit Type</th>\n",
       "      <th>Slope</th>\n",
       "      <th>Error in Slope</th>\n",
       "      <th>Y Intercept</th>\n",
       "      <th>Error in Y Intercept</th>\n",
       "    </tr>\n",
       "  </thead>\n",
       "  <tbody>\n",
       "    <tr>\n",
       "      <th>0</th>\n",
       "      <td>None</td>\n",
       "      <td>0.997368</td>\n",
       "      <td>0.035106</td>\n",
       "      <td>0.071227</td>\n",
       "      <td>0.119052</td>\n",
       "    </tr>\n",
       "    <tr>\n",
       "      <th>1</th>\n",
       "      <td>Uniform</td>\n",
       "      <td>0.997368</td>\n",
       "      <td>0.035106</td>\n",
       "      <td>0.071227</td>\n",
       "      <td>0.119052</td>\n",
       "    </tr>\n",
       "    <tr>\n",
       "      <th>2</th>\n",
       "      <td>Increasing</td>\n",
       "      <td>1.053374</td>\n",
       "      <td>0.059477</td>\n",
       "      <td>-0.013038</td>\n",
       "      <td>0.054972</td>\n",
       "    </tr>\n",
       "    <tr>\n",
       "      <th>3</th>\n",
       "      <td>Endpoints</td>\n",
       "      <td>0.782047</td>\n",
       "      <td>0.178397</td>\n",
       "      <td>0.405309</td>\n",
       "      <td>0.247083</td>\n",
       "    </tr>\n",
       "  </tbody>\n",
       "</table>\n",
       "</div>"
      ],
      "text/plain": [
       "     Fit Type     Slope  Error in Slope  Y Intercept  Error in Y Intercept\n",
       "0        None  0.997368        0.035106     0.071227              0.119052\n",
       "1     Uniform  0.997368        0.035106     0.071227              0.119052\n",
       "2  Increasing  1.053374        0.059477    -0.013038              0.054972\n",
       "3   Endpoints  0.782047        0.178397     0.405309              0.247083"
      ]
     },
     "execution_count": 16,
     "metadata": {},
     "output_type": "execute_result"
    }
   ],
   "source": [
    "df = pd.DataFrame({'Fit Type':type, 'Slope':slope, 'Error in Slope':dslope, 'Y Intercept':yint, 'Error in Y Intercept':dyint})\n",
    "df.head()"
   ]
  },
  {
   "cell_type": "markdown",
   "metadata": {},
   "source": [
    "## Case 5:  Determining the Y-intercept with increasing uncertainties at small x\n",
    "\n",
    "In many experiments, the uncertainties increase as the independent variable ($x$) becomes small.  We seek to understand how best to design our experiment in these situations to optimize the determination of the y-intercept (at $x=0$)."
   ]
  },
  {
   "cell_type": "code",
   "execution_count": 17,
   "metadata": {},
   "outputs": [
    {
     "data": {
      "text/plain": [
       "<ErrorbarContainer object of 3 artists>"
      ]
     },
     "execution_count": 17,
     "metadata": {},
     "output_type": "execute_result"
    },
    {
     "data": {
      "image/png": "[encoded data removed]",
      "text/plain": [
       "<Figure size 432x288 with 1 Axes>"
      ]
     },
     "metadata": {
      "needs_background": "light"
     },
     "output_type": "display_data"
    }
   ],
   "source": [
    "sigmai = np.array([0.1+ 1.5/np.abs(xi[i]) for i in range(npts)])\n",
    "plt.errorbar(xi, yi, yerr=sigmai, fmt='o', capsize=5, capthick=2)"
   ]
  },
  {
   "cell_type": "code",
   "execution_count": 18,
   "metadata": {},
   "outputs": [
    {
     "name": "stdout",
     "output_type": "stream",
     "text": [
      "Coefficients (from curve_fit)\n",
      "[0.06661318 0.99655888]\n",
      "Covariance Matrix (from curve_fit)\n",
      "[[ 0.06159609 -0.02499446]\n",
      " [-0.02499446  0.01086609]]\n",
      "\n",
      "Final Result: y = (1.00 +/- 0.10) x + (0.07 +/- 0.25)\n"
     ]
    },
    {
     "data": {
      "image/png": "[encoded data removed]",
      "text/plain": [
       "<Figure size 432x288 with 1 Axes>"
      ]
     },
     "metadata": {
      "needs_background": "light"
     },
     "output_type": "display_data"
    }
   ],
   "source": [
    "init_vals = [0.0 for x in range(2)]\n",
    "popt, pcov = curve_fit(fitfunction,xi,yi,p0=init_vals,sigma=sigmai)\n",
    "perr = np.sqrt(np.diag(pcov))\n",
    "\n",
    "ps = np.random.multivariate_normal(popt,pcov,10000)\n",
    "ysample=np.asarray([fitfunction(xi,*pi) for pi in ps])\n",
    "\n",
    "lower = np.percentile(ysample,2.5,axis=0)\n",
    "upper = np.percentile(ysample,97.5,axis=0)\n",
    "middle = (lower+upper)/2.0\n",
    "\n",
    "print(\"Coefficients (from curve_fit)\")\n",
    "print (popt)\n",
    "print(\"Covariance Matrix (from curve_fit)\")\n",
    "print (pcov)\n",
    "\n",
    "print()\n",
    "print (\"Final Result: y = (%0.2f +/- %0.2f) x + (%0.2f +/- %0.2f)\" % (popt[1],perr[1],popt[0],perr[0]))\n",
    "\n",
    "plt.errorbar(xi, yi, yerr=sigmai, fmt='o', capsize=5, capthick=2)\n",
    "\n",
    "plt.plot(xi,middle)\n",
    "plt.plot(xi,lower)\n",
    "plt.plot(xi,upper)\n",
    "plt.show()\n",
    "\n",
    "slope.append(popt[1])\n",
    "dslope.append(perr[1])\n",
    "yint.append(popt[0])\n",
    "dyint.append(perr[0])\n",
    "type.append('Increasing at Small X')"
   ]
  },
  {
   "cell_type": "markdown",
   "metadata": {},
   "source": [
    "## Preliminary Conclusion:  our knowledge of the y-intercept is very limited!"
   ]
  },
  {
   "cell_type": "code",
   "execution_count": 19,
   "metadata": {},
   "outputs": [
    {
     "data": {
      "text/html": [
       "<div>\n",
       "<style scoped>\n",
       "    .dataframe tbody tr th:only-of-type {\n",
       "        vertical-align: middle;\n",
       "    }\n",
       "\n",
       "    .dataframe tbody tr th {\n",
       "        vertical-align: top;\n",
       "    }\n",
       "\n",
       "    .dataframe thead th {\n",
       "        text-align: right;\n",
       "    }\n",
       "</style>\n",
       "<table border=\"1\" class=\"dataframe\">\n",
       "  <thead>\n",
       "    <tr style=\"text-align: right;\">\n",
       "      <th></th>\n",
       "      <th>Fit Type</th>\n",
       "      <th>Slope</th>\n",
       "      <th>Error in Slope</th>\n",
       "      <th>Y Intercept</th>\n",
       "      <th>Error in Y Intercept</th>\n",
       "    </tr>\n",
       "  </thead>\n",
       "  <tbody>\n",
       "    <tr>\n",
       "      <th>0</th>\n",
       "      <td>None</td>\n",
       "      <td>0.997368</td>\n",
       "      <td>0.035106</td>\n",
       "      <td>0.071227</td>\n",
       "      <td>0.119052</td>\n",
       "    </tr>\n",
       "    <tr>\n",
       "      <th>1</th>\n",
       "      <td>Uniform</td>\n",
       "      <td>0.997368</td>\n",
       "      <td>0.035106</td>\n",
       "      <td>0.071227</td>\n",
       "      <td>0.119052</td>\n",
       "    </tr>\n",
       "    <tr>\n",
       "      <th>2</th>\n",
       "      <td>Increasing</td>\n",
       "      <td>1.053374</td>\n",
       "      <td>0.059477</td>\n",
       "      <td>-0.013038</td>\n",
       "      <td>0.054972</td>\n",
       "    </tr>\n",
       "    <tr>\n",
       "      <th>3</th>\n",
       "      <td>Endpoints</td>\n",
       "      <td>0.782047</td>\n",
       "      <td>0.178397</td>\n",
       "      <td>0.405309</td>\n",
       "      <td>0.247083</td>\n",
       "    </tr>\n",
       "    <tr>\n",
       "      <th>4</th>\n",
       "      <td>Increasing at Small X</td>\n",
       "      <td>0.996559</td>\n",
       "      <td>0.104241</td>\n",
       "      <td>0.066613</td>\n",
       "      <td>0.248186</td>\n",
       "    </tr>\n",
       "  </tbody>\n",
       "</table>\n",
       "</div>"
      ],
      "text/plain": [
       "                Fit Type     Slope  Error in Slope  Y Intercept  \\\n",
       "0                   None  0.997368        0.035106     0.071227   \n",
       "1                Uniform  0.997368        0.035106     0.071227   \n",
       "2             Increasing  1.053374        0.059477    -0.013038   \n",
       "3              Endpoints  0.782047        0.178397     0.405309   \n",
       "4  Increasing at Small X  0.996559        0.104241     0.066613   \n",
       "\n",
       "   Error in Y Intercept  \n",
       "0              0.119052  \n",
       "1              0.119052  \n",
       "2              0.054972  \n",
       "3              0.247083  \n",
       "4              0.248186  "
      ]
     },
     "execution_count": 19,
     "metadata": {},
     "output_type": "execute_result"
    }
   ],
   "source": [
    "df = pd.DataFrame({'Fit Type':type, 'Slope':slope, 'Error in Slope':dslope, 'Y Intercept':yint, 'Error in Y Intercept':dyint})\n",
    "df.head()"
   ]
  },
  {
   "cell_type": "markdown",
   "metadata": {},
   "source": [
    "## Case 6:   Decrease the range of x - Focus on the small x region\n",
    "\n",
    "What is the impact of taking the same amount of data as in the original experiment, but focusing on the small x region?"
   ]
  },
  {
   "cell_type": "code",
   "execution_count": 20,
   "metadata": {},
   "outputs": [
    {
     "data": {
      "text/plain": [
       "<ErrorbarContainer object of 3 artists>"
      ]
     },
     "execution_count": 20,
     "metadata": {},
     "output_type": "execute_result"
    },
    {
     "data": {
      "image/png": "[encoded data removed]",
      "text/plain": [
       "<Figure size 432x288 with 1 Axes>"
      ]
     },
     "metadata": {
      "needs_background": "light"
     },
     "output_type": "display_data"
    }
   ],
   "source": [
    "# create some fake data\n",
    "\n",
    "npts = 11\n",
    "xlow = 0.5\n",
    "xhigh = 3.0\n",
    "\n",
    "xl = xlow + 0.01\n",
    "xmid = (xhigh+xlow)/2.0+0.01\n",
    "\n",
    "xi = np.linspace(xlow,xhigh,npts)\n",
    "yi = xi + yrandom\n",
    "\n",
    "sigmai = np.array([0.1+ 1.5/np.abs(xi[i]) for i in range(npts)])\n",
    "plt.errorbar(xi, yi, yerr=sigmai, fmt='o', capsize=5, capthick=2)"
   ]
  },
  {
   "cell_type": "code",
   "execution_count": 21,
   "metadata": {},
   "outputs": [
    {
     "name": "stdout",
     "output_type": "stream",
     "text": [
      "Coefficients (from curve_fit)\n",
      "[0.06661318 0.99655888]\n",
      "Covariance Matrix (from curve_fit)\n",
      "[[ 0.06159609 -0.02499446]\n",
      " [-0.02499446  0.01086609]]\n",
      "\n",
      "Final Result: y = (1.00 +/- 0.10) x + (0.07 +/- 0.25)\n"
     ]
    },
    {
     "data": {
      "image/png": "[encoded data removed]",
      "text/plain": [
       "<Figure size 432x288 with 1 Axes>"
      ]
     },
     "metadata": {
      "needs_background": "light"
     },
     "output_type": "display_data"
    }
   ],
   "source": [
    "init_vals = [0.0 for x in range(2)]\n",
    "popt, pcov = curve_fit(fitfunction,xi,yi,p0=init_vals,sigma=sigmai)\n",
    "perr = np.sqrt(np.diag(pcov))\n",
    "\n",
    "ps = np.random.multivariate_normal(popt,pcov,10000)\n",
    "ysample=np.asarray([fitfunction(xi,*pi) for pi in ps])\n",
    "\n",
    "lower = np.percentile(ysample,2.5,axis=0)\n",
    "upper = np.percentile(ysample,97.5,axis=0)\n",
    "middle = (lower+upper)/2.0\n",
    "\n",
    "print(\"Coefficients (from curve_fit)\")\n",
    "print (popt)\n",
    "print(\"Covariance Matrix (from curve_fit)\")\n",
    "print (pcov)\n",
    "\n",
    "print()\n",
    "print (\"Final Result: y = (%0.2f +/- %0.2f) x + (%0.2f +/- %0.2f)\" % (popt[1],perr[1],popt[0],perr[0]))\n",
    "\n",
    "plt.errorbar(xi, yi, yerr=sigmai, fmt='o', capsize=5, capthick=2)\n",
    "\n",
    "plt.plot(xi,middle)\n",
    "plt.plot(xi,lower)\n",
    "plt.plot(xi,upper)\n",
    "plt.show()\n",
    "\n",
    "slope.append(popt[1])\n",
    "dslope.append(perr[1])\n",
    "yint.append(popt[0])\n",
    "dyint.append(perr[0])\n",
    "type.append('Small X Range')"
   ]
  },
  {
   "cell_type": "code",
   "execution_count": 22,
   "metadata": {},
   "outputs": [
    {
     "data": {
      "text/html": [
       "<div>\n",
       "<style scoped>\n",
       "    .dataframe tbody tr th:only-of-type {\n",
       "        vertical-align: middle;\n",
       "    }\n",
       "\n",
       "    .dataframe tbody tr th {\n",
       "        vertical-align: top;\n",
       "    }\n",
       "\n",
       "    .dataframe thead th {\n",
       "        text-align: right;\n",
       "    }\n",
       "</style>\n",
       "<table border=\"1\" class=\"dataframe\">\n",
       "  <thead>\n",
       "    <tr style=\"text-align: right;\">\n",
       "      <th></th>\n",
       "      <th>Fit Type</th>\n",
       "      <th>Slope</th>\n",
       "      <th>Error in Slope</th>\n",
       "      <th>Y Intercept</th>\n",
       "      <th>Error in Y Intercept</th>\n",
       "    </tr>\n",
       "  </thead>\n",
       "  <tbody>\n",
       "    <tr>\n",
       "      <th>0</th>\n",
       "      <td>None</td>\n",
       "      <td>0.997368</td>\n",
       "      <td>0.035106</td>\n",
       "      <td>0.071227</td>\n",
       "      <td>0.119052</td>\n",
       "    </tr>\n",
       "    <tr>\n",
       "      <th>1</th>\n",
       "      <td>Uniform</td>\n",
       "      <td>0.997368</td>\n",
       "      <td>0.035106</td>\n",
       "      <td>0.071227</td>\n",
       "      <td>0.119052</td>\n",
       "    </tr>\n",
       "    <tr>\n",
       "      <th>2</th>\n",
       "      <td>Increasing</td>\n",
       "      <td>1.053374</td>\n",
       "      <td>0.059477</td>\n",
       "      <td>-0.013038</td>\n",
       "      <td>0.054972</td>\n",
       "    </tr>\n",
       "    <tr>\n",
       "      <th>3</th>\n",
       "      <td>Endpoints</td>\n",
       "      <td>0.782047</td>\n",
       "      <td>0.178397</td>\n",
       "      <td>0.405309</td>\n",
       "      <td>0.247083</td>\n",
       "    </tr>\n",
       "    <tr>\n",
       "      <th>4</th>\n",
       "      <td>Increasing at Small X</td>\n",
       "      <td>0.996559</td>\n",
       "      <td>0.104241</td>\n",
       "      <td>0.066613</td>\n",
       "      <td>0.248186</td>\n",
       "    </tr>\n",
       "    <tr>\n",
       "      <th>5</th>\n",
       "      <td>Small X Range</td>\n",
       "      <td>0.996559</td>\n",
       "      <td>0.104241</td>\n",
       "      <td>0.066613</td>\n",
       "      <td>0.248186</td>\n",
       "    </tr>\n",
       "  </tbody>\n",
       "</table>\n",
       "</div>"
      ],
      "text/plain": [
       "                Fit Type     Slope  Error in Slope  Y Intercept  \\\n",
       "0                   None  0.997368        0.035106     0.071227   \n",
       "1                Uniform  0.997368        0.035106     0.071227   \n",
       "2             Increasing  1.053374        0.059477    -0.013038   \n",
       "3              Endpoints  0.782047        0.178397     0.405309   \n",
       "4  Increasing at Small X  0.996559        0.104241     0.066613   \n",
       "5          Small X Range  0.996559        0.104241     0.066613   \n",
       "\n",
       "   Error in Y Intercept  \n",
       "0              0.119052  \n",
       "1              0.119052  \n",
       "2              0.054972  \n",
       "3              0.247083  \n",
       "4              0.248186  \n",
       "5              0.248186  "
      ]
     },
     "execution_count": 22,
     "metadata": {},
     "output_type": "execute_result"
    }
   ],
   "source": [
    "df = pd.DataFrame({'Fit Type':type, 'Slope':slope, 'Error in Slope':dslope, 'Y Intercept':yint, 'Error in Y Intercept':dyint})\n",
    "df.head(10)"
   ]
  },
  {
   "cell_type": "markdown",
   "metadata": {},
   "source": [
    "## Case 7:   Increase the range of x - create a larger lever arm\n",
    "\n",
    "What is the impact of taking the same amount of data as in the original experiment, but increasing the x range, so as to creat a larger lever arm?"
   ]
  },
  {
   "cell_type": "code",
   "execution_count": 23,
   "metadata": {},
   "outputs": [
    {
     "data": {
      "text/plain": [
       "<ErrorbarContainer object of 3 artists>"
      ]
     },
     "execution_count": 23,
     "metadata": {},
     "output_type": "execute_result"
    },
    {
     "data": {
      "image/png": "[encoded data removed]",
      "text/plain": [
       "<Figure size 432x288 with 1 Axes>"
      ]
     },
     "metadata": {
      "needs_background": "light"
     },
     "output_type": "display_data"
    }
   ],
   "source": [
    "# create some fake data\n",
    "\n",
    "npts = 11\n",
    "xlow = 0.5\n",
    "xhigh = 20.5\n",
    "\n",
    "xl = xlow + 0.01\n",
    "xmid = (xhigh+xlow)/2.0+0.01\n",
    "\n",
    "xi = np.linspace(xlow,xhigh,npts)\n",
    "yi = xi + yrandom\n",
    "\n",
    "sigmai = np.array([0.1+ 1.5/np.abs(xi[i]) for i in range(npts)])\n",
    "plt.errorbar(xi, yi, yerr=sigmai, fmt='o', capsize=5, capthick=2)"
   ]
  },
  {
   "cell_type": "code",
   "execution_count": 24,
   "metadata": {},
   "outputs": [
    {
     "name": "stdout",
     "output_type": "stream",
     "text": [
      "Coefficients (from curve_fit)\n",
      "[0.09339555 0.99765842]\n",
      "Covariance Matrix (from curve_fit)\n",
      "[[ 0.04344568 -0.00268039]\n",
      " [-0.00268039  0.00018231]]\n",
      "\n",
      "Final Result: y = (1.00 +/- 0.01) x + (0.09 +/- 0.21)\n"
     ]
    },
    {
     "data": {
      "image/png": "[encoded data removed]",
      "text/plain": [
       "<Figure size 432x288 with 1 Axes>"
      ]
     },
     "metadata": {
      "needs_background": "light"
     },
     "output_type": "display_data"
    }
   ],
   "source": [
    "init_vals = [0.0 for x in range(2)]\n",
    "popt, pcov = curve_fit(fitfunction,xi,yi,p0=init_vals,sigma=sigmai)\n",
    "perr = np.sqrt(np.diag(pcov))\n",
    "\n",
    "ps = np.random.multivariate_normal(popt,pcov,10000)\n",
    "ysample=np.asarray([fitfunction(xi,*pi) for pi in ps])\n",
    "\n",
    "lower = np.percentile(ysample,2.5,axis=0)\n",
    "upper = np.percentile(ysample,97.5,axis=0)\n",
    "middle = (lower+upper)/2.0\n",
    "\n",
    "print(\"Coefficients (from curve_fit)\")\n",
    "print (popt)\n",
    "print(\"Covariance Matrix (from curve_fit)\")\n",
    "print (pcov)\n",
    "\n",
    "print()\n",
    "print (\"Final Result: y = (%0.2f +/- %0.2f) x + (%0.2f +/- %0.2f)\" % (popt[1],perr[1],popt[0],perr[0]))\n",
    "\n",
    "plt.errorbar(xi, yi, yerr=sigmai, fmt='o', capsize=5, capthick=2)\n",
    "\n",
    "plt.plot(xi,middle)\n",
    "plt.plot(xi,lower)\n",
    "plt.plot(xi,upper)\n",
    "plt.show()\n",
    "\n",
    "slope.append(popt[1])\n",
    "dslope.append(perr[1])\n",
    "yint.append(popt[0])\n",
    "dyint.append(perr[0])\n",
    "type.append('Large X Range')"
   ]
  },
  {
   "cell_type": "code",
   "execution_count": 25,
   "metadata": {},
   "outputs": [
    {
     "data": {
      "text/html": [
       "<div>\n",
       "<style scoped>\n",
       "    .dataframe tbody tr th:only-of-type {\n",
       "        vertical-align: middle;\n",
       "    }\n",
       "\n",
       "    .dataframe tbody tr th {\n",
       "        vertical-align: top;\n",
       "    }\n",
       "\n",
       "    .dataframe thead th {\n",
       "        text-align: right;\n",
       "    }\n",
       "</style>\n",
       "<table border=\"1\" class=\"dataframe\">\n",
       "  <thead>\n",
       "    <tr style=\"text-align: right;\">\n",
       "      <th></th>\n",
       "      <th>Fit Type</th>\n",
       "      <th>Slope</th>\n",
       "      <th>Error in Slope</th>\n",
       "      <th>Y Intercept</th>\n",
       "      <th>Error in Y Intercept</th>\n",
       "    </tr>\n",
       "  </thead>\n",
       "  <tbody>\n",
       "    <tr>\n",
       "      <th>0</th>\n",
       "      <td>None</td>\n",
       "      <td>0.997368</td>\n",
       "      <td>0.035106</td>\n",
       "      <td>0.071227</td>\n",
       "      <td>0.119052</td>\n",
       "    </tr>\n",
       "    <tr>\n",
       "      <th>1</th>\n",
       "      <td>Uniform</td>\n",
       "      <td>0.997368</td>\n",
       "      <td>0.035106</td>\n",
       "      <td>0.071227</td>\n",
       "      <td>0.119052</td>\n",
       "    </tr>\n",
       "    <tr>\n",
       "      <th>2</th>\n",
       "      <td>Increasing</td>\n",
       "      <td>1.053374</td>\n",
       "      <td>0.059477</td>\n",
       "      <td>-0.013038</td>\n",
       "      <td>0.054972</td>\n",
       "    </tr>\n",
       "    <tr>\n",
       "      <th>3</th>\n",
       "      <td>Endpoints</td>\n",
       "      <td>0.782047</td>\n",
       "      <td>0.178397</td>\n",
       "      <td>0.405309</td>\n",
       "      <td>0.247083</td>\n",
       "    </tr>\n",
       "    <tr>\n",
       "      <th>4</th>\n",
       "      <td>Increasing at Small X</td>\n",
       "      <td>0.996559</td>\n",
       "      <td>0.104241</td>\n",
       "      <td>0.066613</td>\n",
       "      <td>0.248186</td>\n",
       "    </tr>\n",
       "    <tr>\n",
       "      <th>5</th>\n",
       "      <td>Small X Range</td>\n",
       "      <td>0.996559</td>\n",
       "      <td>0.104241</td>\n",
       "      <td>0.066613</td>\n",
       "      <td>0.248186</td>\n",
       "    </tr>\n",
       "    <tr>\n",
       "      <th>6</th>\n",
       "      <td>Large X Range</td>\n",
       "      <td>0.997658</td>\n",
       "      <td>0.013502</td>\n",
       "      <td>0.093396</td>\n",
       "      <td>0.208436</td>\n",
       "    </tr>\n",
       "  </tbody>\n",
       "</table>\n",
       "</div>"
      ],
      "text/plain": [
       "                Fit Type     Slope  Error in Slope  Y Intercept  \\\n",
       "0                   None  0.997368        0.035106     0.071227   \n",
       "1                Uniform  0.997368        0.035106     0.071227   \n",
       "2             Increasing  1.053374        0.059477    -0.013038   \n",
       "3              Endpoints  0.782047        0.178397     0.405309   \n",
       "4  Increasing at Small X  0.996559        0.104241     0.066613   \n",
       "5          Small X Range  0.996559        0.104241     0.066613   \n",
       "6          Large X Range  0.997658        0.013502     0.093396   \n",
       "\n",
       "   Error in Y Intercept  \n",
       "0              0.119052  \n",
       "1              0.119052  \n",
       "2              0.054972  \n",
       "3              0.247083  \n",
       "4              0.248186  \n",
       "5              0.248186  \n",
       "6              0.208436  "
      ]
     },
     "execution_count": 25,
     "metadata": {},
     "output_type": "execute_result"
    }
   ],
   "source": [
    "df = pd.DataFrame({'Fit Type':type, 'Slope':slope, 'Error in Slope':dslope, 'Y Intercept':yint, 'Error in Y Intercept':dyint})\n",
    "df.head(10)"
   ]
  },
  {
   "cell_type": "code",
   "execution_count": null,
   "metadata": {},
   "outputs": [],
   "source": []
  }
 ],
 "metadata": {
  "kernelspec": {
   "display_name": "Python 3",
   "language": "python",
   "name": "python3"
  },
  "language_info": {
   "codemirror_mode": {
    "name": "ipython",
    "version": 3
   },
   "file_extension": ".py",
   "mimetype": "text/x-python",
   "name": "python",
   "nbconvert_exporter": "python",
   "pygments_lexer": "ipython3",
   "version": "3.6.8"
  },
  "latex_envs": {
   "LaTeX_envs_menu_present": true,
   "autoclose": false,
   "autocomplete": true,
   "bibliofile": "biblio.bib",
   "cite_by": "apalike",
   "current_citInitial": 1,
   "eqLabelWithNumbers": true,
   "eqNumInitial": 1,
   "hotkeys": {
    "equation": "Ctrl-E",
    "itemize": "Ctrl-I"
   },
   "labels_anchors": false,
   "latex_user_defs": false,
   "report_style_numbering": false,
   "user_envs_cfg": false
  }
 },
 "nbformat": 4,
 "nbformat_minor": 4
}
