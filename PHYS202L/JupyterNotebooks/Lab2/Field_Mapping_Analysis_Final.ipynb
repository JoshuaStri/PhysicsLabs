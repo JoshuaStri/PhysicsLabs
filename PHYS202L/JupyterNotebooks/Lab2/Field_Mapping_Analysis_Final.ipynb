{
 "cells": [
  {
   "cell_type": "markdown",
   "metadata": {},
   "source": [
    "# Lab 2:  Electric Field Mapping"
   ]
  },
  {
   "cell_type": "markdown",
   "metadata": {},
   "source": [
    "# Theory\n",
    "\n",
    "# The Electric Field\n",
    "Equations (1a) and (1b) show the strength of the gravitational and electrical forces:\n",
    "$$\\vec{F_{gravity}}=\\frac{Gm_{1}m_{2}}{r^2}$$\n",
    "$$\\vec{F_{electric}}=\\frac{k q_{1}q_{2}}{r^2} \\tag{1}$$\n",
    "\n",
    "where $G$ and $k$ are constants to make sure the force comes out in Newtons, $m$ is the mass of each object in kilograms, $q$ is the charge of each object in Coulombs, and $r$ is the distance between the two objects in meters. The direction of each force points along the line connecting the two objects.\n",
    "The vector force field answers the question “How does the second object ‘know’ that the first object is there?” The first object creates a field in all of space and the second object reacts to that field. We define the field created by the first object by either\n",
    "$$\\vec{g} =\\frac{Gm_{1}}{r^2}$$\n",
    "$$\\vec{E} =\\frac{kq_{1}}{r^2}\\tag{2}$$\n",
    "\n",
    "We call $\\vec{g}$ the “gravitational field” produced by $m_{1}$ and $\\vec{E}$ the “electric field” produced by $q_{1}$. The direction of either field at a point $P$ points along the line connecting the object creating the field to the point $P$.\n",
    "The gravitational field can only point towards a massive object because masses can only be positive. Electrical charges, however, can be either positive or negative. A positive charge has an electric\n",
    "field which points away from it in all directions and a negative charge has an electric field which points towards it from all directions. See $Figure~2$.\n",
    "Equations (1a) and (1b) tell us that the force felt by the second object\n",
    "due to each field is given by:\n",
    "\n",
    "$$\\vec{F_{gravity}}=m_{2}\\vec{g}$$\n",
    "$$\\vec{F_{electric}}=q_{2}\\vec{E}\\tag{3}$$\n",
    "\n",
    "\n",
    "# The Electrical Potential Energy (Voltage)\n",
    "From equation $(3b)$, it would seem that all we need to do to measure an electric field would be to measure the force on a known charge $q$ and then divide the force by the charge. While it isn’t too hard to measure forces (with springs or scales or pendulums), it turns out to be very difficult to measure charge accurately. If it is at all humid, water molecules are attracted to any excess charge and provide a conductive coating which drains the charge away to ground. You may have had trouble keeping a charge on your equipment in the electrostatics experiment because of this. So we need another way to measure electric fields.\n",
    "\n",
    "Just like gravity, the electric force is conservative. This means we can “store” energy by working against the force. The amount of potential energy we store in an electric field by pushing a charge $q$ “uphill,” is given by the amount of work the field loses:\n",
    "$$\\Delta U=−W =−∫\\vec{F}d\\vec{r} = −∫q_{2}\\vec{E}d\\vec{r}\\tag{4}$$\n",
    "\n",
    "\n",
    "Because it is difficult to measure charge, we divide the far right and far left of equation (4) by the charge $q$:\n",
    "$$\\frac{ΔU}{q_{2}} ≡ \\Delta V = −∫\\vec{E}d\\vec{r}\\tag{5}$$\n",
    "\n",
    "We define the voltage (electrical potential) $V$ as the potential energy of a charge $q$ divided by the value of that charge. For a small enough change in distance, the electric field can be considered constant and the integral in equation (5) becomes\n",
    "$$\\Delta V=−E \\Delta x\\;     or     \\;  E = −\\frac{\\Delta V}{\\Delta x}\\tag{6}$$\n",
    "So if we can measure the change in voltage over a change in distance, we can determine the electric field at that\n",
    "location. The equipotential (equal voltage) lines (dashed) and electric field (blue arrows) are depicted both for a\n",
    "point charge and for a parallel-plate capacitor in Figure 3. Once again, the electric field lines are always normal to\n",
    "the equipotential lines at that location. "
   ]
  },
  {
   "cell_type": "code",
   "execution_count": 1,
   "metadata": {},
   "outputs": [],
   "source": [
    "import numpy as np\n",
    "import pandas as pd\n",
    "import matplotlib.pyplot as plt\n",
    "import scipy.stats as stats\n",
    "\n",
    "# The following lines make plots in dark mode look reasonable.  If you are not using dark\n",
    "# mode you don't need them, but you can also just leave them here and it should work fine.\n",
    "\n",
    "dark_mode = True\n",
    "# plotting choices for dark-mode\n",
    "if (dark_mode):\n",
    "    from jupyterthemes import jtplot\n",
    "    jtplot.style(theme='monokai', context='notebook', ticks=True, grid=False)\n",
    "    linecolor = 'w'\n",
    "else:\n",
    "    linecolor = 'k'"
   ]
  },
  {
   "cell_type": "markdown",
   "metadata": {},
   "source": [
    "# Parallel Plates - Small Distance\n",
    "\n",
    "## Setup\n",
    "1. Set the “A” Channel of the Power Supply to 12 V.\n",
    "2. Connect a black wire from the black (-) terminal on the power supply to the binding post marked “Bat. Or Osc” closest to the “E1” terminal.\n",
    "3. Connect a red wire from the red (+) terminal on the power supply to the binding post marked “Bat. Or Osc” closest to the “E7” terminal.\n",
    "4. Connect a black wire from the binding post marked “Bat. Or Osc” closest to the “E1” terminal to the “COM” port of the DVM.\n",
    "5. Connect a red wire from the binding post on the probe to the “V,Ω,C,Hz” port on the DVM. See Figure 4 below.\n",
    "6. Set the DVM knob to “V===”\n",
    "\n",
    "add figure?\n",
    "\n",
    "## Data Acquisition\n",
    "1. Fasten a sheet of 11 x 8.5 inch graph paper to the top surface of the field-mapping board. Secure the paper under the four rubber bumpers on the board (if you press down on the board, the bumpers will “lift up”). A small amount of tape should also be used keep the paper from slipping.\n",
    "2. If you're using the “Parallel Plate” or “Two Points” board, select the clear plastic template that carries the field plate design underneath the board. Each template has several designs on it. Place the template on the pins just above the upper edge of the paper and trace the design onto the paper to correspond with that of the electrodes on the underside. Make sure to orient the template properly.\n",
    "3. To start plotting equipotential points, start by locating a point which reads 2.0 V on the DVM. It will be difficult to hold the probe steady enough to get exactly 2.000 V, but try to get as close as you can. This location may be marked on the paper by making a pencil mark through the circular hole in the probe. Do not squeeze the probe---this will give you inaccurate readings.\n",
    "4. Move the probe to another point where the voltage is 2.0 V and record it by both placing a mark on the paper and by recording the voltage you measured in the appropriate data table. Continue to find at least seven to ten of these points spread across the board.\n",
    "5. Label this collection of circles by writing “2.0 V” with a pencil whose color is the same as that used for the circles themselves. Compute the standard deviation of the voltages you recorded. This is the uncertainty in your voltage reading, δV.\n",
    "6. Repeat steps 3—5 for 4.0 V. Plot the equipotential points for this new voltage with a pencil of a different color (so you will not confuse these points with your 2.0 V data) and use this same color of pencil to label these circles as you did before. Be sure you compute your new standard deviation.\n",
    "7. Repeat this procedure until the equipotential points are plotted for voltages from 2.0 V through 10.0 V in steps of 2 V.\n",
    "8. You will be asked to compute the magnitude and direction of the electric field at the center of each pattern. Be sure you have enough data to do this. You may need to measure voltages in steps smaller than 2.0 V to get a reasonable result.\n",
    "\n",
    "Once you’ve completed this process with one board, select a different field-mapping station and repeat the previous steps. **Do not remove the probe pattern from your board**; simply move to a station with a new board. You will map the equipotential points for three different probe patterns: parallel planes, two points, and an unknown board.\n",
    "\n",
    "**Before starting the next section, make a photocopy of the data for each member of your lab team.**\n",
    "\n",
    "## Procedure---Equipotentials and Field Lines\n",
    "1. For every set of equipotential points (e.g. 6.0 V), draw a smooth equipotential curve (freehand or with a French curve, not with a ruler) which passes through all of the points smoothly. Use a pencil whose color is the same as that of the points themselves. Do you expect some symmetry in the equipotentials? You should account for these symmetries when drawing the equipotential curves.\n",
    "2. Draw at least seven electric field lines using your equipotentials. Include arrowheads to indicate direction. Use a regular pencil (instead of a colored one).\n",
    "3. Calculate the magnitude and direction of the electric field at the center of each board. Use Equation (6) to determine E. Note that ∆x is the shortest distance between the equipotential lines, not the horizontal distance. By estimating the uncertainty in ∆x and ∆V and using uncertainty propagation (Rules R1 and R2), it is possible to estimate how well the electric field has been determined\n",
    "\n",
    "## Notes on Drawing Electric Field Lines\n",
    "- Choose a point on the highest equipotential\n",
    "- Lightly draw the shortest possible line between this point and the next lowest equipotential, with which it will intersect at a point.\n",
    "- From this new point, lightly draw the shortest possible line between it and the next lowest equipotential. Remember that field lines must be perpendicular to every equipotential line they cross and electric field lines never cross each other.\n",
    "- When you reach the lowest equipotential, go back and make the field line smoother and correct errors.\n",
    "- Along the field line, draw arrows directed from high-potential to low potential.\n",
    "- Choose another point on the highest equipotential, and repeat.\n",
    "- Attempt to space your field lines evenly and symmetrically"
   ]
  },
  {
   "cell_type": "code",
   "execution_count": 2,
   "metadata": {},
   "outputs": [
    {
     "name": "stdout",
     "output_type": "stream",
     "text": [
      "    V    dV  x_cm  dx_cm\n",
      "  2.0  0.02  0.86   0.01\n",
      "  3.0  0.02  1.40   0.01\n",
      "  4.0  0.02  2.11   0.01\n",
      "  5.0  0.02  2.74   0.01\n",
      "  6.0  0.02  3.20   0.01\n",
      "  7.0  0.02  3.89   0.01\n",
      "  8.0  0.02  4.45   0.01\n",
      "  9.0  0.02  4.98   0.01\n",
      " 10.0  0.02  5.54   0.01\n"
     ]
    }
   ],
   "source": [
    "# Create a Pandas DataFrame with data for part 1\n",
    "\n",
    "# voltages [[p1,p2,p3,...,p10]]\n",
    "\n",
    "voltages =[[2.00,2.00,2.01,2.00,2.00,1.99,2.00,2.00,2.00,2.00], #2 V\n",
    "           [4.02,3.99,4.02,4.02,3.99,4.03,3.98,3.98,4.01,4.02], #4 V\n",
    "           [6.01,5.99,6.00,6.00,6.01,6.00,6.00,6.00,6.00,6.01], #6 V\n",
    "           [8.00,8.01,8.00,7.99,8.01,8.00,8.00,8.02,7.99,8.00], #8 V\n",
    "           [10.04,10.01,9.99,10.00,10.04,9.97,10.02,9.97,10.01,10.0 ],]#10 V\n",
    "\n",
    "# The data [V, dV, x_cm, dx_cm]\n",
    "\n",
    "data = [[np.average(voltages[0]),0.02,0.86,0.01],\n",
    "        [np.average(voltages[0]),0.02,1.40,0.01],\n",
    "        [np.average(voltages[0]),0.02,2.11,0.01],\n",
    "        [np.average(voltages[0]),0.02,2.74,0.01], \n",
    "        [np.average(voltages[0]),0.02,3.20,0.01],]\n",
    "# create dataframe\n",
    "df = pd.DataFrame(data, columns = ['V', 'dV','x_cm','dx_cm'])\n",
    "\n",
    "print(df.to_string(index=False))"
   ]
  },
  {
   "cell_type": "code",
   "execution_count": 3,
   "metadata": {},
   "outputs": [
    {
     "name": "stdout",
     "output_type": "stream",
     "text": [
      "    V    dV  x_cm  dx_cm       x      dx\n",
      "  2.0  0.02  0.86   0.01  0.0086  0.0001\n",
      "  3.0  0.02  1.40   0.01  0.0140  0.0001\n",
      "  4.0  0.02  2.11   0.01  0.0211  0.0001\n",
      "  5.0  0.02  2.74   0.01  0.0274  0.0001\n",
      "  6.0  0.02  3.20   0.01  0.0320  0.0001\n",
      "  7.0  0.02  3.89   0.01  0.0389  0.0001\n",
      "  8.0  0.02  4.45   0.01  0.0445  0.0001\n",
      "  9.0  0.02  4.98   0.01  0.0498  0.0001\n",
      " 10.0  0.02  5.54   0.01  0.0554  0.0001\n"
     ]
    }
   ],
   "source": [
    "df['x'] = 0.01*df['x_cm']\n",
    "df['dx'] = 0.01*df['dx_cm']\n",
    "\n",
    "print(df.to_string(index=False))"
   ]
  },
  {
   "cell_type": "code",
   "execution_count": 4,
   "metadata": {},
   "outputs": [
    {
     "name": "stdout",
     "output_type": "stream",
     "text": [
      "Beta: [169.89489329   0.49351775]\n",
      "Beta Std Error: [2.28450891 0.08177615]\n",
      "Beta Covariance: [[ 0.3314263  -0.0107419 ]\n",
      " [-0.0107419   0.00042467]]\n",
      "Residual Variance: 15.747033408812737\n",
      "Inverse Condition #: 0.014930727092439106\n",
      "Reason(s) for Halting:\n",
      "  Sum of squares convergence\n",
      "\n",
      "Final Result: Y = (169.894893294 +/- 2.284508907) X + (0.493517745 +/- 0.081776154)\n"
     ]
    },
    {
     "data": {
      "image/png": "[encoded data removed]",
      "text/plain": [
       "<Figure size 640x480 with 1 Axes>"
      ]
     },
     "metadata": {
      "needs_background": "dark"
     },
     "output_type": "display_data"
    }
   ],
   "source": [
    "xi = df['x']\n",
    "yi = df['V']\n",
    "sigmaxi = df['dx']\n",
    "sigmayi = df['dV']\n",
    "\n",
    "##############################\n",
    "\n",
    "from scipy.odr import *\n",
    "\n",
    "def fitfunction(B, x):\n",
    "    '''Linear function y = m*x + b'''\n",
    "    # B is a vector of the parameters.\n",
    "    # x is an array of the current x values.\n",
    "    # x is in the same format as the x passed to Data or RealData.\n",
    "    #\n",
    "    # Return an array in the same format as y passed to Data or RealData.\n",
    "    return B[0]*x + B[1]\n",
    "\n",
    "linear = Model(fitfunction) # create a Model object based on the fitfuncion we have defined\n",
    "mydata = RealData(xi, yi, sx=sigmaxi, sy=sigmayi) # create a data object based on our data, include errors.\n",
    "myodr = ODR(mydata, linear, beta0=[1., 2.]) # create a fitting object, based on the data, fit Model, and an intial set of parameters.\n",
    "myoutput = myodr.run()  # run the fitting process to get optimized parameters!\n",
    "\n",
    "myoutput.pprint() # print out the result of the fit\n",
    "\n",
    "# Now assign the important fit results to some more convenient variables.\n",
    "\n",
    "popt = myoutput.beta # the vector of optimized parameters\n",
    "pcov = myoutput.cov_beta # the covariance matrix\n",
    "perr = myoutput.sd_beta # the vector of ERRORS in the optimized parameters\n",
    "\n",
    "# The following lines generate upper and lower 99% \"Confidence Bands\" on the fit, for visualization\n",
    "# purposes.\n",
    "\n",
    "ps = np.random.multivariate_normal(popt,pcov,10000)\n",
    "ysample=np.asarray([fitfunction(pi,xi) for pi in ps])\n",
    "\n",
    "lower = np.percentile(ysample,0.5,axis=0)\n",
    "upper = np.percentile(ysample,99.5,axis=0)\n",
    "middle = (lower+upper)/2.0\n",
    "\n",
    "print()\n",
    "print (\"Final Result: Y = (%0.9f +/- %0.9f) X + (%0.9f +/- %0.9f)\" % (popt[0],perr[0],popt[1],perr[1]))\n",
    "\n",
    "plt.figure(figsize=(8, 6), dpi=80)\n",
    "\n",
    "plt.errorbar(xi, yi, xerr=sigmaxi, yerr=sigmayi, fmt='o', capsize=2, capthick=1)\n",
    "\n",
    "plt.plot(xi,middle)\n",
    "plt.plot(xi,lower)\n",
    "plt.plot(xi,upper)\n",
    "\n",
    "#########################\n",
    "\n",
    "plt.xlabel('Distance (meters)')\n",
    "plt.ylabel('Voltage (Volts)')\n",
    "plt.title('Parallel Plates - Small Distance Configuration')\n",
    "plt.show()"
   ]
  },
  {
   "cell_type": "code",
   "execution_count": 6,
   "metadata": {},
   "outputs": [
    {
     "name": "stdout",
     "output_type": "stream",
     "text": [
      "Expected Electric Field = 179.1 +/- 2.8\n"
     ]
    }
   ],
   "source": [
    "# Expected Electric Field calculation\n",
    "\n",
    "d_plates = 6.7*0.01\n",
    "dd_plates = 0.05*0.01\n",
    "\n",
    "V_plates = 12.0\n",
    "dV_plates = 0.1\n",
    "\n",
    "E_expected = V_plates/d_plates\n",
    "dE_expected = E_expected*(dV_plates/V_plates+dd_plates/d_plates)\n",
    "\n",
    "print(\"Expected Electric Field = %0.1f +/- %0.1f\" % (E_expected,dE_expected))"
   ]
  },
  {
   "cell_type": "markdown",
   "metadata": {},
   "source": [
    "## Analysis of Voltage vs. Position Result\n",
    "\n",
    "First of all, we see that this is a pretty good linear fit!\n",
    "\n",
    "Second, we see that the result for the y-intercept (b) is $(0.494 \\pm 0.082)$ Volts.  This is close to zero, but still inconsistent with our expectations.\n",
    "\n",
    "Third, we see that the average electric field (the slope) that we were trying to determine is\n",
    "$(169.9 \\pm 2.3)$ Volts per meter.  Based on the calculation of the expected value (in the next cell), we are not in agreement with that result.  Why?"
   ]
  },
  {
   "cell_type": "code",
   "execution_count": null,
   "metadata": {},
   "outputs": [],
   "source": []
  }
 ],
 "metadata": {
  "kernelspec": {
   "display_name": "Python 3",
   "language": "python",
   "name": "python3"
  },
  "language_info": {
   "codemirror_mode": {
    "name": "ipython",
    "version": 3
   },
   "file_extension": ".py",
   "mimetype": "text/x-python",
   "name": "python",
   "nbconvert_exporter": "python",
   "pygments_lexer": "ipython3",
   "version": "3.6.8"
  },
  "latex_envs": {
   "LaTeX_envs_menu_present": true,
   "autoclose": false,
   "autocomplete": true,
   "bibliofile": "biblio.bib",
   "cite_by": "apalike",
   "current_citInitial": 1,
   "eqLabelWithNumbers": true,
   "eqNumInitial": 1,
   "hotkeys": {
    "equation": "Ctrl-E",
    "itemize": "Ctrl-I"
   },
   "labels_anchors": false,
   "latex_user_defs": false,
   "report_style_numbering": false,
   "user_envs_cfg": false
  }
 },
 "nbformat": 4,
 "nbformat_minor": 4
}
