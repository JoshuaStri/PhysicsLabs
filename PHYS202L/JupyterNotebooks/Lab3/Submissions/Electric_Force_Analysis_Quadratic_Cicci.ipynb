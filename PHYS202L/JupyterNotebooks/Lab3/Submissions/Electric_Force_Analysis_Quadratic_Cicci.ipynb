{
  "cells": [
    {
      "cell_type": "markdown",
      "metadata": {
        "id": "vqvpE2UuLRx6"
      },
      "source": [
        "# Lab 3:  Electric Force"
      ]
    },
    {
      "cell_type": "code",
      "execution_count": null,
      "metadata": {
        "id": "aqVDlBEgLRx-"
      },
      "outputs": [],
      "source": [
        "import numpy as np\n",
        "import pandas as pd\n",
        "import matplotlib.pyplot as plt\n",
        "import scipy.stats as stats\n",
        "\n",
        "# The following lines make plots in dark mode look reasonable.  If you are not using dark\n",
        "# mode you don't need them, but you can also just leave them here and it should work fine.\n",
        "#Group: Alex Zannelli, Tyler/Sky Cicci, Atticus Wingfield, Noah Kneessi\n",
        "dark_mode = False\n",
        "# plotting choices for dark-mode\n",
        "if (dark_mode):\n",
        "    from jupyterthemes import jtplot\n",
        "    jtplot.style(theme='monokai', context='notebook', ticks=True, grid=False)\n",
        "    linecolor = 'w'\n",
        "else:\n",
        "    linecolor = 'k'"
      ]
    },
    {
      "cell_type": "markdown",
      "metadata": {
        "id": "7De4z9LDLRyA"
      },
      "source": [
        "# Determining the Path of Electrons"
      ]
    },
    {
      "cell_type": "code",
      "execution_count": null,
      "metadata": {
        "id": "kljGPXffLRyA",
        "outputId": "b268721e-64af-4d75-941c-71134ec51749",
        "colab": {
          "base_uri": "https://localhost:8080/"
        }
      },
      "outputs": [
        {
          "output_type": "stream",
          "name": "stdout",
          "text": [
            "Accelerating voltage = 4.5 kV:\n",
            " x_cm  dx_cm  y_cm  dy_cm\n",
            "  1.0   0.01  0.00   0.02\n",
            "  2.0   0.01  0.05   0.02\n",
            "  3.0   0.01  0.10   0.02\n",
            "  4.0   0.01  0.30   0.02\n",
            "  5.0   0.01  0.40   0.02\n",
            "  6.0   0.01  0.60   0.02\n",
            "  7.0   0.01  0.90   0.02\n",
            "  8.0   0.01  1.40   0.02\n",
            "  9.0   0.01  1.60   0.02\n",
            " 10.0   0.01  2.00   0.01\n",
            "\n",
            "Accelerating voltage = 3.5 kV:\n",
            " x_cm  dx_cm  y_cm  dy_cm\n",
            "  1.0   0.01  0.00   0.02\n",
            "  2.0   0.01  0.05   0.02\n",
            "  3.0   0.01  0.10   0.02\n",
            "  4.0   0.01  0.30   0.02\n",
            "  5.0   0.01  0.50   0.02\n",
            "  6.0   0.01  0.80   0.02\n",
            "  7.0   0.01  1.20   0.02\n",
            "  8.0   0.01  1.60   0.02\n",
            "  9.0   0.01  2.10   0.02\n",
            " 10.0   0.01  2.40   0.01\n",
            "\n",
            "Accelerating voltage = 2.5 kV:\n",
            " x_cm  dx_cm  y_cm  dy_cm\n",
            "  1.0   0.01  0.00   0.02\n",
            "  2.0   0.01  0.05   0.02\n",
            "  3.0   0.01  0.20   0.02\n",
            "  4.0   0.01  0.40   0.02\n",
            "  5.0   0.01  0.80   0.02\n",
            "  6.0   0.01  1.30   0.02\n",
            "  7.0   0.01  1.70   0.02\n",
            "  8.0   0.01  2.25   0.02\n",
            "  9.0   0.01  3.00   0.02\n",
            " 10.0   0.01  3.50   0.01\n"
          ]
        }
      ],
      "source": [
        "# Create a Pandas DataFrame with data for part 1\n",
        "\n",
        "# The data elements are [x_cm, dx_cm, y_cm, dy_cm]\n",
        "\n",
        "data1 = [[1.00,0.01,0.00,0.02], [2.00,0.01,0.05,0.02], [3.00,0.01,0.10,0.02], [4.00,0.01,0.30,0.02], [5.00,0.01,0.40,0.02], [6.00,0.01,0.60,0.02], [7.00,0.01,0.90,0.02],\n",
        "[8.00,0.01,1.40,0.02], [9.00,0.01,1.60,0.02], [10.00,0.01,2.00,0.01]]\n",
        "# create dataframe\n",
        "df1 = pd.DataFrame(data1, columns = ['x_cm', 'dx_cm','y_cm','dy_cm'])\n",
        "\n",
        "print('Accelerating voltage = 4.5 kV:')\n",
        "print(df1.to_string(index=False))\n",
        "\n",
        "data2 = [[1.00,0.01,0.00,0.02], [2.00,0.01,0.05,0.02], [3.00,0.01,0.10,0.02], [4.00,0.01,0.30,0.02], [5.00,0.01,0.50,0.02], [6.00,0.01,0.80,0.02], [7.00,0.01,1.20,0.02],\n",
        "         [8.00,0.01,1.60,0.02], [9.00,0.01,2.10,0.02], [10.00,0.01,2.40,0.01]]\n",
        "# create dataframe\n",
        "df2 = pd.DataFrame(data2, columns = ['x_cm', 'dx_cm','y_cm','dy_cm'])\n",
        "\n",
        "print()\n",
        "print('Accelerating voltage = 3.5 kV:')\n",
        "print(df2.to_string(index=False))\n",
        "\n",
        "data3 = [[1.00,0.01,0.00,0.02], [2.00,0.01,0.05,0.02], [3.00,0.01,0.20,0.02], [4.00,0.01,0.40,0.02], [5.00,0.01,0.80,0.02], [6.00,0.01,1.30,0.02], [7.00,0.01,1.70,0.02],\n",
        "         [8.00,0.01,2.25,0.02], [9.00,0.01,3.00,0.02], [10.00,0.01,3.50,0.01]]\n",
        "# create dataframe\n",
        "df3 = pd.DataFrame(data3, columns = ['x_cm', 'dx_cm','y_cm','dy_cm'])\n",
        "\n",
        "print()\n",
        "print('Accelerating voltage = 2.5 kV:')\n",
        "print(df3.to_string(index=False))"
      ]
    },
    {
      "cell_type": "code",
      "execution_count": null,
      "metadata": {
        "id": "VuMDS_kBLRyC",
        "outputId": "135149a0-253e-4290-9464-a27024a51b04",
        "colab": {
          "base_uri": "https://localhost:8080/"
        }
      },
      "outputs": [
        {
          "output_type": "stream",
          "name": "stdout",
          "text": [
            "Accelerating voltage = 4.5 kV:\n",
            " x_cm  dx_cm  y_cm  dy_cm    x     dx      y     dy\n",
            "  1.0   0.01  0.00   0.02 0.01 0.0001 0.0000 0.0002\n",
            "  2.0   0.01  0.05   0.02 0.02 0.0001 0.0005 0.0002\n",
            "  3.0   0.01  0.10   0.02 0.03 0.0001 0.0010 0.0002\n",
            "  4.0   0.01  0.30   0.02 0.04 0.0001 0.0030 0.0002\n",
            "  5.0   0.01  0.40   0.02 0.05 0.0001 0.0040 0.0002\n",
            "  6.0   0.01  0.60   0.02 0.06 0.0001 0.0060 0.0002\n",
            "  7.0   0.01  0.90   0.02 0.07 0.0001 0.0090 0.0002\n",
            "  8.0   0.01  1.40   0.02 0.08 0.0001 0.0140 0.0002\n",
            "  9.0   0.01  1.60   0.02 0.09 0.0001 0.0160 0.0002\n",
            " 10.0   0.01  2.00   0.01 0.10 0.0001 0.0200 0.0001\n",
            "\n",
            "Accelerating voltage = 3.5 kV:\n",
            " x_cm  dx_cm  y_cm  dy_cm    x     dx      y     dy\n",
            "  1.0   0.01  0.00   0.02 0.01 0.0001 0.0000 0.0002\n",
            "  2.0   0.01  0.05   0.02 0.02 0.0001 0.0005 0.0002\n",
            "  3.0   0.01  0.10   0.02 0.03 0.0001 0.0010 0.0002\n",
            "  4.0   0.01  0.30   0.02 0.04 0.0001 0.0030 0.0002\n",
            "  5.0   0.01  0.50   0.02 0.05 0.0001 0.0050 0.0002\n",
            "  6.0   0.01  0.80   0.02 0.06 0.0001 0.0080 0.0002\n",
            "  7.0   0.01  1.20   0.02 0.07 0.0001 0.0120 0.0002\n",
            "  8.0   0.01  1.60   0.02 0.08 0.0001 0.0160 0.0002\n",
            "  9.0   0.01  2.10   0.02 0.09 0.0001 0.0210 0.0002\n",
            " 10.0   0.01  2.40   0.01 0.10 0.0001 0.0240 0.0001\n",
            "\n",
            "Accelerating voltage = 2.5 kV:\n",
            " x_cm  dx_cm  y_cm  dy_cm    x     dx      y     dy\n",
            "  1.0   0.01  0.00   0.02 0.01 0.0001 0.0000 0.0002\n",
            "  2.0   0.01  0.05   0.02 0.02 0.0001 0.0005 0.0002\n",
            "  3.0   0.01  0.20   0.02 0.03 0.0001 0.0020 0.0002\n",
            "  4.0   0.01  0.40   0.02 0.04 0.0001 0.0040 0.0002\n",
            "  5.0   0.01  0.80   0.02 0.05 0.0001 0.0080 0.0002\n",
            "  6.0   0.01  1.30   0.02 0.06 0.0001 0.0130 0.0002\n",
            "  7.0   0.01  1.70   0.02 0.07 0.0001 0.0170 0.0002\n",
            "  8.0   0.01  2.25   0.02 0.08 0.0001 0.0225 0.0002\n",
            "  9.0   0.01  3.00   0.02 0.09 0.0001 0.0300 0.0002\n",
            " 10.0   0.01  3.50   0.01 0.10 0.0001 0.0350 0.0001\n"
          ]
        }
      ],
      "source": [
        "df1['x'] = 0.01*(df1['x_cm'])\n",
        "df1['dx'] = 0.01*df1['dx_cm']\n",
        "df1['y'] = 0.01*df1['y_cm']\n",
        "df1['dy'] = 0.01*df1['dy_cm']\n",
        "\n",
        "print('Accelerating voltage = 4.5 kV:')\n",
        "print(df1.to_string(index=False))\n",
        "\n",
        "df2['x'] = 0.01*(df2['x_cm'])\n",
        "df2['dx'] = 0.01*df2['dx_cm']\n",
        "df2['y'] = 0.01*df2['y_cm']\n",
        "df2['dy'] = 0.01*df2['dy_cm']\n",
        "\n",
        "print()\n",
        "print('Accelerating voltage = 3.5 kV:')\n",
        "print(df2.to_string(index=False))\n",
        "\n",
        "df3['x'] = 0.01*(df3['x_cm'])\n",
        "df3['dx'] = 0.01*df3['dx_cm']\n",
        "df3['y'] = 0.01*df3['y_cm']\n",
        "df3['dy'] = 0.01*df3['dy_cm']\n",
        "\n",
        "print()\n",
        "print('Accelerating voltage = 2.5 kV:')\n",
        "print(df3.to_string(index=False))"
      ]
    },
    {
      "cell_type": "code",
      "execution_count": null,
      "metadata": {
        "id": "yYLK6u0bLRyD",
        "outputId": "692f50e8-9683-44ad-c3af-db8d867507af",
        "colab": {
          "base_uri": "https://localhost:8080/",
          "height": 635
        }
      },
      "outputs": [
        {
          "output_type": "stream",
          "name": "stdout",
          "text": [
            "Beta: [ 2.27319529e+00 -2.55996363e-02 -2.98382103e-05]\n",
            "Beta Std Error: [0.25462691 0.03080026 0.00077357]\n",
            "Beta Covariance: [[ 5.64659617e-03 -6.69208016e-04  1.41560525e-05]\n",
            " [-6.69208016e-04  8.26203084e-05 -1.88800114e-06]\n",
            " [ 1.41560525e-05 -1.88800114e-06  5.21170011e-08]]\n",
            "Residual Variance: 11.482114268467855\n",
            "Inverse Condition #: 0.0028490601426369912\n",
            "Reason(s) for Halting:\n",
            "  Sum of squares convergence\n",
            "\n",
            "Final Result: Y = (2.2732 +/- 0.2546)X^2 + (-0.0256 +/- 0.0308)X + (-0.000030 +/- 0.000774)\n"
          ]
        },
        {
          "output_type": "display_data",
          "data": {
            "image/png": "[encoded data removed]",
            "text/plain": [
              "<Figure size 640x480 with 1 Axes>"
            ]
          },
          "metadata": {
            "needs_background": "light"
          }
        }
      ],
      "source": [
        "xi = df1['x']\n",
        "yi = df1['y']\n",
        "sigmaxi = df1['dx']\n",
        "sigmayi = df1['dy']\n",
        "\n",
        "##############################\n",
        "\n",
        "from scipy.odr import *\n",
        "\n",
        "def fitfunction(B, x):\n",
        "    '''Non-Linear function y = a*(x-c)^b'''\n",
        "    # B is a vector of the parameters.\n",
        "    # x is an array of the current x values.\n",
        "    # x is in the same format as the x passed to Data or RealData.\n",
        "    #\n",
        "    # Return an array in the same format as y passed to Data or RealData\n",
        "    return B[0]*x**2 + B[1]*x + B[2]\n",
        "\n",
        "linear = Model(fitfunction) # create a Model object based on the fitfuncion we have defined\n",
        "mydata = RealData(xi, yi, sx=sigmaxi, sy=sigmayi) # create a data object based on our data, include errors.\n",
        "myodr = ODR(mydata, linear, beta0=[2.55, -0.05, 0.0002]) # create a fitting object, based on the data, fit Model, and an intial set of parameters.\n",
        "myoutput = myodr.run()  # run the fitting process to get optimized parameters!\n",
        "\n",
        "myoutput.pprint() # print out the result of the fit\n",
        "\n",
        "# Now assign the important fit results to some more convenient variables.\n",
        "\n",
        "popt = myoutput.beta # the vector of optimized parameters\n",
        "pcov = myoutput.cov_beta # the covariance matrix\n",
        "perr = myoutput.sd_beta # the vector of ERRORS in the optimized parameters\n",
        "\n",
        "# The following lines generate upper and lower 99% \"Confidence Bands\" on the fit, for visualization\n",
        "# purposes.\n",
        "\n",
        "ps = np.random.multivariate_normal(popt,pcov,10000)\n",
        "xl = np.linspace(xi[0],xi[len(xi)-1],100)\n",
        "ysample=np.asarray([fitfunction(pl,xl) for pl in ps])\n",
        "ysample = np.nan_to_num(ysample)\n",
        "\n",
        "lower = np.percentile(ysample,16.0,axis=0)\n",
        "upper = np.percentile(ysample,84.0,axis=0)\n",
        "middle = (lower+upper)/2.0\n",
        "\n",
        "print()\n",
        "print (\"Final Result: Y = (%0.4f +/- %0.4f)X^2 + (%0.4f +/- %0.4f)X + (%0.6f +/- %0.6f)\" % (popt[0],perr[0],popt[1],perr[1],popt[2],perr[2]))\n",
        "\n",
        "plt.figure(figsize=(8, 6), dpi=80)\n",
        "plt.errorbar(xi, yi, xerr=sigmaxi, yerr=sigmayi, fmt='o', capsize=2, capthick=1)\n",
        "\n",
        "plt.plot(xl,middle)\n",
        "plt.plot(xl,lower)\n",
        "plt.plot(xl,upper)\n",
        "\n",
        "#########################\n",
        "\n",
        "plt.xlabel('Horizonatal Distance (meters)')\n",
        "plt.ylabel('Vertical Distance (meters)')\n",
        "plt.title('Determining the Electron Path (Accelerating Voltage = 4.5 kV)')\n",
        "plt.show()"
      ]
    },
    {
      "cell_type": "markdown",
      "metadata": {
        "id": "q9pwytu7LRyE"
      },
      "source": [
        "## Analysis of Electron Path:   Accelerating Voltage = 4.5 kV\n",
        "\n",
        "First of all, we see that the fit is non-linear, as expected, and appears to be roughly quadratic.\n",
        "\n",
        "From the theory, we expect:\n",
        "\n",
        "$y = ax^2 + bx + c$\n",
        "\n",
        "where:\n",
        "\n",
        "$a = \\frac{V_p}{4 d_{eff} V_a} = C$\n",
        "\n",
        "$b = - 2 C x_i$\n",
        "\n",
        "$c = C x_i^2 + y_i$\n",
        "\n",
        "We see that the coefficient a = C is $(2.55 \\pm 0.01)$.\n",
        "\n",
        "The theory predicts that this coefficient should be equal to: $\\frac{V_p}{4 d_{eff} V_a}$.  Thus, we can calculate that:\n",
        "\n",
        "$d_{eff} = \\frac{V_p}{4 C V_a}$\n",
        "\n",
        "and \n",
        "\n",
        "$ \\delta(d_{eff}) = d_{eff} \\left( \\frac{\\delta(V_p)}{V_p} + \\frac{\\delta(V_a)}{V_a} + \\frac{\\delta(C)}{C} \\right) $"
      ]
    },
    {
      "cell_type": "code",
      "execution_count": null,
      "metadata": {
        "id": "je4_sJGXLRyF",
        "outputId": "e9577eb9-a214-4f83-c69f-cb32d8cb8eeb",
        "colab": {
          "base_uri": "https://localhost:8080/"
        }
      },
      "outputs": [
        {
          "output_type": "stream",
          "name": "stdout",
          "text": [
            "d$_{eff} = (0.089 +/- 0.010)\n",
            "xi = (0.00563 +/- -0.00614)\n",
            "yi = (-0.00010 +/- 0.00062)\n"
          ]
        }
      ],
      "source": [
        "Va = 4.50\n",
        "dVa = 0.01\n",
        "Vp = 3.64\n",
        "dVp = 0.01\n",
        "C = popt[0]\n",
        "dC = perr[0]\n",
        "b = popt[1]\n",
        "db = perr[1]\n",
        "c = popt[2]\n",
        "dc = perr[2]\n",
        "\n",
        "deff1 = Vp/(4*C*Va)\n",
        "\n",
        "ddeff1 = deff1*(dVp/Vp+dVa/Va+dC/C)\n",
        "\n",
        "print('d$_{eff} = (%0.3f +/- %0.3f)' % (deff1,ddeff1))\n",
        "\n",
        "x_i1 = -b/(2.0*C)\n",
        "dx_i1 = x_i1*(dC/C+db/b)\n",
        "\n",
        "y_i1 = c - C*x_i1**2\n",
        "dy_i1 = dc + x_i1**2*dC + 2.0*x_i1*C*dx_i1\n",
        "\n",
        "print('xi = (%0.5f +/- %0.5f)' % (x_i1,dx_i1))\n",
        "print('yi = (%0.5f +/- %0.5f)' % (y_i1,dy_i1))"
      ]
    },
    {
      "cell_type": "code",
      "execution_count": null,
      "metadata": {
        "id": "_2e0aCDQLRyG",
        "outputId": "f9135378-4234-45a0-d6b1-e49b87127ad7",
        "colab": {
          "base_uri": "https://localhost:8080/",
          "height": 635
        }
      },
      "outputs": [
        {
          "output_type": "stream",
          "name": "stdout",
          "text": [
            "Beta: [ 2.55240445e+00 -4.73146794e-03 -6.19600960e-04]\n",
            "Beta Std Error: [0.28394197 0.03421336 0.00085587]\n",
            "Beta Covariance: [[ 5.77278085e-03 -6.81359572e-04  1.43521912e-05]\n",
            " [-6.81359572e-04  8.38141419e-05 -1.90753173e-06]\n",
            " [ 1.43521912e-05 -1.90753173e-06  5.24501209e-08]]\n",
            "Residual Variance: 13.966066206146648\n",
            "Inverse Condition #: 0.009289013636177314\n",
            "Reason(s) for Halting:\n",
            "  Sum of squares convergence\n",
            "\n",
            "Final Result: Y = (2.5524 +/- 0.2839)X^2 + (-0.0047 +/- 0.0342)X + (-0.000620 +/- 0.000856)\n"
          ]
        },
        {
          "output_type": "display_data",
          "data": {
            "image/png": "[encoded data removed]",
            "text/plain": [
              "<Figure size 640x480 with 1 Axes>"
            ]
          },
          "metadata": {
            "needs_background": "light"
          }
        }
      ],
      "source": [
        "xi = df2['x']\n",
        "yi = df2['y']\n",
        "sigmaxi = df2['dx']\n",
        "sigmayi = df2['dy']\n",
        "\n",
        "##############################\n",
        "\n",
        "##############################\n",
        "\n",
        "from scipy.odr import *\n",
        "\n",
        "def fitfunction(B, x):\n",
        "    '''Non-Linear function y = a*(x-c)^b'''\n",
        "    # B is a vector of the parameters.\n",
        "    # x is an array of the current x values.\n",
        "    # x is in the same format as the x passed to Data or RealData.\n",
        "    #\n",
        "    # Return an array in the same format as y passed to Data or RealData\n",
        "    return B[0]*x**2 + B[1]*x + B[2]\n",
        "\n",
        "linear = Model(fitfunction) # create a Model object based on the fitfuncion we have defined\n",
        "mydata = RealData(xi, yi, sx=sigmaxi, sy=sigmayi) # create a data object based on our data, include errors.\n",
        "myodr = ODR(mydata, linear, beta0=[2.11, 2.0,0.02]) # create a fitting object, based on the data, fit Model, and an intial set of parameters.\n",
        "myoutput = myodr.run()  # run the fitting process to get optimized parameters!\n",
        "\n",
        "myoutput.pprint() # print out the result of the fit\n",
        "\n",
        "# Now assign the important fit results to some more convenient variables.\n",
        "\n",
        "popt = myoutput.beta # the vector of optimized parameters\n",
        "pcov = myoutput.cov_beta # the covariance matrix\n",
        "perr = myoutput.sd_beta # the vector of ERRORS in the optimized parameters\n",
        "\n",
        "# The following lines generate upper and lower 99% \"Confidence Bands\" on the fit, for visualization\n",
        "# purposes.\n",
        "\n",
        "ps = np.random.multivariate_normal(popt,pcov,10000)\n",
        "xl = np.linspace(xi[0],xi[len(xi)-1],100)\n",
        "ysample=np.asarray([fitfunction(pl,xl) for pl in ps])\n",
        "ysample = np.nan_to_num(ysample)\n",
        "\n",
        "lower = np.percentile(ysample,16.0,axis=0)\n",
        "upper = np.percentile(ysample,84.0,axis=0)\n",
        "middle = (lower+upper)/2.0\n",
        "\n",
        "print()\n",
        "print (\"Final Result: Y = (%0.4f +/- %0.4f)X^2 + (%0.4f +/- %0.4f)X + (%0.6f +/- %0.6f)\" % (popt[0],perr[0],popt[1],perr[1],popt[2],perr[2]))\n",
        "\n",
        "plt.figure(figsize=(8, 6), dpi=80)\n",
        "plt.errorbar(xi, yi, xerr=sigmaxi, yerr=sigmayi, fmt='o', capsize=2, capthick=1)\n",
        "\n",
        "plt.plot(xl,middle)\n",
        "plt.plot(xl,lower)\n",
        "plt.plot(xl,upper)\n",
        "\n",
        "#########################\n",
        "\n",
        "plt.xlabel('Horizonatal Distance (meters)')\n",
        "plt.ylabel('Vertical Distance (meters)')\n",
        "plt.title('Determining the Electron Path (Accelerating Voltage = 3.5 kV)')\n",
        "plt.show()"
      ]
    },
    {
      "cell_type": "code",
      "execution_count": null,
      "metadata": {
        "id": "YC7wa75FLRyG",
        "outputId": "87924756-55c1-4539-91a2-b17264091457",
        "colab": {
          "base_uri": "https://localhost:8080/"
        }
      },
      "outputs": [
        {
          "output_type": "stream",
          "name": "stdout",
          "text": [
            "d$_{eff} = (0.102 +/- 0.010)\n",
            "xi = (0.00093 +/- -0.00660)\n",
            "yi = (-0.00062 +/- 0.00082)\n"
          ]
        }
      ],
      "source": [
        "Va = 3.50\n",
        "dVa = 0.01\n",
        "Vp = 3.64\n",
        "dVp = 0.01\n",
        "C = popt[0]\n",
        "dC = perr[0]\n",
        "b = popt[1]\n",
        "db = perr[1]\n",
        "c = popt[2]\n",
        "dc = perr[2]\n",
        "\n",
        "deff2 = Vp/(4*C*Va)\n",
        "\n",
        "ddeff2 = deff1*(dVp/Vp+dVa/Va+dC/C)\n",
        "\n",
        "print('d$_{eff} = (%0.3f +/- %0.3f)' % (deff2,ddeff2))\n",
        "\n",
        "x_i2 = -b/(2.0*C)\n",
        "dx_i2 = x_i2*(dC/C+db/b)\n",
        "\n",
        "y_i2 = c - C*x_i2**2\n",
        "dy_i2 = dc + x_i2**2*dC + 2.0*x_i2*C*dx_i2\n",
        "\n",
        "print('xi = (%0.5f +/- %0.5f)' % (x_i2,dx_i2))\n",
        "print('yi = (%0.5f +/- %0.5f)' % (y_i2,dy_i2))"
      ]
    },
    {
      "cell_type": "code",
      "execution_count": null,
      "metadata": {
        "id": "Tvpp9NziLRyH",
        "outputId": "e99c0836-8564-4ed9-ad4b-c43ccfbbd6d3",
        "colab": {
          "base_uri": "https://localhost:8080/",
          "height": 635
        }
      },
      "outputs": [
        {
          "output_type": "stream",
          "name": "stdout",
          "text": [
            "Beta: [ 3.60280107e+00  3.96319115e-03 -9.76851724e-04]\n",
            "Beta Std Error: [0.30869598 0.03681185 0.00091192]\n",
            "Beta Covariance: [[ 6.09722581e-03 -7.11544371e-04  1.48199692e-05]\n",
            " [-7.11544371e-04  8.67052715e-05 -1.95317110e-06]\n",
            " [ 1.48199692e-05 -1.95317110e-06  5.32093483e-08]]\n",
            "Residual Variance: 15.628945652595222\n",
            "Inverse Condition #: 0.00962799469739743\n",
            "Reason(s) for Halting:\n",
            "  Sum of squares convergence\n",
            "\n",
            "Final Result: Y = (3.6028 +/- 0.3087)X^2 + (0.0040 +/- 0.0368)X + (-0.000977 +/- 0.000912)\n"
          ]
        },
        {
          "output_type": "display_data",
          "data": {
            "image/png": "[encoded data removed]",
            "text/plain": [
              "<Figure size 640x480 with 1 Axes>"
            ]
          },
          "metadata": {
            "needs_background": "light"
          }
        }
      ],
      "source": [
        "xi = df3['x']\n",
        "yi = df3['y']\n",
        "sigmaxi = df3['dx']\n",
        "sigmayi = df3['dy']\n",
        "\n",
        "##############################\n",
        "\n",
        "from scipy.odr import *\n",
        "\n",
        "def fitfunction(B, x):\n",
        "    '''Non-Linear function y = a*(x-c)^b'''\n",
        "    # B is a vector of the parameters.\n",
        "    # x is an array of the current x values.\n",
        "    # x is in the same format as the x passed to Data or RealData.\n",
        "    #\n",
        "    # Return an array in the same format as y passed to Data or RealData\n",
        "    return B[0]*x**2 + B[1]*x + B[2]\n",
        "\n",
        "linear = Model(fitfunction) # create a Model object based on the fitfuncion we have defined\n",
        "mydata = RealData(xi, yi, sx=sigmaxi, sy=sigmayi) # create a data object based on our data, include errors.\n",
        "myodr = ODR(mydata, linear, beta0=[2.11, 2.0,0.02]) # create a fitting object, based on the data, fit Model, and an intial set of parameters.\n",
        "myoutput = myodr.run()  # run the fitting process to get optimized parameters!\n",
        "\n",
        "myoutput.pprint() # print out the result of the fit\n",
        "\n",
        "# Now assign the important fit results to some more convenient variables.\n",
        "\n",
        "popt = myoutput.beta # the vector of optimized parameters\n",
        "pcov = myoutput.cov_beta # the covariance matrix\n",
        "perr = myoutput.sd_beta # the vector of ERRORS in the optimized parameters\n",
        "\n",
        "# The following lines generate upper and lower 99% \"Confidence Bands\" on the fit, for visualization\n",
        "# purposes.\n",
        "\n",
        "ps = np.random.multivariate_normal(popt,pcov,10000)\n",
        "xl = np.linspace(xi[0],xi[len(xi)-1],100)\n",
        "ysample=np.asarray([fitfunction(pl,xl) for pl in ps])\n",
        "ysample = np.nan_to_num(ysample)\n",
        "\n",
        "lower = np.percentile(ysample,16.0,axis=0)\n",
        "upper = np.percentile(ysample,84.0,axis=0)\n",
        "middle = (lower+upper)/2.0\n",
        "\n",
        "print()\n",
        "print (\"Final Result: Y = (%0.4f +/- %0.4f)X^2 + (%0.4f +/- %0.4f)X + (%0.6f +/- %0.6f)\" % (popt[0],perr[0],popt[1],perr[1],popt[2],perr[2]))\n",
        "\n",
        "plt.figure(figsize=(8, 6), dpi=80)\n",
        "plt.errorbar(xi, yi, xerr=sigmaxi, yerr=sigmayi, fmt='o', capsize=2, capthick=1)\n",
        "\n",
        "plt.plot(xl,middle)\n",
        "plt.plot(xl,lower)\n",
        "plt.plot(xl,upper)\n",
        "\n",
        "#########################\n",
        "\n",
        "plt.xlabel('Horizonatal Distance (meters)')\n",
        "plt.ylabel('Vertical Distance (meters)')\n",
        "plt.title('Determining the Electron Path (Accelerating Voltage = 2.5 kV)')\n",
        "plt.show()"
      ]
    },
    {
      "cell_type": "code",
      "execution_count": null,
      "metadata": {
        "id": "X_aq6FiuLRyI",
        "outputId": "c828e16b-33fe-4d75-d4da-419bdb41c375",
        "colab": {
          "base_uri": "https://localhost:8080/"
        }
      },
      "outputs": [
        {
          "output_type": "stream",
          "name": "stdout",
          "text": [
            "d$_{eff} = (0.101 +/- 0.008)\n",
            "xi = (-0.00055 +/- -0.00516)\n",
            "yi = (-0.00098 +/- 0.00093)\n"
          ]
        }
      ],
      "source": [
        "Va = 2.50\n",
        "dVa = 0.01\n",
        "Vp = 3.64\n",
        "dVp = 0.01\n",
        "C = popt[0]\n",
        "dC = perr[0]\n",
        "b = popt[1]\n",
        "db = perr[1]\n",
        "c = popt[2]\n",
        "dc = perr[2]\n",
        "\n",
        "deff3 = Vp/(4*C*Va)\n",
        "\n",
        "ddeff3 = deff1*(dVp/Vp+dVa/Va+dC/C)\n",
        "\n",
        "print('d$_{eff} = (%0.3f +/- %0.3f)' % (deff3,ddeff3))\n",
        "\n",
        "x_i3 = -b/(2.0*C)\n",
        "dx_i3 = x_i3*(dC/C+db/b)\n",
        "\n",
        "y_i3 = c - C*x_i3**2\n",
        "dy_i3 = dc + x_i3**2*dC + 2.0*x_i3*C*dx_i3\n",
        "\n",
        "print('xi = (%0.5f +/- %0.5f)' % (x_i3,dx_i3))\n",
        "print('yi = (%0.5f +/- %0.5f)' % (y_i3,dy_i3))"
      ]
    },
    {
      "cell_type": "code",
      "execution_count": null,
      "metadata": {
        "id": "BizAHy83LRyJ",
        "outputId": "21b8918b-b817-4b51-aede-d59cd8e5194f",
        "colab": {
          "base_uri": "https://localhost:8080/"
        }
      },
      "outputs": [
        {
          "output_type": "stream",
          "name": "stdout",
          "text": [
            "Va = 4.50kV: d$_{eff} = (0.089 +/- 0.010)\n",
            "Va = 3.50kV: d$_{eff} = (0.102 +/- 0.010)\n",
            "Va = 2.50kV: d$_{eff} = (0.101 +/- 0.008)\n"
          ]
        }
      ],
      "source": [
        "# Summary of Part I\n",
        "\n",
        "print('Va = 4.50kV: d$_{eff} = (%0.3f +/- %0.3f)' % (deff1,ddeff1))\n",
        "print('Va = 3.50kV: d$_{eff} = (%0.3f +/- %0.3f)' % (deff2,ddeff2))\n",
        "print('Va = 2.50kV: d$_{eff} = (%0.3f +/- %0.3f)' % (deff3,ddeff3))"
      ]
    },
    {
      "cell_type": "markdown",
      "metadata": {
        "id": "63SwJDP1LRyJ"
      },
      "source": [
        "# Determining the Effective Plate Separation"
      ]
    },
    {
      "cell_type": "code",
      "execution_count": null,
      "metadata": {
        "id": "8iFhUTBZLRyJ",
        "outputId": "34217f0d-6f3d-4f90-8718-3d7790a7a327",
        "colab": {
          "base_uri": "https://localhost:8080/"
        }
      },
      "outputs": [
        {
          "output_type": "stream",
          "name": "stdout",
          "text": [
            "Plate Separation Data:\n",
            "  Vp  dVp   Va  dVa\n",
            "1.53 0.01 2.61 0.01\n",
            "1.64 0.01 2.81 0.01\n",
            "1.74 0.01 3.01 0.01\n",
            "1.84 0.01 3.22 0.01\n",
            "1.95 0.01 3.42 0.01\n",
            "2.06 0.01 3.61 0.01\n",
            "2.14 0.01 3.80 0.01\n",
            "2.22 0.01 4.00 0.01\n",
            "2.32 0.01 4.22 0.01\n",
            "2.45 0.01 4.42 0.01\n",
            "2.58 0.01 4.60 0.01\n",
            "2.68 0.01 4.81 0.01\n",
            "2.75 0.01 5.00 0.01\n"
          ]
        }
      ],
      "source": [
        "# Create a Pandas DataFrame with data for part 2\n",
        "\n",
        "# The data elements are [Vp, dVp, Va, dVa]\n",
        "\n",
        "data4 = [[1.53,0.01,2.61,0.01], [1.64,0.01,2.81,0.01], [1.74,0.01,3.01,0.01],\n",
        "         [1.84,0.01,3.22,0.01], [1.95,0.01,3.42,0.01], [2.06,0.01,3.61,0.01],\n",
        "         [2.14,0.01,3.80,0.01], [2.22,0.01,4.00,0.01], [2.32,0.01,4.22,0.01],\n",
        "         [2.45,0.01,4.42,0.01], [2.58,0.01,4.60,0.01], [2.68,0.01,4.81,0.01],\n",
        "         [2.75,0.01,5.00,0.01]]\n",
        "# create dataframe\n",
        "df4 = pd.DataFrame(data4, columns = ['Vp', 'dVp','Va','dVa'])\n",
        "\n",
        "print('Plate Separation Data:')\n",
        "print(df4.to_string(index=False))"
      ]
    },
    {
      "cell_type": "code",
      "execution_count": null,
      "metadata": {
        "id": "eou6LrRnLRyK",
        "outputId": "224184a2-dd24-47b2-8346-65de55d3ad56",
        "colab": {
          "base_uri": "https://localhost:8080/",
          "height": 618
        }
      },
      "outputs": [
        {
          "output_type": "stream",
          "name": "stdout",
          "text": [
            "Beta: [0.51295802 0.1917838 ]\n",
            "Beta Std Error: [0.0067538  0.02622069]\n",
            "Beta Covariance: [[ 1.74556690e-05 -6.65060779e-05]\n",
            " [-6.65060779e-05  2.63104424e-04]]\n",
            "Residual Variance: 2.6131238524586746\n",
            "Inverse Condition #: 0.041008168806765395\n",
            "Reason(s) for Halting:\n",
            "  Sum of squares convergence\n",
            "\n",
            "Final Result: Y = (0.512958017 +/- 0.006753801)X + (0.191783803 +/- 0.026220687)\n"
          ]
        },
        {
          "output_type": "display_data",
          "data": {
            "image/png": "[encoded data removed]",
            "text/plain": [
              "<Figure size 640x480 with 1 Axes>"
            ]
          },
          "metadata": {
            "needs_background": "light"
          }
        }
      ],
      "source": [
        "xi = df4['Va']\n",
        "yi = df4['Vp']\n",
        "sigmaxi = df4['dVa']\n",
        "sigmayi = df4['dVp']\n",
        "\n",
        "##############################\n",
        "\n",
        "from scipy.odr import *\n",
        "\n",
        "def fitfunction(B, x):\n",
        "    '''Linear function y = a*x+b'''\n",
        "    # B is a vector of the parameters.\n",
        "    # x is an array of the current x values.\n",
        "    # x is in the same format as the x passed to Data or RealData.\n",
        "    #\n",
        "    # Return an array in the same format as y passed to Data or RealData.\n",
        "    return B[0]*x+B[1]\n",
        "\n",
        "linear = Model(fitfunction) # create a Model object based on the fitfuncion we have defined\n",
        "mydata = RealData(xi, yi, sx=sigmaxi, sy=sigmayi) # create a data object based on our data, include errors.\n",
        "myodr = ODR(mydata, linear, beta0=[1., 2.]) # create a fitting object, based on the data, fit Model, and an intial set of parameters.\n",
        "myoutput = myodr.run()  # run the fitting process to get optimized parameters!\n",
        "\n",
        "myoutput.pprint() # print out the result of the fit\n",
        "\n",
        "# Now assign the important fit results to some more convenient variables.\n",
        "\n",
        "popt = myoutput.beta # the vector of optimized parameters\n",
        "pcov = myoutput.cov_beta # the covariance matrix\n",
        "perr = myoutput.sd_beta # the vector of ERRORS in the optimized parameters\n",
        "\n",
        "# The following lines generate upper and lower 99% \"Confidence Bands\" on the fit, for visualization\n",
        "# purposes.\n",
        "\n",
        "ps = np.random.multivariate_normal(popt,pcov,10000)\n",
        "xl = np.linspace(xi[0],xi[len(xi)-1],100)\n",
        "ysample=np.asarray([fitfunction(pl,xl) for pl in ps])\n",
        "\n",
        "lower = np.percentile(ysample,0.5,axis=0)\n",
        "upper = np.percentile(ysample,99.5,axis=0)\n",
        "middle = (lower+upper)/2.0\n",
        "\n",
        "print()\n",
        "print (\"Final Result: Y = (%0.9f +/- %0.9f)X + (%0.9f +/- %0.9f)\" % (popt[0],perr[0],popt[1],perr[1]))\n",
        "\n",
        "plt.figure(figsize=(8, 6), dpi=80)\n",
        "\n",
        "plt.errorbar(xi, yi, xerr=sigmaxi, yerr=sigmayi, fmt='o', capsize=2, capthick=1)\n",
        "\n",
        "plt.plot(xl,middle)\n",
        "plt.plot(xl,lower)\n",
        "plt.plot(xl,upper)\n",
        "\n",
        "#########################\n",
        "\n",
        "plt.xlabel('Accelerating Voltage (kV)')\n",
        "plt.ylabel('Plate Voltage (kV)')\n",
        "plt.title('Determining the Effective Plate Separation')\n",
        "plt.show()"
      ]
    },
    {
      "cell_type": "markdown",
      "metadata": {
        "id": "H3uX9doILRyL"
      },
      "source": [
        "## Analysis of Electron Path:   Accelerating Voltage = 4.5 kV\n",
        "\n",
        "First of all, we see that the fit is linear, as expected.\n",
        "\n",
        "Second, we see that the result for the slope is $(0.727 \\pm 0.006)$.  \n",
        "\n",
        "Third, we see that the y-intercept of the fit is $(0.076 \\pm 0.023)$.  This is not\n",
        "consistent with zero, as expected.\n",
        "\n",
        "The theory predicts that this slope should be equal to: $\\frac{4 \\Delta y d_{eff}}{(\\Delta x)^2}$.  Thus, we can calculate that:\n",
        "\n",
        "$d_{eff} = slope \\left( \\frac{(\\Delta x)^2}{4 \\Delta y} \\right)$\n",
        "\n",
        "and \n",
        "\n",
        "$ \\delta(d_{eff}) = d_{eff} \\left( 2 \\frac{\\delta(\\Delta x)}{\\Delta x} + \\frac{\\delta(\\Delta y)}{\\Delta y} + \\frac{\\delta(slope)}{slope} \\right) $"
      ]
    },
    {
      "cell_type": "code",
      "execution_count": null,
      "metadata": {
        "id": "ciefzHUBLRyL"
      },
      "outputs": [],
      "source": [
        "slope = popt[0]\n",
        "dslope = perr[0]\n",
        "\n",
        "deltax = 0.100\n",
        "ddeltax = 0.001\n",
        "deltay = 0.020\n",
        "ddeltay = 0.001\n",
        "\n",
        "deff4 = slope*(deltax**2)/(4.0*deltay)\n",
        "ddeff4 = deff4*(2*ddeltax/deltax + ddeltay/deltay + dslope/slope)\n",
        "\n"
      ]
    },
    {
      "cell_type": "code",
      "execution_count": null,
      "metadata": {
        "id": "LGGdGHlrLRyL",
        "outputId": "ceab7d7d-969a-4839-fc90-229e2d2e0e5d",
        "colab": {
          "base_uri": "https://localhost:8080/"
        }
      },
      "outputs": [
        {
          "output_type": "stream",
          "name": "stdout",
          "text": [
            "Part II: Effective distance = (0.064 +/- 0.005) m\n",
            "\n",
            "Part I:\n",
            "Va = 4.50kV: d_eff = (0.089 +/- 0.010) m\n",
            "Va = 3.50kV: d_eff = (0.102 +/- 0.010) m\n",
            "Va = 2.50kV: d_eff = (0.101 +/- 0.008) m\n"
          ]
        }
      ],
      "source": [
        "# Final Summary\n",
        "print (\"Part II: Effective distance = (%0.3f +/- %0.3f) m\" % (deff4,ddeff4))\n",
        "\n",
        "print()\n",
        "print(\"Part I:\")\n",
        "print('Va = 4.50kV: d_eff = (%0.3f +/- %0.3f) m' % (deff1,ddeff1))\n",
        "print('Va = 3.50kV: d_eff = (%0.3f +/- %0.3f) m' % (deff2,ddeff2))\n",
        "print('Va = 2.50kV: d_eff = (%0.3f +/- %0.3f) m' % (deff3,ddeff3))"
      ]
    },
    {
      "cell_type": "code",
      "execution_count": null,
      "metadata": {
        "id": "2o2wJSJ5LRyL",
        "outputId": "11d894b0-e90c-4be3-f240-2ff43637c5ea",
        "colab": {
          "base_uri": "https://localhost:8080/",
          "height": 461
        }
      },
      "outputs": [
        {
          "output_type": "stream",
          "name": "stdout",
          "text": [
            "Weighted Average = 0.0806 +/- 0.0038 m\n"
          ]
        },
        {
          "output_type": "display_data",
          "data": {
            "image/png": "[encoded data removed]",
            "text/plain": [
              "<Figure size 640x480 with 1 Axes>"
            ]
          },
          "metadata": {
            "needs_background": "light"
          }
        }
      ],
      "source": [
        "x1 = ['IA','IB','IC','II']\n",
        "y1 = np.array([deff1,deff2,deff3,deff4])\n",
        "dy1 = np.array([ddeff1,ddeff2,ddeff3,ddeff4])\n",
        "\n",
        "# Calculate the weighted average of the effective distance values.\n",
        "def w_avg(x, dx):\n",
        "    d = x\n",
        "    w = 1.0/dx**2\n",
        "    return (d * w).sum()/w.sum(), np.sqrt(1/w.sum())\n",
        "\n",
        "average, daverage = w_avg(y1,dy1)\n",
        "print ('Weighted Average = %0.4f +/- %0.4f m' % (average,daverage))\n",
        "ylow = average-daverage\n",
        "yhigh = average+daverage\n",
        "y2 = [ylow,ylow,ylow,ylow]\n",
        "y3 = [yhigh,yhigh,yhigh,yhigh]\n",
        "\n",
        "\n",
        "plt.figure(figsize=(8, 6), dpi=80)\n",
        "\n",
        "plt.errorbar(x1, y1, yerr=dy1, fmt='o', capsize=2, capthick=1)\n",
        "plt.plot(x1,y2)\n",
        "plt.plot(x1,y3)\n",
        "\n",
        "#########################\n",
        "\n",
        "plt.xlabel('Experiment Part')\n",
        "plt.ylabel('Effective Plate Separation (m)')\n",
        "plt.title('Comparison of Parts I and II')\n",
        "plt.ylim(0,0.12)\n",
        "plt.show()"
      ]
    },
    {
      "cell_type": "code",
      "execution_count": null,
      "metadata": {
        "id": "tmOPsf5hLRyM",
        "outputId": "c5aefa6b-0f71-4db7-f00c-d83c72f6781e",
        "colab": {
          "base_uri": "https://localhost:8080/",
          "height": 444
        }
      },
      "outputs": [
        {
          "output_type": "display_data",
          "data": {
            "image/png": "[encoded data removed]",
            "text/plain": [
              "<Figure size 640x480 with 1 Axes>"
            ]
          },
          "metadata": {
            "needs_background": "light"
          }
        }
      ],
      "source": [
        "x1 = ['IA','IB','IC']\n",
        "y1 = [x_i1,x_i2,x_i3]\n",
        "dy1 = [dx_i1,dx_i2,dx_i3]\n",
        "y2 = [y_i1,y_i2,y_i3]\n",
        "dy2 = [dy_i1,dy_i2,dy_i3]\n",
        "\n",
        "plt.figure(figsize=(8, 6), dpi=80)\n",
        "\n",
        "plt.errorbar(x1, y1, yerr=dy1, fmt='o', capsize=2, capthick=1)\n",
        "plt.errorbar(x1, y2, yerr=dy2, fmt='o', capsize=2, capthick=1)\n",
        "#########################\n",
        "\n",
        "plt.xlabel('Experiment Part')\n",
        "plt.ylabel('Initial X/Y Position (m)')\n",
        "plt.title('Comparison of Part I Extractions')\n",
        "plt.ylim(-0.01,0.02)\n",
        "plt.show()"
      ]
    },
    {
      "cell_type": "markdown",
      "source": [
        "We can see fron the analysis that the first three methods seem to agree on a general value and fall around $.10 m$ as the plate distance. However the 4th method does not fall near the others this could be due to errors in the expirement such as not having the most accurate measurments/human error."
      ],
      "metadata": {
        "id": "ThpGrlZpNQbN"
      }
    },
    {
      "cell_type": "code",
      "execution_count": null,
      "metadata": {
        "id": "ag9SblI7LRyM"
      },
      "outputs": [],
      "source": [
        ""
      ]
    }
  ],
  "metadata": {
    "kernelspec": {
      "display_name": "Python 3",
      "language": "python",
      "name": "python3"
    },
    "language_info": {
      "codemirror_mode": {
        "name": "ipython",
        "version": 3
      },
      "file_extension": ".py",
      "mimetype": "text/x-python",
      "name": "python",
      "nbconvert_exporter": "python",
      "pygments_lexer": "ipython3",
      "version": "3.6.8"
    },
    "latex_envs": {
      "LaTeX_envs_menu_present": true,
      "autoclose": false,
      "autocomplete": true,
      "bibliofile": "biblio.bib",
      "cite_by": "apalike",
      "current_citInitial": 1,
      "eqLabelWithNumbers": true,
      "eqNumInitial": 1,
      "hotkeys": {
        "equation": "Ctrl-E",
        "itemize": "Ctrl-I"
      },
      "labels_anchors": false,
      "latex_user_defs": false,
      "report_style_numbering": false,
      "user_envs_cfg": false
    },
    "colab": {
      "name": "Electric_Force_Analysis_Quadratic.ipynb (Updated)",
      "provenance": []
    }
  },
  "nbformat": 4,
  "nbformat_minor": 0
}