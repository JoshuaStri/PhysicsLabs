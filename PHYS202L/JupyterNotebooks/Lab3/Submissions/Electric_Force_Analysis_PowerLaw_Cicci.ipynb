{
  "cells": [
    {
      "cell_type": "markdown",
      "metadata": {
        "id": "e8uG_9oMOT_F"
      },
      "source": [
        "# Lab 3:  Electric Force"
      ]
    },
    {
      "cell_type": "code",
      "execution_count": null,
      "metadata": {
        "id": "8zyAnuu3OT_K"
      },
      "outputs": [],
      "source": [
        "import numpy as np\n",
        "import pandas as pd\n",
        "import matplotlib.pyplot as plt\n",
        "import scipy.stats as stats\n",
        "\n",
        "# The following lines make plots in dark mode look reasonable.  If you are not using dark\n",
        "# mode you don't need them, but you can also just leave them here and it should work fine.\n",
        "#Group: Alex Zannelli, Tyler/Sky Cicci, Atticus Wingfield, Noah Kneessi\n",
        "dark_mode = False\n",
        "# plotting choices for dark-mode\n",
        "if (dark_mode):\n",
        "    from jupyterthemes import jtplot\n",
        "    jtplot.style(theme='monokai', context='notebook', ticks=True, grid=False)\n",
        "    linecolor = 'w'\n",
        "else:\n",
        "    linecolor = 'k'"
      ]
    },
    {
      "cell_type": "markdown",
      "metadata": {
        "id": "s1j-xripOT_M"
      },
      "source": [
        "# Determining the Path of Electrons"
      ]
    },
    {
      "cell_type": "code",
      "execution_count": null,
      "metadata": {
        "colab": {
          "base_uri": "https://localhost:8080/"
        },
        "id": "XH2NCA4gOT_M",
        "outputId": "64a4571d-527f-493e-b62c-3b4e303ef335"
      },
      "outputs": [
        {
          "output_type": "stream",
          "name": "stdout",
          "text": [
            "Accelerating voltage = 4.5 kV:\n",
            " x_cm  dx_cm  y_cm  dy_cm\n",
            "  2.0    0.1  0.05    0.2\n",
            "  3.0    0.1  0.10    0.2\n",
            "  4.0    0.1  0.30    0.2\n",
            "  5.0    0.1  0.40    0.2\n",
            "  6.0    0.1  0.60    0.2\n",
            "  7.0    0.1  0.90    0.2\n",
            "  8.0    0.1  1.40    0.2\n",
            "  9.0    0.1  1.60    0.2\n",
            " 10.0    0.1  2.00    0.2\n",
            "\n",
            "Accelerating voltage = 3.5 kV:\n",
            " x_cm  dx_cm  y_cm  dy_cm\n",
            "  2.0    0.1  0.05    0.2\n",
            "  3.0    0.1  0.10    0.2\n",
            "  4.0    0.1  0.30    0.2\n",
            "  5.0    0.1  0.50    0.2\n",
            "  6.0    0.1  0.80    0.2\n",
            "  7.0    0.1  1.20    0.2\n",
            "  8.0    0.1  1.60    0.2\n",
            "  9.0    0.1  2.10    0.2\n",
            " 10.0    0.1  2.40    0.2\n",
            "\n",
            "Accelerating voltage = 2.5 kV:\n",
            " x_cm  dx_cm  y_cm  dy_cm\n",
            "  2.0    0.1  0.05    0.2\n",
            "  3.0    0.1  0.20    0.2\n",
            "  4.0    0.1  0.40    0.2\n",
            "  5.0    0.1  0.80    0.2\n",
            "  6.0    0.1  1.30    0.2\n",
            "  7.0    0.1  1.70    0.2\n",
            "  8.0    0.1  2.25    0.2\n",
            "  9.0    0.1  3.00    0.2\n",
            " 10.0    0.1  3.50    0.2\n"
          ]
        }
      ],
      "source": [
        "# Create a Pandas DataFrame with data for part 1\n",
        "\n",
        "# The data elements are [x_cm, dx_cm, y_cm, dy_cm]\n",
        "\n",
        "data1 = [[2.00,0.1,0.05,0.2], [3.00,0.1,0.10,0.2], [4.00,0.1,0.30,0.2], [5.00,0.1,0.40,0.2], [6.00,0.1,0.60,0.2], [7.00,0.1,0.90,0.2],\n",
        "[8.00,0.1,1.40,0.2], [9.00,0.1,1.60,0.2], [10.00,0.1,2.00,0.2]]\n",
        "# create dataframe\n",
        "df1 = pd.DataFrame(data1, columns = ['x_cm', 'dx_cm','y_cm','dy_cm'])\n",
        "\n",
        "print('Accelerating voltage = 4.5 kV:')\n",
        "print(df1.to_string(index=False))\n",
        "\n",
        "data2 = [[2.00,0.1,0.05,0.2], [3.00,0.1,0.10,0.2], [4.00,0.1,0.30,0.2], [5.00,0.1,0.50,0.2], [6.00,0.1,0.80,0.2], [7.00,0.1,1.20,0.2],\n",
        "         [8.00,0.1,1.60,0.2], [9.00,0.1,2.10,0.2], [10.00,0.1,2.40,0.2]]\n",
        "# create dataframe\n",
        "df2 = pd.DataFrame(data2, columns = ['x_cm', 'dx_cm','y_cm','dy_cm'])\n",
        "\n",
        "print()\n",
        "print('Accelerating voltage = 3.5 kV:')\n",
        "print(df2.to_string(index=False))\n",
        "\n",
        "data3 = [[2.00,0.1,0.05,0.2], [3.00,0.1,0.20,0.2], [4.00,0.1,0.40,0.2], [5.00,0.1,0.80,0.2], [6.00,0.1,1.30,0.2], [7.00,0.1,1.70,0.2],\n",
        "         [8.00,0.1,2.25,0.2], [9.00,0.1,3.00,0.2], [10.00,0.1,3.50,0.2]]\n",
        "# create dataframe\n",
        "df3 = pd.DataFrame(data3, columns = ['x_cm', 'dx_cm','y_cm','dy_cm'])\n",
        "\n",
        "print()\n",
        "print('Accelerating voltage = 2.5 kV:')\n",
        "print(df3.to_string(index=False))"
      ]
    },
    {
      "cell_type": "code",
      "execution_count": null,
      "metadata": {
        "colab": {
          "base_uri": "https://localhost:8080/"
        },
        "id": "N2v6XHn-OT_N",
        "outputId": "f73c7022-230a-41ef-80f7-a8ef183b77e3"
      },
      "outputs": [
        {
          "output_type": "stream",
          "name": "stdout",
          "text": [
            "Accelerating voltage = 4.5 kV:\n",
            " x_cm  dx_cm  y_cm  dy_cm    x    dx      y    dy\n",
            "  2.0    0.1  0.05    0.2 0.02 0.001 0.0005 0.002\n",
            "  3.0    0.1  0.10    0.2 0.03 0.001 0.0010 0.002\n",
            "  4.0    0.1  0.30    0.2 0.04 0.001 0.0030 0.002\n",
            "  5.0    0.1  0.40    0.2 0.05 0.001 0.0040 0.002\n",
            "  6.0    0.1  0.60    0.2 0.06 0.001 0.0060 0.002\n",
            "  7.0    0.1  0.90    0.2 0.07 0.001 0.0090 0.002\n",
            "  8.0    0.1  1.40    0.2 0.08 0.001 0.0140 0.002\n",
            "  9.0    0.1  1.60    0.2 0.09 0.001 0.0160 0.002\n",
            " 10.0    0.1  2.00    0.2 0.10 0.001 0.0200 0.002\n",
            "\n",
            "Accelerating voltage = 3.5 kV:\n",
            " x_cm  dx_cm  y_cm  dy_cm    x    dx      y    dy\n",
            "  2.0    0.1  0.05    0.2 0.02 0.001 0.0005 0.002\n",
            "  3.0    0.1  0.10    0.2 0.03 0.001 0.0010 0.002\n",
            "  4.0    0.1  0.30    0.2 0.04 0.001 0.0030 0.002\n",
            "  5.0    0.1  0.50    0.2 0.05 0.001 0.0050 0.002\n",
            "  6.0    0.1  0.80    0.2 0.06 0.001 0.0080 0.002\n",
            "  7.0    0.1  1.20    0.2 0.07 0.001 0.0120 0.002\n",
            "  8.0    0.1  1.60    0.2 0.08 0.001 0.0160 0.002\n",
            "  9.0    0.1  2.10    0.2 0.09 0.001 0.0210 0.002\n",
            " 10.0    0.1  2.40    0.2 0.10 0.001 0.0240 0.002\n",
            "\n",
            "Accelerating voltage = 2.5 kV:\n",
            " x_cm  dx_cm  y_cm  dy_cm    x    dx      y    dy\n",
            "  2.0    0.1  0.05    0.2 0.02 0.001 0.0005 0.002\n",
            "  3.0    0.1  0.20    0.2 0.03 0.001 0.0020 0.002\n",
            "  4.0    0.1  0.40    0.2 0.04 0.001 0.0040 0.002\n",
            "  5.0    0.1  0.80    0.2 0.05 0.001 0.0080 0.002\n",
            "  6.0    0.1  1.30    0.2 0.06 0.001 0.0130 0.002\n",
            "  7.0    0.1  1.70    0.2 0.07 0.001 0.0170 0.002\n",
            "  8.0    0.1  2.25    0.2 0.08 0.001 0.0225 0.002\n",
            "  9.0    0.1  3.00    0.2 0.09 0.001 0.0300 0.002\n",
            " 10.0    0.1  3.50    0.2 0.10 0.001 0.0350 0.002\n"
          ]
        }
      ],
      "source": [
        "df1['x'] = 0.01*(df1['x_cm'])\n",
        "df1['dx'] = 0.01*df1['dx_cm']\n",
        "df1['y'] = 0.01*df1['y_cm']\n",
        "df1['dy'] = 0.01*df1['dy_cm']\n",
        "\n",
        "print('Accelerating voltage = 4.5 kV:')\n",
        "print(df1.to_string(index=False))\n",
        "\n",
        "df2['x'] = 0.01*(df2['x_cm'])\n",
        "df2['dx'] = 0.01*df2['dx_cm']\n",
        "df2['y'] = 0.01*df2['y_cm']\n",
        "df2['dy'] = 0.01*df2['dy_cm']\n",
        "\n",
        "print()\n",
        "print('Accelerating voltage = 3.5 kV:')\n",
        "print(df2.to_string(index=False))\n",
        "\n",
        "df3['x'] = 0.01*(df3['x_cm'])\n",
        "df3['dx'] = 0.01*df3['dx_cm']\n",
        "df3['y'] = 0.01*df3['y_cm']\n",
        "df3['dy'] = 0.01*df3['dy_cm']\n",
        "\n",
        "print()\n",
        "print('Accelerating voltage = 2.5 kV:')\n",
        "print(df3.to_string(index=False))"
      ]
    },
    {
      "cell_type": "code",
      "execution_count": null,
      "metadata": {
        "colab": {
          "base_uri": "https://localhost:8080/",
          "height": 670
        },
        "id": "vdpSQVfOOT_O",
        "outputId": "5dd2f1b3-6b0e-4da0-8ff1-196ec9c6663f"
      },
      "outputs": [
        {
          "output_type": "stream",
          "name": "stdout",
          "text": [
            "Beta: [1.36390152e+00 1.99999971e-02 1.67636470e+00 4.56416667e-04]\n",
            "Beta Std Error: [1.12713135e+00 1.46985830e-02 4.24591034e-01 7.51816334e-04]\n",
            "Beta Covariance: [[ 8.75002600e+00 -9.93392588e-02  3.26762494e+00 -1.89189107e-03]\n",
            " [-9.93392588e-02  1.48802841e-03 -3.97648917e-02  5.00368698e-05]\n",
            " [ 3.26762494e+00 -3.97648917e-02  1.24165781e+00 -8.82534295e-04]\n",
            " [-1.89189107e-03  5.00368698e-05 -8.82534295e-04  3.89299458e-06]]\n",
            "Residual Variance: 0.14519100636474916\n",
            "Inverse Condition #: 0.00117237123769378\n",
            "Reason(s) for Halting:\n",
            "  Sum of squares convergence\n"
          ]
        },
        {
          "output_type": "stream",
          "name": "stderr",
          "text": [
            "/usr/local/lib/python3.7/dist-packages/ipykernel_launcher.py:17: RuntimeWarning: invalid value encountered in power\n"
          ]
        },
        {
          "output_type": "stream",
          "name": "stdout",
          "text": [
            "\n",
            "Final Result: Y = (1.3639 +/- 1.1271)(X - (0.0200 +/- 0.0147))^(1.6764 +/- 0.4246) + (0.0005 +/- 0.0008)\n"
          ]
        },
        {
          "output_type": "display_data",
          "data": {
            "image/png": "[encoded data removed]",
            "text/plain": [
              "<Figure size 640x480 with 1 Axes>"
            ]
          },
          "metadata": {
            "needs_background": "light"
          }
        }
      ],
      "source": [
        "xi = df1['x']\n",
        "yi = df1['y']\n",
        "sigmaxi = df1['dx']\n",
        "sigmayi = df1['dy']\n",
        "\n",
        "##############################\n",
        "\n",
        "from scipy.odr import *\n",
        "\n",
        "def fitfunction(B, x):\n",
        "    '''Non-Linear function y = a*(x-c)^b+d'''\n",
        "    # B is a vector of the parameters.\n",
        "    # x is an array of the current x values.\n",
        "    # x is in the same format as the x passed to Data or RealData.\n",
        "    #\n",
        "    # Return an array in the same format as y passed to Data or RealData\n",
        "    return B[0]*(x-B[1])**B[2] + B[3]\n",
        "\n",
        "linear = Model(fitfunction) # create a Model object based on the fitfuncion we have defined\n",
        "mydata = RealData(xi, yi, sx=sigmaxi, sy=sigmayi) # create a data object based on our data, include errors.\n",
        "myodr = ODR(mydata, linear, beta0=[6.0, .01, 2.0, 0.0002]) # create a fitting object, based on the data, fit Model, and an intial set of parameters.\n",
        "myoutput = myodr.run()  # run the fitting process to get optimized parameters!\n",
        "\n",
        "myoutput.pprint() # print out the result of the fit\n",
        "\n",
        "# Now assign the important fit results to some more convenient variables.\n",
        "\n",
        "popt = myoutput.beta # the vector of optimized parameters\n",
        "pcov = myoutput.cov_beta # the covariance matrix\n",
        "perr = myoutput.sd_beta # the vector of ERRORS in the optimized parameters\n",
        "\n",
        "# The following lines generate upper and lower 99% \"Confidence Bands\" on the fit, for visualization\n",
        "# purposes.\n",
        "\n",
        "ps = np.random.multivariate_normal(popt,pcov,10000)\n",
        "xl = np.linspace(xi[0],xi[len(xi)-1],100)\n",
        "ysample=np.asarray([fitfunction(pl,xl) for pl in ps])\n",
        "ysample = np.nan_to_num(ysample)\n",
        "\n",
        "lower = np.percentile(ysample,16.0,axis=0)\n",
        "upper = np.percentile(ysample,84.0,axis=0)\n",
        "middle = (lower+upper)/2.0\n",
        "\n",
        "yfit = fitfunction(popt,xl)\n",
        "\n",
        "print()\n",
        "print (\"Final Result: Y = (%0.4f +/- %0.4f)(X - (%0.4f +/- %0.4f))^(%0.4f +/- %0.4f) + (%0.4f +/- %0.4f)\" % (popt[0],perr[0],popt[1],perr[1],popt[2],perr[2],popt[3],perr[3]))\n",
        "\n",
        "plt.figure(figsize=(8, 6), dpi=80)\n",
        "plt.errorbar(xi, yi, xerr=sigmaxi, yerr=sigmayi, fmt='o', capsize=2, capthick=1)\n",
        "\n",
        "#plt.plot(xl,middle)\n",
        "#plt.plot(xl,lower)\n",
        "#plt.plot(xl,upper)\n",
        "plt.plot(xl,yfit)\n",
        "\n",
        "#########################\n",
        "\n",
        "plt.xlabel('Horizonatal Distance (meters)')\n",
        "plt.ylabel('Vertical Distance (meters)')\n",
        "plt.title('Determining the Electron Path (Accelerating Voltage = 4.5 kV)')\n",
        "plt.show()"
      ]
    },
    {
      "cell_type": "markdown",
      "metadata": {
        "id": "9Wx1eNGuOT_Q"
      },
      "source": [
        "## Analysis of Electron Path:   Accelerating Voltage = 4.5 kV\n",
        "\n",
        "First of all, we see that the fit is non-linear, as expected, and appears to be roughly quadratic.\n",
        "\n",
        "From the theory, we expect:\n",
        "\n",
        "$y = C(x-x_i)^\\alpha + y_i$\n",
        "\n",
        "where:\n",
        "\n",
        "$C = \\frac{V_p}{4 d_{eff} V_a}$\n",
        "\n",
        "We see that the coefficient C is $(2.57 \\pm 0.17)$.\n",
        "\n",
        "The theory predicts that this coefficient should be equal to: $\\frac{V_p}{4 d_{eff} V_a}$.  Thus, we can calculate that:\n",
        "\n",
        "$d_{eff} = \\frac{V_p}{4 C V_a}$\n",
        "\n",
        "and \n",
        "\n",
        "$ \\delta(d_{eff}) = d_{eff} \\left( \\frac{\\delta(V_p)}{V_p} + \\frac{\\delta(V_a)}{V_a} + \\frac{\\delta(C)}{C} \\right) $"
      ]
    },
    {
      "cell_type": "code",
      "execution_count": null,
      "metadata": {
        "colab": {
          "base_uri": "https://localhost:8080/"
        },
        "id": "BZQVAK43OT_R",
        "outputId": "d5d0aa2e-b53f-440b-b2f5-86f9f9134626"
      },
      "outputs": [
        {
          "output_type": "stream",
          "name": "stdout",
          "text": [
            "d$_{eff} = (0.148 +/- 0.123)\n",
            "xi = (0.02000 +/- 0.01470)\n",
            "yi = (0.00046 +/- 0.00075)\n",
            "alpha = (1.67636 +/- 0.42459)\n"
          ]
        }
      ],
      "source": [
        "Va = 4.50\n",
        "dVa = 0.01\n",
        "Vp = 3.64\n",
        "dVp = 0.01\n",
        "C = popt[0]\n",
        "dC = perr[0]\n",
        "x_i1 = popt[1]\n",
        "dx_i1 = perr[1]\n",
        "alpha1 = popt[2]\n",
        "dalpha1 = perr[2]\n",
        "y_i1 = popt[3]\n",
        "dy_i1 = perr[3]\n",
        "\n",
        "deff1 = Vp/(4*C*Va)\n",
        "\n",
        "ddeff1 = deff1*(dVp/Vp+dVa/Va+dC/C)\n",
        "\n",
        "print('d$_{eff} = (%0.3f +/- %0.3f)' % (deff1,ddeff1))\n",
        "\n",
        "print('xi = (%0.5f +/- %0.5f)' % (x_i1,dx_i1))\n",
        "print('yi = (%0.5f +/- %0.5f)' % (y_i1,dy_i1))\n",
        "print('alpha = (%0.5f +/- %0.5f)' % (alpha1,dalpha1))"
      ]
    },
    {
      "cell_type": "code",
      "execution_count": null,
      "metadata": {
        "colab": {
          "base_uri": "https://localhost:8080/",
          "height": 670
        },
        "id": "yjSdHfl7OT_R",
        "outputId": "548c4088-a7d0-461d-b4aa-440e02f3e8aa"
      },
      "outputs": [
        {
          "output_type": "stream",
          "name": "stdout",
          "text": [
            "Beta: [1.28184168e+00 2.00000343e-02 1.56417546e+00 6.47591479e-05]\n",
            "Beta Std Error: [0.60333826 0.00842995 0.23646632 0.0006068 ]\n",
            "Beta Covariance: [[ 3.89536913e+00 -4.64127392e-02  1.51331214e+00 -1.04548764e-03]\n",
            " [-4.64127392e-02  7.60460006e-04 -1.94263250e-02  3.45779906e-05]\n",
            " [ 1.51331214e+00 -1.94263250e-02  5.98364040e-01 -5.24881367e-04]\n",
            " [-1.04548764e-03  3.45779906e-05 -5.24881367e-04  3.94026140e-06]]\n",
            "Residual Variance: 0.09344866851156211\n",
            "Inverse Condition #: 0.00031556560802273943\n",
            "Reason(s) for Halting:\n",
            "  Sum of squares convergence\n"
          ]
        },
        {
          "output_type": "stream",
          "name": "stderr",
          "text": [
            "/usr/local/lib/python3.7/dist-packages/ipykernel_launcher.py:17: RuntimeWarning: invalid value encountered in power\n"
          ]
        },
        {
          "output_type": "stream",
          "name": "stdout",
          "text": [
            "\n",
            "Final Result: Y = (1.2818 +/- 0.6033)(X - (0.0200 +/- 0.0084))^(1.5642 +/- 0.2365) + (0.0001 +/- 0.0006)\n"
          ]
        },
        {
          "output_type": "display_data",
          "data": {
            "image/png": "[encoded data removed]",
            "text/plain": [
              "<Figure size 640x480 with 1 Axes>"
            ]
          },
          "metadata": {
            "needs_background": "light"
          }
        }
      ],
      "source": [
        "xi = df2['x']\n",
        "yi = df2['y']\n",
        "sigmaxi = df2['dx']\n",
        "sigmayi = df2['dy']\n",
        "\n",
        "##############################\n",
        "\n",
        "from scipy.odr import *\n",
        "\n",
        "def fitfunction(B, x):\n",
        "    '''Non-Linear function y = a*(x-c)^b+d'''\n",
        "    # B is a vector of the parameters.\n",
        "    # x is an array of the current x values.\n",
        "    # x is in the same format as the x passed to Data or RealData.\n",
        "    #\n",
        "    # Return an array in the same format as y passed to Data or RealData\n",
        "    return B[0]*(x-B[1])**B[2] + B[3]\n",
        "\n",
        "linear = Model(fitfunction) # create a Model object based on the fitfuncion we have defined\n",
        "mydata = RealData(xi, yi, sx=sigmaxi, sy=sigmayi) # create a data object based on our data, include errors.\n",
        "myodr = ODR(mydata, linear, beta0=[1.9, 0.01, 1.92, 0.00006]) # create a fitting object, based on the data, fit Model, and an intial set of parameters.\n",
        "myoutput = myodr.run()  # run the fitting process to get optimized parameters!\n",
        "\n",
        "myoutput.pprint() # print out the result of the fit\n",
        "\n",
        "# Now assign the important fit results to some more convenient variables.\n",
        "\n",
        "popt = myoutput.beta # the vector of optimized parameters\n",
        "pcov = myoutput.cov_beta # the covariance matrix\n",
        "perr = myoutput.sd_beta # the vector of ERRORS in the optimized parameters\n",
        "\n",
        "# The following lines generate upper and lower 99% \"Confidence Bands\" on the fit, for visualization\n",
        "# purposes.\n",
        "\n",
        "ps = np.random.multivariate_normal(popt,pcov,10000)\n",
        "xl = np.linspace(xi[0],xi[len(xi)-1],100)\n",
        "ysample=np.asarray([fitfunction(pl,xl) for pl in ps])\n",
        "ysample = np.nan_to_num(ysample)\n",
        "\n",
        "lower = np.percentile(ysample,16.0,axis=0)\n",
        "upper = np.percentile(ysample,84.0,axis=0)\n",
        "middle = (lower+upper)/2.0\n",
        "\n",
        "yfit = fitfunction(popt,xl)\n",
        "\n",
        "print()\n",
        "print (\"Final Result: Y = (%0.4f +/- %0.4f)(X - (%0.4f +/- %0.4f))^(%0.4f +/- %0.4f) + (%0.4f +/- %0.4f)\" % (popt[0],perr[0],popt[1],perr[1],popt[2],perr[2],popt[3],perr[3]))\n",
        "\n",
        "plt.figure(figsize=(8, 6), dpi=80)\n",
        "plt.errorbar(xi, yi, xerr=sigmaxi, yerr=sigmayi, fmt='o', capsize=2, capthick=1)\n",
        "\n",
        "#plt.plot(xl,middle)\n",
        "#plt.plot(xl,lower)\n",
        "#plt.plot(xl,upper)\n",
        "plt.plot(xl,yfit)\n",
        "\n",
        "#########################\n",
        "\n",
        "plt.xlabel('Horizonatal Distance (meters)')\n",
        "plt.ylabel('Vertical Distance (meters)')\n",
        "plt.title('Determining the Electron Path (Accelerating Voltage = 3.5 kV)')\n",
        "plt.show()\n",
        "\n"
      ]
    },
    {
      "cell_type": "code",
      "execution_count": null,
      "metadata": {
        "colab": {
          "base_uri": "https://localhost:8080/"
        },
        "id": "4sgonSNsOT_S",
        "outputId": "e8ae1585-40f6-4b37-8afc-9769c62f7e2e"
      },
      "outputs": [
        {
          "output_type": "stream",
          "name": "stdout",
          "text": [
            "d$_{eff} = (0.203 +/- 0.097)\n",
            "xi = (0.02000 +/- 0.00843)\n",
            "yi = (0.00006 +/- 0.00061)\n",
            "alpha = (1.56418 +/- 0.23647)\n"
          ]
        }
      ],
      "source": [
        "Va = 3.50\n",
        "dVa = 0.01\n",
        "Vp = 3.64\n",
        "dVp = 0.01\n",
        "C = popt[0]\n",
        "dC = perr[0]\n",
        "x_i2 = popt[1]\n",
        "dx_i2 = perr[1]\n",
        "alpha2 = popt[2]\n",
        "dalpha2 = perr[2]\n",
        "y_i2 = popt[3]\n",
        "dy_i2 = perr[3]\n",
        "\n",
        "deff2 = Vp/(4*C*Va)\n",
        "\n",
        "ddeff2 = deff2*(dVp/Vp+dVa/Va+dC/C)\n",
        "\n",
        "print('d$_{eff} = (%0.3f +/- %0.3f)' % (deff2,ddeff2))\n",
        "\n",
        "print('xi = (%0.5f +/- %0.5f)' % (x_i2,dx_i2))\n",
        "print('yi = (%0.5f +/- %0.5f)' % (y_i2,dy_i2))\n",
        "print('alpha = (%0.5f +/- %0.5f)' % (alpha2,dalpha2))\n",
        "\n"
      ]
    },
    {
      "cell_type": "code",
      "execution_count": null,
      "metadata": {
        "colab": {
          "base_uri": "https://localhost:8080/",
          "height": 670
        },
        "id": "7LdaYc23OT_S",
        "outputId": "2db810b2-0721-4bc6-de7e-80f01e9fa9cd"
      },
      "outputs": [
        {
          "output_type": "stream",
          "name": "stdout",
          "text": [
            "Beta: [1.77758811e+00 2.00000108e-02 1.55364798e+00 4.31157928e-04]\n",
            "Beta Std Error: [0.62786424 0.00628788 0.17676752 0.00064874]\n",
            "Beta Covariance: [[ 3.69529939e+00 -3.14889807e-02  1.03122971e+00 -9.90522804e-04]\n",
            " [-3.14889807e-02  3.70617910e-04 -9.47178085e-03  2.39647196e-05]\n",
            " [ 1.03122971e+00 -9.47178085e-03  2.92902484e-01 -3.58703776e-04]\n",
            " [-9.90522804e-04  2.39647196e-05 -3.58703776e-04  3.94513981e-06]]\n",
            "Residual Variance: 0.10667972065650937\n",
            "Inverse Condition #: 0.0010592084019765832\n",
            "Reason(s) for Halting:\n",
            "  Sum of squares convergence\n"
          ]
        },
        {
          "output_type": "stream",
          "name": "stderr",
          "text": [
            "/usr/local/lib/python3.7/dist-packages/ipykernel_launcher.py:17: RuntimeWarning: invalid value encountered in power\n"
          ]
        },
        {
          "output_type": "stream",
          "name": "stdout",
          "text": [
            "\n",
            "Final Result: Y = (1.7776 +/- 0.6279)(X - (0.0200 +/- 0.0063))^(1.5536 +/- 0.1768) + (0.0004 +/- 0.0006)\n"
          ]
        },
        {
          "output_type": "display_data",
          "data": {
            "image/png": "[encoded data removed]",
            "text/plain": [
              "<Figure size 640x480 with 1 Axes>"
            ]
          },
          "metadata": {
            "needs_background": "light"
          }
        }
      ],
      "source": [
        "xi = df3['x']\n",
        "yi = df3['y']\n",
        "sigmaxi = df3['dx']\n",
        "sigmayi = df3['dy']\n",
        "\n",
        "##############################\n",
        "\n",
        "from scipy.odr import *\n",
        "\n",
        "def fitfunction(B, x):\n",
        "    '''Non-Linear function y = a*(x-c)^b+d'''\n",
        "    # B is a vector of the parameters.\n",
        "    # x is an array of the current x values.\n",
        "    # x is in the same format as the x passed to Data or RealData.\n",
        "    #\n",
        "    # Return an array in the same format as y passed to Data or RealData\n",
        "    return B[0]*(x-B[1])**B[2] + B[3]\n",
        "\n",
        "linear = Model(fitfunction) # create a Model object based on the fitfuncion we have defined\n",
        "mydata = RealData(xi, yi, sx=sigmaxi, sy=sigmayi) # create a data object based on our data, include errors.\n",
        "myodr = ODR(mydata, linear, beta0=[1.7, 0.01, 2.0, 0.0003]) # create a fitting object, based on the data, fit Model, and an intial set of parameters.\n",
        "myoutput = myodr.run()  # run the fitting process to get optimized parameters!\n",
        "\n",
        "myoutput.pprint() # print out the result of the fit\n",
        "\n",
        "# Now assign the important fit results to some more convenient variables.\n",
        "\n",
        "popt = myoutput.beta # the vector of optimized parameters\n",
        "pcov = myoutput.cov_beta # the covariance matrix\n",
        "perr = myoutput.sd_beta # the vector of ERRORS in the optimized parameters\n",
        "\n",
        "# The following lines generate upper and lower 99% \"Confidence Bands\" on the fit, for visualization\n",
        "# purposes.\n",
        "\n",
        "ps = np.random.multivariate_normal(popt,pcov,10000)\n",
        "xl = np.linspace(xi[0],xi[len(xi)-1],100)\n",
        "ysample=np.asarray([fitfunction(pl,xl) for pl in ps])\n",
        "ysample = np.nan_to_num(ysample)\n",
        "\n",
        "lower = np.percentile(ysample,16.0,axis=0)\n",
        "upper = np.percentile(ysample,84.0,axis=0)\n",
        "middle = (lower+upper)/2.0\n",
        "\n",
        "yfit = fitfunction(popt,xl)\n",
        "\n",
        "print()\n",
        "print (\"Final Result: Y = (%0.4f +/- %0.4f)(X - (%0.4f +/- %0.4f))^(%0.4f +/- %0.4f) + (%0.4f +/- %0.4f)\" % (popt[0],perr[0],popt[1],perr[1],popt[2],perr[2],popt[3],perr[3]))\n",
        "\n",
        "plt.figure(figsize=(8, 6), dpi=80)\n",
        "plt.errorbar(xi, yi, xerr=sigmaxi, yerr=sigmayi, fmt='o', capsize=2, capthick=1)\n",
        "\n",
        "#plt.plot(xl,middle)\n",
        "#plt.plot(xl,lower)\n",
        "#plt.plot(xl,upper)\n",
        "plt.plot(xl,yfit)\n",
        "\n",
        "#########################\n",
        "\n",
        "plt.xlabel('Horizonatal Distance (meters)')\n",
        "plt.ylabel('Vertical Distance (meters)')\n",
        "plt.title('Determining the Electron Path (Accelerating Voltage = 2.5 kV)')\n",
        "plt.show()\n"
      ]
    },
    {
      "cell_type": "code",
      "execution_count": null,
      "metadata": {
        "colab": {
          "base_uri": "https://localhost:8080/"
        },
        "id": "Et-KDq1mOT_T",
        "outputId": "69ea1402-4c1d-4fca-e449-6ed817f761db"
      },
      "outputs": [
        {
          "output_type": "stream",
          "name": "stdout",
          "text": [
            "d$_{eff} = (0.205 +/- 0.074)\n",
            "xi = (0.02000 +/- 0.00629)\n",
            "yi = (0.00043 +/- 0.00065)\n",
            "alpha = (1.55365 +/- 0.17677)\n"
          ]
        }
      ],
      "source": [
        "Va = 2.50\n",
        "dVa = 0.01\n",
        "Vp = 3.64\n",
        "dVp = 0.01\n",
        "C = popt[0]\n",
        "dC = perr[0]\n",
        "x_i3 = popt[1]\n",
        "dx_i3 = perr[1]\n",
        "alpha3 = popt[2]\n",
        "dalpha3 = perr[2]\n",
        "y_i3 = popt[3]\n",
        "dy_i3 = perr[3]\n",
        "\n",
        "deff3 = Vp/(4*C*Va)\n",
        "\n",
        "ddeff3 = deff3*(dVp/Vp+dVa/Va+dC/C)\n",
        "\n",
        "print('d$_{eff} = (%0.3f +/- %0.3f)' % (deff3,ddeff3))\n",
        "\n",
        "print('xi = (%0.5f +/- %0.5f)' % (x_i3,dx_i3))\n",
        "print('yi = (%0.5f +/- %0.5f)' % (y_i3,dy_i3))\n",
        "print('alpha = (%0.5f +/- %0.5f)' % (alpha3,dalpha3))\n"
      ]
    },
    {
      "cell_type": "code",
      "execution_count": null,
      "metadata": {
        "colab": {
          "base_uri": "https://localhost:8080/"
        },
        "id": "2i9hJsIxOT_T",
        "outputId": "cf02c2c9-4b12-41cf-9b4c-216c9070e74d"
      },
      "outputs": [
        {
          "output_type": "stream",
          "name": "stdout",
          "text": [
            "Va = 4.50kV: d$_{eff} = (0.148 +/- 0.123)\n",
            "Va = 3.50kV: d$_{eff} = (0.203 +/- 0.097)\n",
            "Va = 2.50kV: d$_{eff} = (0.205 +/- 0.074)\n"
          ]
        }
      ],
      "source": [
        "# Summary of Part I\n",
        "\n",
        "print('Va = 4.50kV: d$_{eff} = (%0.3f +/- %0.3f)' % (deff1,ddeff1))\n",
        "print('Va = 3.50kV: d$_{eff} = (%0.3f +/- %0.3f)' % (deff2,ddeff2))\n",
        "print('Va = 2.50kV: d$_{eff} = (%0.3f +/- %0.3f)' % (deff3,ddeff3))"
      ]
    },
    {
      "cell_type": "markdown",
      "metadata": {
        "id": "fprVtmHKOT_U"
      },
      "source": [
        "# Determining the Effective Plate Separation"
      ]
    },
    {
      "cell_type": "code",
      "execution_count": null,
      "metadata": {
        "colab": {
          "base_uri": "https://localhost:8080/"
        },
        "id": "-Z4g5I6uOT_U",
        "outputId": "32a3ec7a-85dd-403a-bd6c-9ade8ecdf5b4"
      },
      "outputs": [
        {
          "output_type": "stream",
          "name": "stdout",
          "text": [
            "Plate Separation Data:\n",
            "  Vp  dVp   Va  dVa\n",
            "1.53 0.01 2.61 0.01\n",
            "1.64 0.01 2.81 0.01\n",
            "1.74 0.01 3.01 0.01\n",
            "1.84 0.01 3.22 0.01\n",
            "1.95 0.01 3.42 0.01\n",
            "2.06 0.01 3.61 0.01\n",
            "2.14 0.01 3.80 0.01\n",
            "2.22 0.01 4.00 0.01\n",
            "2.32 0.01 4.22 0.01\n",
            "2.45 0.01 4.42 0.01\n",
            "2.58 0.01 4.60 0.01\n",
            "2.68 0.01 4.81 0.01\n",
            "2.75 0.01 5.00 0.01\n"
          ]
        }
      ],
      "source": [
        "# Create a Pandas DataFrame with data for part 2\n",
        "\n",
        "# The data elements are [Vp, dVp, Va, dVa]\n",
        "\n",
        "data4 = [[1.53,0.01,2.61,0.01], [1.64,0.01,2.81,0.01], [1.74,0.01,3.01,0.01],\n",
        "         [1.84,0.01,3.22,0.01], [1.95,0.01,3.42,0.01], [2.06,0.01,3.61,0.01],\n",
        "         [2.14,0.01,3.80,0.01], [2.22,0.01,4.00,0.01], [2.32,0.01,4.22,0.01],\n",
        "         [2.45,0.01,4.42,0.01], [2.58,0.01,4.60,0.01], [2.68,0.01,4.81,0.01],\n",
        "         [2.75,0.01,5.00,0.01]]\n",
        "# create dataframe\n",
        "df4 = pd.DataFrame(data4, columns = ['Vp', 'dVp','Va','dVa'])\n",
        "\n",
        "print('Plate Separation Data:')\n",
        "print(df4.to_string(index=False))"
      ]
    },
    {
      "cell_type": "code",
      "execution_count": null,
      "metadata": {
        "colab": {
          "base_uri": "https://localhost:8080/",
          "height": 618
        },
        "id": "PyJkef7YOT_U",
        "outputId": "a7e52a04-7e10-420a-c8b1-2d07cac4e7a3"
      },
      "outputs": [
        {
          "output_type": "stream",
          "name": "stdout",
          "text": [
            "Beta: [0.51295802 0.1917838 ]\n",
            "Beta Std Error: [0.0067538  0.02622069]\n",
            "Beta Covariance: [[ 1.74556690e-05 -6.65060779e-05]\n",
            " [-6.65060779e-05  2.63104424e-04]]\n",
            "Residual Variance: 2.6131238524586746\n",
            "Inverse Condition #: 0.041008168806765395\n",
            "Reason(s) for Halting:\n",
            "  Sum of squares convergence\n",
            "\n",
            "Final Result: Y = (0.512958017 +/- 0.006753801)X + (0.191783803 +/- 0.026220687)\n"
          ]
        },
        {
          "output_type": "display_data",
          "data": {
            "image/png": "[encoded data removed]",
            "text/plain": [
              "<Figure size 640x480 with 1 Axes>"
            ]
          },
          "metadata": {
            "needs_background": "light"
          }
        }
      ],
      "source": [
        "xi = df4['Va']\n",
        "yi = df4['Vp']\n",
        "sigmaxi = df4['dVa']\n",
        "sigmayi = df4['dVp']\n",
        "\n",
        "##############################\n",
        "\n",
        "from scipy.odr import *\n",
        "\n",
        "def fitfunction(B, x):\n",
        "    '''Linear function y = a*x+b'''\n",
        "    # B is a vector of the parameters.\n",
        "    # x is an array of the current x values.\n",
        "    # x is in the same format as the x passed to Data or RealData.\n",
        "    #\n",
        "    # Return an array in the same format as y passed to Data or RealData.\n",
        "    return B[0]*x+B[1]\n",
        "\n",
        "linear = Model(fitfunction) # create a Model object based on the fitfuncion we have defined\n",
        "mydata = RealData(xi, yi, sx=sigmaxi, sy=sigmayi) # create a data object based on our data, include errors.\n",
        "myodr = ODR(mydata, linear, beta0=[1., 2.]) # create a fitting object, based on the data, fit Model, and an intial set of parameters.\n",
        "myoutput = myodr.run()  # run the fitting process to get optimized parameters!\n",
        "\n",
        "myoutput.pprint() # print out the result of the fit\n",
        "\n",
        "# Now assign the important fit results to some more convenient variables.\n",
        "\n",
        "popt = myoutput.beta # the vector of optimized parameters\n",
        "pcov = myoutput.cov_beta # the covariance matrix\n",
        "perr = myoutput.sd_beta # the vector of ERRORS in the optimized parameters\n",
        "\n",
        "# The following lines generate upper and lower 99% \"Confidence Bands\" on the fit, for visualization\n",
        "# purposes.\n",
        "\n",
        "ps = np.random.multivariate_normal(popt,pcov,10000)\n",
        "xl = np.linspace(xi[0],xi[len(xi)-1],100)\n",
        "ysample=np.asarray([fitfunction(pl,xl) for pl in ps])\n",
        "\n",
        "lower = np.percentile(ysample,0.5,axis=0)\n",
        "upper = np.percentile(ysample,99.5,axis=0)\n",
        "middle = (lower+upper)/2.0\n",
        "\n",
        "print()\n",
        "print (\"Final Result: Y = (%0.9f +/- %0.9f)X + (%0.9f +/- %0.9f)\" % (popt[0],perr[0],popt[1],perr[1]))\n",
        "\n",
        "plt.figure(figsize=(8, 6), dpi=80)\n",
        "\n",
        "plt.errorbar(xi, yi, xerr=sigmaxi, yerr=sigmayi, fmt='o', capsize=2, capthick=1)\n",
        "\n",
        "plt.plot(xl,middle)\n",
        "plt.plot(xl,lower)\n",
        "plt.plot(xl,upper)\n",
        "\n",
        "#########################\n",
        "\n",
        "plt.xlabel('Accelerating Voltage (kV)')\n",
        "plt.ylabel('Plate Voltage (kV)')\n",
        "plt.title('Determining the Effective Plate Separation')\n",
        "plt.show()"
      ]
    },
    {
      "cell_type": "markdown",
      "metadata": {
        "id": "xE8fXZe9OT_V"
      },
      "source": [
        "## Analysis of Electron Path:   Accelerating Voltage = 4.5 kV\n",
        "\n",
        "First of all, we see that the fit is linear, as expected.\n",
        "\n",
        "Second, we see that the result for the slope is $(0.727 \\pm 0.006)$.  \n",
        "\n",
        "Third, we see that the y-intercept of the fit is $(0.076 \\pm 0.023)$.  This is not\n",
        "consistent with zero, as expected.\n",
        "\n",
        "The theory predicts that this slope should be equal to: $\\frac{4 \\Delta y d_{eff}}{(\\Delta x)^2}$.  Thus, we can calculate that:\n",
        "\n",
        "$d_{eff} = slope \\left( \\frac{(\\Delta x)^2}{4 \\Delta y} \\right)$\n",
        "\n",
        "and \n",
        "\n",
        "$ \\delta(d_{eff}) = d_{eff} \\left( 2 \\frac{\\delta(\\Delta x)}{\\Delta x} + \\frac{\\delta(\\Delta y)}{\\Delta y} + \\frac{\\delta(slope)}{slope} \\right) $"
      ]
    },
    {
      "cell_type": "code",
      "execution_count": null,
      "metadata": {
        "id": "BNIq08cAOT_V"
      },
      "outputs": [],
      "source": [
        "slope = popt[0]\n",
        "dslope = perr[0]\n",
        "\n",
        "deltax = 0.100\n",
        "ddeltax = 0.001\n",
        "deltay = 0.020\n",
        "ddeltay = 0.001\n",
        "\n",
        "deff4 = slope*(deltax**2)/(4.0*deltay)\n",
        "ddeff4 = deff4*(2*ddeltax/deltax + ddeltay/deltay + dslope/slope)\n",
        "\n"
      ]
    },
    {
      "cell_type": "code",
      "execution_count": null,
      "metadata": {
        "colab": {
          "base_uri": "https://localhost:8080/"
        },
        "id": "JFhRZpMQOT_W",
        "outputId": "d0c7bcfd-cdea-459e-9319-42562fd40e8e"
      },
      "outputs": [
        {
          "output_type": "stream",
          "name": "stdout",
          "text": [
            "Part II: Effective distance = (0.064 +/- 0.005) m\n",
            "\n",
            "Part I:\n",
            "Va = 4.50kV: d_eff = (0.148 +/- 0.123) m\n",
            "Va = 3.50kV: d_eff = (0.203 +/- 0.097) m\n",
            "Va = 2.50kV: d_eff = (0.205 +/- 0.074) m\n"
          ]
        }
      ],
      "source": [
        "# Final Summary\n",
        "print (\"Part II: Effective distance = (%0.3f +/- %0.3f) m\" % (deff4,ddeff4))\n",
        "\n",
        "print()\n",
        "print(\"Part I:\")\n",
        "print('Va = 4.50kV: d_eff = (%0.3f +/- %0.3f) m' % (deff1,ddeff1))\n",
        "print('Va = 3.50kV: d_eff = (%0.3f +/- %0.3f) m' % (deff2,ddeff2))\n",
        "print('Va = 2.50kV: d_eff = (%0.3f +/- %0.3f) m' % (deff3,ddeff3))"
      ]
    },
    {
      "cell_type": "code",
      "execution_count": null,
      "metadata": {
        "colab": {
          "base_uri": "https://localhost:8080/",
          "height": 461
        },
        "id": "ZXzV7S1uOT_W",
        "outputId": "7ffd7616-a9b4-4601-a023-51951283ab44"
      },
      "outputs": [
        {
          "output_type": "stream",
          "name": "stdout",
          "text": [
            "Weighted Average = 0.0654 +/- 0.0053 m\n"
          ]
        },
        {
          "output_type": "display_data",
          "data": {
            "image/png": "[encoded data removed]",
            "text/plain": [
              "<Figure size 640x480 with 1 Axes>"
            ]
          },
          "metadata": {
            "needs_background": "light"
          }
        }
      ],
      "source": [
        "x1 = ['IA','IB','IC','II']\n",
        "y1 = np.array([deff1,deff2,deff3,deff4])\n",
        "dy1 = np.array([ddeff1,ddeff2,ddeff3,ddeff4])\n",
        "\n",
        "# Calculate the weighted average of the effective distance values.\n",
        "def w_avg(x, dx):\n",
        "    d = x\n",
        "    w = 1.0/dx**2\n",
        "    return (d * w).sum()/w.sum(), np.sqrt(1/w.sum())\n",
        "\n",
        "average, daverage = w_avg(y1,dy1)\n",
        "print ('Weighted Average = %0.4f +/- %0.4f m' % (average,daverage))\n",
        "ylow = average-daverage\n",
        "yhigh = average+daverage\n",
        "y2 = [ylow,ylow,ylow,ylow]\n",
        "y3 = [yhigh,yhigh,yhigh,yhigh]\n",
        "\n",
        "\n",
        "plt.figure(figsize=(8, 6), dpi=80)\n",
        "\n",
        "plt.errorbar(x1, y1, yerr=dy1, fmt='o', capsize=2, capthick=1)\n",
        "plt.plot(x1,y2)\n",
        "plt.plot(x1,y3)\n",
        "\n",
        "#########################\n",
        "\n",
        "plt.xlabel('Experiment Part')\n",
        "plt.ylabel('Effective Plate Separation (m)')\n",
        "plt.title('Comparison of Parts I and II')\n",
        "plt.ylim(0,0.35)\n",
        "plt.show()"
      ]
    },
    {
      "cell_type": "code",
      "execution_count": null,
      "metadata": {
        "colab": {
          "base_uri": "https://localhost:8080/",
          "height": 444
        },
        "id": "P5V68wcuOT_W",
        "outputId": "0551ee95-c622-4ea0-cb00-554349e11ad0"
      },
      "outputs": [
        {
          "output_type": "display_data",
          "data": {
            "image/png": "[encoded data removed]",
            "text/plain": [
              "<Figure size 640x480 with 1 Axes>"
            ]
          },
          "metadata": {
            "needs_background": "light"
          }
        }
      ],
      "source": [
        "x1 = ['IA','IB','IC']\n",
        "y1 = [x_i1,x_i2,x_i3]\n",
        "dy1 = [dx_i1,dx_i2,dx_i3]\n",
        "y2 = [y_i1,y_i2,y_i3]\n",
        "dy2 = [dy_i1,dy_i2,dy_i3]\n",
        "\n",
        "plt.figure(figsize=(8, 6), dpi=80)\n",
        "\n",
        "plt.errorbar(x1, y1, yerr=dy1, fmt='o', capsize=2, capthick=1)\n",
        "plt.errorbar(x1, y2, yerr=dy2, fmt='o', capsize=2, capthick=1)\n",
        "#########################\n",
        "\n",
        "plt.xlabel('Experiment Part')\n",
        "plt.ylabel('Initial X/Y Position (m)')\n",
        "plt.title('Comparison of Part I Extractions')\n",
        "plt.ylim(-0.01,0.04)\n",
        "plt.show()"
      ]
    },
    {
      "cell_type": "code",
      "execution_count": null,
      "metadata": {
        "colab": {
          "base_uri": "https://localhost:8080/",
          "height": 461
        },
        "id": "QWA9BmlEOT_X",
        "outputId": "fe4d95bb-3803-4879-d812-9429ef31c4c8"
      },
      "outputs": [
        {
          "output_type": "stream",
          "name": "stdout",
          "text": [
            "Weighted Average = 1.5693 +/- 0.1343 m\n"
          ]
        },
        {
          "output_type": "display_data",
          "data": {
            "image/png": "[encoded data removed]",
            "text/plain": [
              "<Figure size 640x480 with 1 Axes>"
            ]
          },
          "metadata": {
            "needs_background": "light"
          }
        }
      ],
      "source": [
        "x1 = ['IA','IB','IC']\n",
        "y1 = np.array([alpha1,alpha2,alpha3])\n",
        "dy1 = np.array([dalpha1,dalpha2,dalpha3])\n",
        "\n",
        "average, daverage = w_avg(y1,dy1)\n",
        "print ('Weighted Average = %0.4f +/- %0.4f m' % (average,daverage))\n",
        "ylow = average-daverage\n",
        "yhigh = average+daverage\n",
        "y2 = [ylow,ylow,ylow]\n",
        "y3 = [yhigh,yhigh,yhigh]\n",
        "\n",
        "plt.figure(figsize=(8, 6), dpi=80)\n",
        "\n",
        "plt.errorbar(x1, y1, yerr=dy1, fmt='o', capsize=2, capthick=1)\n",
        "plt.plot(x1,y2)\n",
        "plt.plot(x1,y3)\n",
        "#########################\n",
        "\n",
        "plt.xlabel('Experiment Part')\n",
        "plt.ylabel('Exponent')\n",
        "plt.title('Comparison of Part I Extractions')\n",
        "plt.ylim(0.0,3.0)\n",
        "plt.show()"
      ]
    },
    {
      "cell_type": "markdown",
      "source": [
        "Our predicted value for the coefficent was determined by the equation $\\frac{V_{p}}{4 V_{a} d_{eff}}$ we predicted that our coefficent would be around $1.39$. As shown in the chart above our predicted value did not fall within our calculated value even with error bars. Though it is outside the margin of error, it is still relatively close to our predicted value."
      ],
      "metadata": {
        "id": "Zb_i0QaFUUdK"
      }
    }
  ],
  "metadata": {
    "kernelspec": {
      "display_name": "Python 3",
      "language": "python",
      "name": "python3"
    },
    "language_info": {
      "codemirror_mode": {
        "name": "ipython",
        "version": 3
      },
      "file_extension": ".py",
      "mimetype": "text/x-python",
      "name": "python",
      "nbconvert_exporter": "python",
      "pygments_lexer": "ipython3",
      "version": "3.6.8"
    },
    "latex_envs": {
      "LaTeX_envs_menu_present": true,
      "autoclose": false,
      "autocomplete": true,
      "bibliofile": "biblio.bib",
      "cite_by": "apalike",
      "current_citInitial": 1,
      "eqLabelWithNumbers": true,
      "eqNumInitial": 1,
      "hotkeys": {
        "equation": "Ctrl-E",
        "itemize": "Ctrl-I"
      },
      "labels_anchors": false,
      "latex_user_defs": false,
      "report_style_numbering": false,
      "user_envs_cfg": false
    },
    "colab": {
      "name": "Electric_Force_Analysis_PowerLaw.ipynb",
      "provenance": []
    }
  },
  "nbformat": 4,
  "nbformat_minor": 0
}