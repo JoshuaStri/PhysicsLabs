{
 "cells": [
  {
   "cell_type": "markdown",
   "metadata": {},
   "source": [
    "# Lab 3:  Electric Force"
   ]
  },
  {
   "cell_type": "markdown",
   "metadata": {},
   "source": [
    "# Introduction\n",
    "Using somewhat more modern equipment, you will be able to reproduce J.J. Thompson’s experiment and verify that the electric force on an electron obeys the law\n",
    "$$F=qE \\tag{1}$$\n",
    "where $q$ is the charge on an electron and $E$ is the applied electric field."
   ]
  },
  {
   "cell_type": "markdown",
   "metadata": {},
   "source": [
    "# Theory\n",
    "In order to determine the force on the electrons using equation (1), we will need to determine the electric field between the plates.\n",
    "# Computing the Electric Fields\n",
    " We could compute the electric field from the plate voltage, Vp , from\n",
    "$$E= \\frac{V_{p}}{d_{eff}}\\tag{2}$$\n",
    " \n",
    "where $d_{eff}$ is the effective distance between the plates. It is not the actual distance because the parallel-plate capacitor approximation isn’t quite good enough for these long, thin plates. By measuring the deflection of the electron beam\n",
    "after it travels the 10 cm across the measurement grid, we can deduce this electric field and, therefore, the effective\n",
    "distance between the plates.\n",
    "If equation (1) is correct, the vertical acceleration of the electrons is given by\n",
    "$$a=\\frac{F}{m} = \\frac{qE}{m}\\tag{3}$$\n",
    "\n",
    "The vertical distance that the electron then travels is given by kinematics:\n",
    "$$\\Delta{y}=\\frac{1}{2}a(\\Delta{t})^2=\\frac{1}{2}(\\frac{qE}{m})(\\Delta{t})^2\\tag{4}$$\n",
    "\n",
    "We need to know the time taken for the electrons to traverse the screen. Kinematics tells us that the time taken for a\n",
    "particle moving at constant velocity to traverse some distance, $\\Delta{x}$ is\n",
    "$$\\Delta{t}=\\frac{\\Delta{x}}{v}\\tag{5}$$\n",
    "\n",
    "But how fast are the electrons traveling?\n",
    "\n",
    "\n",
    "\n",
    "# Determining the Speed of the Electrons\n",
    "From conservation of energy, we know that the electron will be ejected from an “electron gun” with a kinetic energy\n",
    "that is related to the accelerating voltage, $V_{a}$:\n",
    "$$\\frac{1}{2}mv^2=qV_{a}\\tag{6}$$\n",
    "We can re-arrange this equation for the speed of the electron:\n",
    "$$v=\\sqrt{\\frac{2qV_{a}}{m}}\\tag{7}$$\n",
    "where $m$ is the electron’s mass.\n",
    "\n",
    "# Determining the Path of the Electrons\n",
    "We now put together equations (4), (2), (5), and (7) to find that\n",
    "\n",
    "$$\\Delta{y}=\\frac{1}{2}(\\frac{qE}{m})(\\frac{\\Delta{x}}{v})^2=\\frac{1}{2}(\\frac{q(V_{p}/d_{eff})}{m})\n",
    "\\frac{(\\Delta{x})^2}{2qV_{a}/m}=\\frac{1}{4d_{eff}}\\frac{V_{p}}{V_{a}}(\\Delta{x})^2\\tag{8}$$\n",
    "\n",
    "Therefore, if equation (1) is correct, the path of the electrons should be a parabola. You will be checking this.\n",
    "# Determining the Effective Plate Separation\n",
    "Notice that, in equation (8), if we keep the beam set so that it always passes through the point $(\\Delta{x}, \\Delta{y})$, then the ratio of voltages, $V_{p}/V_{a}$ , should remain the same. Rearranging equation (8) we find that ratio to be:\n",
    "$$\\frac{V_{p}}{V_{a}}=\\frac{4\\Delta{y}}{(\\Delta{x})^2}d_{eff}\\tag{9}$$\n",
    "The second part of the lab will have you set the beam so that it goes through the point (10 cm, 2 cm). You will plot\n",
    "the values for the plate voltage vs. the accelerating voltage. The slope of this line is the ratio $V_{p}/V_{a}$. By rearranging\n",
    "equation (9) we find\n",
    "$$d_{eff}=\\frac{V_{p}}{V_{a}}\\frac{(\\Delta{x})^2}{4\\Delta{y}}\\tag{10}$$\n",
    " "
   ]
  },
  {
   "cell_type": "code",
   "execution_count": 1,
   "metadata": {},
   "outputs": [],
   "source": [
    "import numpy as np\n",
    "import pandas as pd\n",
    "import matplotlib.pyplot as plt\n",
    "import scipy.stats as statsa\n",
    "\n",
    "# The following lines make plots in dark mode look reasonable.  If you are not using dark\n",
    "# mode you don't need them, but you can also just leave them here and it should work fine.\n",
    "\n",
    "dark_mode = True\n",
    "# plotting choices for dark-mode\n",
    "if (dark_mode):\n",
    "    from jupyterthemes import jtplot\n",
    "    jtplot.style(theme='monokai', context='notebook', ticks=True, grid=False)\n",
    "    linecolor = 'w'\n",
    "else:\n",
    "    linecolor = 'k'"
   ]
  },
  {
   "cell_type": "markdown",
   "metadata": {},
   "source": [
    "# Determining the Path of Electrons"
   ]
  },
  {
   "cell_type": "code",
   "execution_count": 2,
   "metadata": {},
   "outputs": [
    {
     "name": "stdout",
     "output_type": "stream",
     "text": [
      "Accelerating voltage = 4.5 kV:\n",
      " x_cm  dx_cm  y_cm  dy_cm\n",
      "  2.0   0.01  0.00   0.01\n",
      "  3.0   0.01  0.10   0.10\n",
      "  4.0   0.01  0.20   0.10\n",
      "  5.0   0.01  0.40   0.10\n",
      "  6.0   0.01  0.60   0.10\n",
      "  7.0   0.01  0.95   0.10\n",
      "  8.0   0.01  1.30   0.10\n",
      "  9.0   0.01  1.75   0.10\n",
      " 10.0   0.01  2.10   0.10\n",
      "\n",
      "Accelerating voltage = 3.5 kV:\n",
      " x_cm  dx_cm  y_cm  dy_cm\n",
      "  2.0   0.01  0.00   0.01\n",
      "  3.0   0.01  0.05   0.10\n",
      "  4.0   0.01  0.30   0.10\n",
      "  5.0   0.01  0.50   0.10\n",
      "  6.0   0.01  0.80   0.10\n",
      "  7.0   0.01  1.20   0.10\n",
      "  8.0   0.01  1.70   0.10\n",
      "  9.0   0.01  2.20   0.10\n",
      "\n",
      "Accelerating voltage = 2.52 kV:\n",
      " x_cm  dx_cm  y_cm  dy_cm\n",
      "  2.0   0.01   0.0   0.01\n",
      "  3.0   0.01   0.2   0.10\n",
      "  4.0   0.01   0.4   0.10\n",
      "  5.0   0.01   0.8   0.10\n",
      "  6.0   0.01   1.2   0.10\n",
      "  7.0   0.01   1.8   0.10\n",
      "  8.0   0.01   2.4   0.10\n"
     ]
    }
   ],
   "source": [
    "# Create a Pandas DataFrame with data for part 1\n",
    "\n",
    "# The data elements are [x_cm, dx_cm, y_cm, dy_cm]\n",
    "\n",
    "data1 = [[2.00,0.01,0.00,0.01],\n",
    "         [3.00,0.01,0.10,0.1],\n",
    "         [4.00,0.01,0.20,0.1],\n",
    "         [5.00,0.01,0.40,0.1],\n",
    "         [6.00,0.01,0.60,0.1],\n",
    "         [7.00,0.01,0.95,0.1],\n",
    "         [8.00,0.01,1.30,0.1],\n",
    "         [9.00,0.01,1.75,0.1],\n",
    "         [10.0,0.01,2.10,0.1]]\n",
    "# create dataframe\n",
    "df1 = pd.DataFrame(data1, columns = ['x_cm', 'dx_cm','y_cm','dy_cm'])\n",
    "\n",
    "print('Accelerating voltage = 4.5 kV:')\n",
    "print(df1.to_string(index=False))\n",
    "\n",
    "data2 = [[2.0, 0.01,0.00,0.01],\n",
    "         [3.0, 0.01,0.05,0.1],\n",
    "         [4.0, 0.01,0.30,0.1], \n",
    "         [5.0, 0.01,0.50,0.1],\n",
    "         [6.0, 0.01,0.80,0.1],\n",
    "         [7.0, 0.01,1.2,0.1],\n",
    "         [8.0, 0.01,1.7,0.1],\n",
    "         [9.0, 0.01,2.2,0.1]]\n",
    "\n",
    "# create dataframe\n",
    "df2 = pd.DataFrame(data2, columns = ['x_cm', 'dx_cm','y_cm','dy_cm'])\n",
    "\n",
    "print()\n",
    "print('Accelerating voltage = 3.5 kV:')\n",
    "print(df2.to_string(index=False))\n",
    "\n",
    "data3 = [[2.0,0.01,0.00,0.01],\n",
    "         [3.0,0.01,0.20,0.1],\n",
    "         [4.0,0.01,0.40,0.1], \n",
    "         [5.0,0.01,0.80,0.1],\n",
    "         [6.0,0.01,1.2,0.1],\n",
    "         [7.0,0.01,1.8,0.1],\n",
    "         [8.0,0.01,2.4,0.1]]\n",
    "# create dataframe\n",
    "df3 = pd.DataFrame(data3, columns = ['x_cm', 'dx_cm','y_cm','dy_cm'])\n",
    "\n",
    "print()\n",
    "print('Accelerating voltage = 2.52 kV:')\n",
    "print(df3.to_string(index=False))"
   ]
  },
  {
   "cell_type": "code",
   "execution_count": 3,
   "metadata": {},
   "outputs": [
    {
     "name": "stdout",
     "output_type": "stream",
     "text": [
      "Accelerating voltage = 4.5 kV:\n",
      " x_cm  dx_cm  y_cm  dy_cm     x      dx       y      dy\n",
      "  2.0   0.01  0.00   0.01  0.02  0.0001  0.0000  0.0001\n",
      "  3.0   0.01  0.10   0.10  0.03  0.0001  0.0010  0.0010\n",
      "  4.0   0.01  0.20   0.10  0.04  0.0001  0.0020  0.0010\n",
      "  5.0   0.01  0.40   0.10  0.05  0.0001  0.0040  0.0010\n",
      "  6.0   0.01  0.60   0.10  0.06  0.0001  0.0060  0.0010\n",
      "  7.0   0.01  0.95   0.10  0.07  0.0001  0.0095  0.0010\n",
      "  8.0   0.01  1.30   0.10  0.08  0.0001  0.0130  0.0010\n",
      "  9.0   0.01  1.75   0.10  0.09  0.0001  0.0175  0.0010\n",
      " 10.0   0.01  2.10   0.10  0.10  0.0001  0.0210  0.0010\n",
      "\n",
      "Accelerating voltage = 3.5 kV:\n",
      " x_cm  dx_cm  y_cm  dy_cm     x      dx       y      dy\n",
      "  2.0   0.01  0.00   0.01  0.02  0.0001  0.0000  0.0001\n",
      "  3.0   0.01  0.05   0.10  0.03  0.0001  0.0005  0.0010\n",
      "  4.0   0.01  0.30   0.10  0.04  0.0001  0.0030  0.0010\n",
      "  5.0   0.01  0.50   0.10  0.05  0.0001  0.0050  0.0010\n",
      "  6.0   0.01  0.80   0.10  0.06  0.0001  0.0080  0.0010\n",
      "  7.0   0.01  1.20   0.10  0.07  0.0001  0.0120  0.0010\n",
      "  8.0   0.01  1.70   0.10  0.08  0.0001  0.0170  0.0010\n",
      "  9.0   0.01  2.20   0.10  0.09  0.0001  0.0220  0.0010\n",
      "\n",
      "Accelerating voltage = 2.5 kV:\n",
      " x_cm  dx_cm  y_cm  dy_cm     x      dx      y      dy\n",
      "  2.0   0.01   0.0   0.01  0.02  0.0001  0.000  0.0001\n",
      "  3.0   0.01   0.2   0.10  0.03  0.0001  0.002  0.0010\n",
      "  4.0   0.01   0.4   0.10  0.04  0.0001  0.004  0.0010\n",
      "  5.0   0.01   0.8   0.10  0.05  0.0001  0.008  0.0010\n",
      "  6.0   0.01   1.2   0.10  0.06  0.0001  0.012  0.0010\n",
      "  7.0   0.01   1.8   0.10  0.07  0.0001  0.018  0.0010\n",
      "  8.0   0.01   2.4   0.10  0.08  0.0001  0.024  0.0010\n"
     ]
    }
   ],
   "source": [
    "df1['x'] = 0.01*(df1['x_cm'])\n",
    "df1['dx'] = 0.01*df1['dx_cm']\n",
    "df1['y'] = 0.01*df1['y_cm']\n",
    "df1['dy'] = 0.01*df1['dy_cm']\n",
    "\n",
    "print('Accelerating voltage = 4.5 kV:')\n",
    "print(df1.to_string(index=False))\n",
    "\n",
    "df2['x'] = 0.01*(df2['x_cm'])\n",
    "df2['dx'] = 0.01*df2['dx_cm']\n",
    "df2['y'] = 0.01*df2['y_cm']\n",
    "df2['dy'] = 0.01*df2['dy_cm']\n",
    "\n",
    "print()\n",
    "print('Accelerating voltage = 3.5 kV:')\n",
    "print(df2.to_string(index=False))\n",
    "\n",
    "df3['x'] = 0.01*(df3['x_cm'])\n",
    "df3['dx'] = 0.01*df3['dx_cm']\n",
    "df3['y'] = 0.01*df3['y_cm']\n",
    "df3['dy'] = 0.01*df3['dy_cm']\n",
    "\n",
    "print()\n",
    "print('Accelerating voltage = 2.5 kV:')\n",
    "print(df3.to_string(index=False))"
   ]
  },
  {
   "cell_type": "code",
   "execution_count": 4,
   "metadata": {},
   "outputs": [
    {
     "name": "stdout",
     "output_type": "stream",
     "text": [
      "4\n",
      "Initial Guess for C,alpha =  1.3912533284597626 1.745474355069279\n"
     ]
    }
   ],
   "source": [
    "# Let's try to make a guess at decent starting values for the parameters of the fit\n",
    "# Assume xi = 0.01, yi = 0.0002, and alpha = 2.0\n",
    "# From this, we can calculate C as:\n",
    "#\n",
    "# The fit function is y = C(x-xi)^alpha + yi\n",
    "#\n",
    "# Use the LAST data point to solve for C.\n",
    "#\n",
    "# C = (y-yi)/(x-xi)^alpha\n",
    "\n",
    "yinit = 0.0002\n",
    "xinit = 0.01\n",
    "\n",
    "xi = list(df1['x'])\n",
    "yi = list(df1['y'])\n",
    "\n",
    "xlast = xi[-1]\n",
    "ylast = yi[-1]\n",
    "\n",
    "length = len(xi)\n",
    "mid = int(length/2)\n",
    "print(mid)\n",
    "xmid = xi[mid]\n",
    "ymid = yi[mid]\n",
    "\n",
    "alphainit = 0.7*np.log((ylast-yinit)/(ymid-yinit))/np.log((xlast-yinit)/(xmid-yinit))\n",
    "\n",
    "C_guess = (ylast-yinit)/(xlast-xinit)**alphainit\n",
    "\n",
    "print('Initial Guess for C,alpha = ',C_guess,alphainit)"
   ]
  },
  {
   "cell_type": "code",
   "execution_count": 5,
   "metadata": {},
   "outputs": [
    {
     "name": "stdout",
     "output_type": "stream",
     "text": [
      "Beta: [ 1.88522244e+00  1.76101069e-02  1.79400966e+00 -3.59555575e-05]\n",
      "Beta Std Error: [9.24397768e-01 8.95227373e-03 2.64590208e-01 2.17470056e-04]\n",
      "Beta Covariance: [[ 5.51214166e+00 -5.06846638e-02  1.56978572e+00 -1.18652959e-03]\n",
      " [-5.06846638e-02  5.16974711e-04 -1.49077388e-02  1.23331735e-05]\n",
      " [ 1.56978572e+00 -1.49077388e-02  4.51596045e-01 -3.50836860e-04]\n",
      " [-1.18652959e-03  1.23331735e-05 -3.50836860e-04  3.05071421e-07]]\n",
      "Residual Variance: 0.15502345314251095\n",
      "Inverse Condition #: 0.0011195512402889813\n",
      "Reason(s) for Halting:\n",
      "  Sum of squares convergence\n"
     ]
    },
    {
     "name": "stderr",
     "output_type": "stream",
     "text": [
      "/usr/lib/python3.6/site-packages/ipykernel_launcher.py:17: RuntimeWarning: invalid value encountered in power\n"
     ]
    },
    {
     "name": "stdout",
     "output_type": "stream",
     "text": [
      "\n",
      "Final Result: Y = (1.8852 +/- 0.9244)(X - (0.0176 +/- 0.0090))^(1.7940 +/- 0.2646) + (-0.0000 +/- 0.0002)\n"
     ]
    },
    {
     "data": {
      "image/png": "[encoded data removed]",
      "text/plain": [
       "<Figure size 640x480 with 1 Axes>"
      ]
     },
     "metadata": {
      "needs_background": "dark"
     },
     "output_type": "display_data"
    }
   ],
   "source": [
    "xi = df1['x']\n",
    "yi = df1['y']\n",
    "sigmaxi = df1['dx']\n",
    "sigmayi = df1['dy']\n",
    "\n",
    "##############################\n",
    "\n",
    "from scipy.odr import *\n",
    "\n",
    "def fitfunction(B, x):\n",
    "    '''Non-Linear function y = a*(x-c)^b+d'''\n",
    "    # B is a vector of the parameters.\n",
    "    # x is an array of the current x values.\n",
    "    # x is in the same format as the x passed to Data or RealData.\n",
    "    #\n",
    "    # Return an array in the same format as y passed to Data or RealData\n",
    "    return B[0]*(x-B[1])**B[2] + B[3]\n",
    "\n",
    "linear = Model(fitfunction) # create a Model object based on the fitfuncion we have defined\n",
    "mydata = RealData(xi, yi, sx=sigmaxi, sy=sigmayi) # create a data object based on our data, include errors.\n",
    "myodr = ODR(mydata, linear, beta0=[C_guess, xinit, alphainit, yinit]) # create a fitting object, based on the data, fit Model, and an intial set of parameters.\n",
    "myoutput = myodr.run()  # run the fitting process to get optimized parameters!\n",
    "\n",
    "myoutput.pprint() # print out the result of the fit\n",
    "\n",
    "# Now assign the important fit results to some more convenient variables.\n",
    "\n",
    "popt = myoutput.beta # the vector of optimized parameters\n",
    "pcov = myoutput.cov_beta # the covariance matrix\n",
    "perr = myoutput.sd_beta # the vector of ERRORS in the optimized parameters\n",
    "\n",
    "# The following lines generate upper and lower 99% \"Confidence Bands\" on the fit, for visualization\n",
    "# purposes.\n",
    "\n",
    "ps = np.random.multivariate_normal(popt,pcov,10000)\n",
    "xl = np.linspace(xi[0],xi[len(xi)-1],100)\n",
    "ysample=np.asarray([fitfunction(pl,xl) for pl in ps])\n",
    "ysample = np.nan_to_num(ysample)\n",
    "\n",
    "lower = np.percentile(ysample,16.0,axis=0)\n",
    "upper = np.percentile(ysample,84.0,axis=0)\n",
    "middle = (lower+upper)/2.0\n",
    "\n",
    "yfit = fitfunction(popt,xl)\n",
    "\n",
    "print()\n",
    "print (\"Final Result: Y = (%0.4f +/- %0.4f)(X - (%0.4f +/- %0.4f))^(%0.4f +/- %0.4f) + (%0.4f +/- %0.4f)\" % (popt[0],perr[0],popt[1],perr[1],popt[2],perr[2],popt[3],perr[3]))\n",
    "\n",
    "plt.figure(figsize=(8, 6), dpi=80)\n",
    "plt.errorbar(xi, yi, xerr=sigmaxi, yerr=sigmayi, fmt='o', capsize=2, capthick=1)\n",
    "\n",
    "#plt.plot(xl,middle)\n",
    "#plt.plot(xl,lower)\n",
    "#plt.plot(xl,upper)\n",
    "plt.plot(xl,yfit)\n",
    "\n",
    "#########################\n",
    "\n",
    "plt.xlabel('Horizonatal Distance (meters)')\n",
    "plt.ylabel('Vertical Distance (meters)')\n",
    "plt.title('Determining the Electron Path (Accelerating Voltage = 4.5 kV)')\n",
    "plt.show()"
   ]
  },
  {
   "cell_type": "markdown",
   "metadata": {},
   "source": [
    "## Analysis of Electron Path:   Accelerating Voltage = 4.5 kV\n",
    "\n",
    "First of all, we see that the fit is non-linear, as expected, and appears to be roughly quadratic.\n",
    "\n",
    "From the theory, we expect:\n",
    "\n",
    "$y = C(x-x_i)^\\alpha + y_i$\n",
    "\n",
    "where:\n",
    "\n",
    "$C = \\frac{V_p}{4 d_{eff} V_a}$\n",
    "\n",
    "We see that the coefficient C is $(2.57 \\pm 0.17)$.\n",
    "\n",
    "The theory predicts that this coefficient should be equal to: $\\frac{V_p}{4 d_{eff} V_a}$.  Thus, we can calculate that:\n",
    "\n",
    "$d_{eff} = \\frac{V_p}{4 C V_a}$\n",
    "\n",
    "and \n",
    "\n",
    "$ \\delta(d_{eff}) = d_{eff} \\left( \\frac{\\delta(V_p)}{V_p} + \\frac{\\delta(V_a)}{V_a} + \\frac{\\delta(C)}{C} \\right) $"
   ]
  },
  {
   "cell_type": "code",
   "execution_count": 6,
   "metadata": {},
   "outputs": [
    {
     "name": "stdout",
     "output_type": "stream",
     "text": [
      "d$_{eff} = (0.100 +/- 0.051)\n",
      "xi = (0.01761 +/- 0.00895)\n",
      "yi = (-0.00004 +/- 0.00022)\n",
      "alpha = (1.79401 +/- 0.26459)\n"
     ]
    }
   ],
   "source": [
    "Va = 4.50\n",
    "dVa = 0.01*Va + 0.01\n",
    "Vp = 3.39\n",
    "dVp = 0.01*Vp + 0.01\n",
    "C = popt[0]\n",
    "dC = perr[0]\n",
    "x_i1 = popt[1]\n",
    "dx_i1 = perr[1]\n",
    "alpha1 = popt[2]\n",
    "dalpha1 = perr[2]\n",
    "y_i1 = popt[3]\n",
    "dy_i1 = perr[3]\n",
    "\n",
    "deff1 = Vp/(4*C*Va)\n",
    "\n",
    "ddeff1 = deff1*(dVp/Vp+dVa/Va+dC/C)\n",
    "\n",
    "print('d$_{eff} = (%0.3f +/- %0.3f)' % (deff1,ddeff1))\n",
    "\n",
    "print('xi = (%0.5f +/- %0.5f)' % (x_i1,dx_i1))\n",
    "print('yi = (%0.5f +/- %0.5f)' % (y_i1,dy_i1))\n",
    "print('alpha = (%0.5f +/- %0.5f)' % (alpha1,dalpha1))"
   ]
  },
  {
   "cell_type": "code",
   "execution_count": 7,
   "metadata": {},
   "outputs": [
    {
     "name": "stdout",
     "output_type": "stream",
     "text": [
      "4\n",
      "Initial Guess for C,alpha =  1.618392510503799 1.705360826483825\n"
     ]
    }
   ],
   "source": [
    "# Let's try to make a guess at decent starting values for the parameters of the fit\n",
    "# Assume xi = 0.01, yi = 0.0002, and alpha = 2.0\n",
    "# From this, we can calculate C as:\n",
    "#\n",
    "# The fit function is y = C(x-xi)^alpha + yi\n",
    "#\n",
    "# Use the LAST data point to solve for C.\n",
    "#\n",
    "# C = (y-yi)/(x-xi)^alpha\n",
    "\n",
    "yinit = 0.0002\n",
    "xinit = 0.01\n",
    "\n",
    "xi = list(df2['x'])\n",
    "yi = list(df2['y'])\n",
    "\n",
    "xlast = xi[-1]\n",
    "ylast = yi[-1]\n",
    "\n",
    "length = len(xi)\n",
    "mid = int(length/2)\n",
    "print(mid)\n",
    "xmid = xi[mid+1]\n",
    "ymid = yi[mid+1]\n",
    "\n",
    "alphainit = 0.7*np.log((ylast-yinit)/(ymid-yinit))/np.log((xlast-yinit)/(xmid-yinit))\n",
    "\n",
    "C_guess = (ylast-yinit)/(xlast-xinit)**alphainit\n",
    "\n",
    "print('Initial Guess for C,alpha = ',C_guess,alphainit)"
   ]
  },
  {
   "cell_type": "code",
   "execution_count": 8,
   "metadata": {},
   "outputs": [
    {
     "name": "stdout",
     "output_type": "stream",
     "text": [
      "Beta: [ 3.11007422e+00  1.56476094e-02  1.90196782e+00 -1.01272500e-04]\n",
      "Beta Std Error: [1.73440206e+00 9.20023614e-03 2.95156936e-01 3.04496276e-04]\n",
      "Beta Covariance: [[ 2.61839772e+01 -1.33728368e-01  4.43905464e+00 -4.31257963e-03]\n",
      " [-1.33728368e-01  7.36773509e-04 -2.32200409e-02  2.41840788e-05]\n",
      " [ 4.43905464e+00 -2.32200409e-02  7.58301720e-01 -7.52818907e-04]\n",
      " [-4.31257963e-03  2.41840788e-05 -7.52818907e-04  8.07049222e-07]]\n",
      "Residual Variance: 0.11488516359250522\n",
      "Inverse Condition #: 0.0007111569710208452\n",
      "Reason(s) for Halting:\n",
      "  Sum of squares convergence\n",
      "\n",
      "Final Result: Y = (3.1101 +/- 1.7344)(X - (0.0156 +/- 0.0092))^(1.9020 +/- 0.2952) + (-0.0001 +/- 0.0003)\n"
     ]
    },
    {
     "name": "stderr",
     "output_type": "stream",
     "text": [
      "/usr/lib/python3.6/site-packages/ipykernel_launcher.py:17: RuntimeWarning: invalid value encountered in power\n"
     ]
    },
    {
     "data": {
      "image/png": "[encoded data removed]",
      "text/plain": [
       "<Figure size 640x480 with 1 Axes>"
      ]
     },
     "metadata": {
      "needs_background": "dark"
     },
     "output_type": "display_data"
    }
   ],
   "source": [
    "xi = df2['x']\n",
    "yi = df2['y']\n",
    "sigmaxi = df2['dx']\n",
    "sigmayi = df2['dy']\n",
    "\n",
    "##############################\n",
    "\n",
    "from scipy.odr import *\n",
    "\n",
    "def fitfunction(B, x):\n",
    "    '''Non-Linear function y = a*(x-c)^b+d'''\n",
    "    # B is a vector of the parameters.\n",
    "    # x is an array of the current x values.\n",
    "    # x is in the same format as the x passed to Data or RealData.\n",
    "    #\n",
    "    # Return an array in the same format as y passed to Data or RealData\n",
    "    return B[0]*(x-B[1])**B[2] + B[3]\n",
    "\n",
    "linear = Model(fitfunction) # create a Model object based on the fitfuncion we have defined\n",
    "mydata = RealData(xi, yi, sx=sigmaxi, sy=sigmayi) # create a data object based on our data, include errors.\n",
    "myodr = ODR(mydata, linear, beta0=[C_guess, xinit, alphainit, yinit]) # create a fitting object, based on the data, fit Model, and an intial set of parameters.\n",
    "myoutput = myodr.run()  # run the fitting process to get optimized parameters!\n",
    "\n",
    "myoutput.pprint() # print out the result of the fit\n",
    "\n",
    "# Now assign the important fit results to some more convenient variables.\n",
    "\n",
    "popt = myoutput.beta # the vector of optimized parameters\n",
    "pcov = myoutput.cov_beta # the covariance matrix\n",
    "perr = myoutput.sd_beta # the vector of ERRORS in the optimized parameters\n",
    "\n",
    "# The following lines generate upper and lower 99% \"Confidence Bands\" on the fit, for visualization\n",
    "# purposes.\n",
    "\n",
    "ps = np.random.multivariate_normal(popt,pcov,10000)\n",
    "xl = np.linspace(xi[0],xi[len(xi)-1],100)\n",
    "ysample=np.asarray([fitfunction(pl,xl) for pl in ps])\n",
    "ysample = np.nan_to_num(ysample)\n",
    "\n",
    "lower = np.percentile(ysample,16.0,axis=0)\n",
    "upper = np.percentile(ysample,84.0,axis=0)\n",
    "middle = (lower+upper)/2.0\n",
    "\n",
    "yfit = fitfunction(popt,xl)\n",
    "\n",
    "print()\n",
    "print (\"Final Result: Y = (%0.4f +/- %0.4f)(X - (%0.4f +/- %0.4f))^(%0.4f +/- %0.4f) + (%0.4f +/- %0.4f)\" % (popt[0],perr[0],popt[1],perr[1],popt[2],perr[2],popt[3],perr[3]))\n",
    "\n",
    "plt.figure(figsize=(8, 6), dpi=80)\n",
    "plt.errorbar(xi, yi, xerr=sigmaxi, yerr=sigmayi, fmt='o', capsize=2, capthick=1)\n",
    "\n",
    "#plt.plot(xl,middle)\n",
    "#plt.plot(xl,lower)\n",
    "#plt.plot(xl,upper)\n",
    "plt.plot(xl,yfit)\n",
    "\n",
    "#########################\n",
    "\n",
    "plt.xlabel('Horizonatal Distance (meters)')\n",
    "plt.ylabel('Vertical Distance (meters)')\n",
    "plt.title('Determining the Electron Path (Accelerating Voltage = 3.5 kV)')\n",
    "plt.show()\n",
    "\n"
   ]
  },
  {
   "cell_type": "code",
   "execution_count": 9,
   "metadata": {},
   "outputs": [
    {
     "name": "stdout",
     "output_type": "stream",
     "text": [
      "d$_{eff} = (0.084 +/- 0.047)\n",
      "xi = (0.01565 +/- 0.00920)\n",
      "yi = (-0.00010 +/- 0.00030)\n",
      "alpha = (1.90197 +/- 0.29516)\n"
     ]
    }
   ],
   "source": [
    "Va = 3.50\n",
    "dVa = 0.01\n",
    "Vp = 3.64\n",
    "dVp = 0.01\n",
    "C = popt[0]\n",
    "dC = perr[0]\n",
    "x_i2 = popt[1]\n",
    "dx_i2 = perr[1]\n",
    "alpha2 = popt[2]\n",
    "dalpha2 = perr[2]\n",
    "y_i2 = popt[3]\n",
    "dy_i2 = perr[3]\n",
    "\n",
    "deff2 = Vp/(4*C*Va)\n",
    "\n",
    "ddeff2 = deff2*(dVp/Vp+dVa/Va+dC/C)\n",
    "\n",
    "print('d$_{eff} = (%0.3f +/- %0.3f)' % (deff2,ddeff2))\n",
    "\n",
    "print('xi = (%0.5f +/- %0.5f)' % (x_i2,dx_i2))\n",
    "print('yi = (%0.5f +/- %0.5f)' % (y_i2,dy_i2))\n",
    "print('alpha = (%0.5f +/- %0.5f)' % (alpha2,dalpha2))\n",
    "\n"
   ]
  },
  {
   "cell_type": "code",
   "execution_count": 10,
   "metadata": {},
   "outputs": [
    {
     "name": "stdout",
     "output_type": "stream",
     "text": [
      "3\n",
      "Initial Guess for C,alpha =  1.9466091230851925 1.656159452183796\n"
     ]
    }
   ],
   "source": [
    "# Let's try to make a guess at decent starting values for the parameters of the fit\n",
    "# Assume xi = 0.01, yi = 0.0002, and alpha = 2.0\n",
    "# From this, we can calculate C as:\n",
    "#\n",
    "# The fit function is y = C(x-xi)^alpha + yi\n",
    "#\n",
    "# Use the LAST data point to solve for C.\n",
    "#\n",
    "# C = (y-yi)/(x-xi)^alpha\n",
    "\n",
    "yinit = 0.0002\n",
    "xinit = 0.01\n",
    "\n",
    "xi = list(df3['x'])\n",
    "yi = list(df3['y'])\n",
    "\n",
    "xlast = xi[-1]\n",
    "ylast = yi[-1]\n",
    "\n",
    "length = len(xi)\n",
    "mid = int(length/2)\n",
    "print(mid)\n",
    "xmid = xi[mid]\n",
    "ymid = yi[mid]\n",
    "\n",
    "alphainit = 0.7*np.log((ylast-yinit)/(ymid-yinit))/np.log((xlast-yinit)/(xmid-yinit))\n",
    "\n",
    "C_guess = (ylast-yinit)/(xlast-xinit)**alphainit\n",
    "\n",
    "print('Initial Guess for C,alpha = ',C_guess,alphainit)"
   ]
  },
  {
   "cell_type": "code",
   "execution_count": 11,
   "metadata": {},
   "outputs": [
    {
     "name": "stdout",
     "output_type": "stream",
     "text": [
      "Beta: [ 5.64773560e+00  3.24497153e-03  2.10950156e+00 -1.01227661e-03]\n",
      "Beta Std Error: [6.46608207e+00 2.54439671e-02 6.89914997e-01 1.55466804e-03]\n",
      "Beta Covariance: [[ 3.23921430e+02 -1.25567358e+00  3.44916568e+01 -7.54767341e-02]\n",
      " [-1.25567358e+00  5.01564636e-03 -1.35185262e-01  3.05486180e-04]\n",
      " [ 3.44916568e+01 -1.35185262e-01  3.68763924e+00 -8.16498156e-03]\n",
      " [-7.54767341e-02  3.05486180e-04 -8.16498156e-03  1.87254643e-05]]\n",
      "Residual Variance: 0.12907518118310168\n",
      "Inverse Condition #: 0.0001598732012656607\n",
      "Reason(s) for Halting:\n",
      "  Sum of squares convergence\n",
      "\n",
      "Final Result: Y = (5.6477 +/- 6.4661)(X - (0.0032 +/- 0.0254))^(2.1095 +/- 0.6899) + (-0.0010 +/- 0.0016)\n"
     ]
    },
    {
     "name": "stderr",
     "output_type": "stream",
     "text": [
      "/usr/lib/python3.6/site-packages/ipykernel_launcher.py:17: RuntimeWarning: invalid value encountered in power\n"
     ]
    },
    {
     "data": {
      "image/png": "[encoded data removed]",
      "text/plain": [
       "<Figure size 640x480 with 1 Axes>"
      ]
     },
     "metadata": {
      "needs_background": "dark"
     },
     "output_type": "display_data"
    }
   ],
   "source": [
    "xi = df3['x']\n",
    "yi = df3['y']\n",
    "sigmaxi = df3['dx']\n",
    "sigmayi = df3['dy']\n",
    "\n",
    "##############################\n",
    "\n",
    "from scipy.odr import *\n",
    "\n",
    "def fitfunction(B, x):\n",
    "    '''Non-Linear function y = a*(x-c)^b+d'''\n",
    "    # B is a vector of the parameters.\n",
    "    # x is an array of the current x values.\n",
    "    # x is in the same format as the x passed to Data or RealData.\n",
    "    #\n",
    "    # Return an array in the same format as y passed to Data or RealData\n",
    "    return B[0]*(x-B[1])**B[2] + B[3]\n",
    "\n",
    "linear = Model(fitfunction) # create a Model object based on the fitfuncion we have defined\n",
    "mydata = RealData(xi, yi, sx=sigmaxi, sy=sigmayi) # create a data object based on our data, include errors.\n",
    "myodr = ODR(mydata, linear, beta0=[C_guess, xinit, alphainit, yinit]) # create a fitting object, based on the data, fit Model, and an intial set of parameters.\n",
    "myoutput = myodr.run()  # run the fitting process to get optimized parameters!\n",
    "\n",
    "myoutput.pprint() # print out the result of the fit\n",
    "\n",
    "# Now assign the important fit results to some more convenient variables.\n",
    "\n",
    "popt = myoutput.beta # the vector of optimized parameters\n",
    "pcov = myoutput.cov_beta # the covariance matrix\n",
    "perr = myoutput.sd_beta # the vector of ERRORS in the optimized parameters\n",
    "\n",
    "# The following lines generate upper and lower 99% \"Confidence Bands\" on the fit, for visualization\n",
    "# purposes.\n",
    "\n",
    "ps = np.random.multivariate_normal(popt,pcov,10000)\n",
    "xl = np.linspace(xi[0],xi[len(xi)-1],100)\n",
    "ysample=np.asarray([fitfunction(pl,xl) for pl in ps])\n",
    "ysample = np.nan_to_num(ysample)\n",
    "\n",
    "lower = np.percentile(ysample,16.0,axis=0)\n",
    "upper = np.percentile(ysample,84.0,axis=0)\n",
    "middle = (lower+upper)/2.0\n",
    "\n",
    "yfit = fitfunction(popt,xl)\n",
    "\n",
    "print()\n",
    "print (\"Final Result: Y = (%0.4f +/- %0.4f)(X - (%0.4f +/- %0.4f))^(%0.4f +/- %0.4f) + (%0.4f +/- %0.4f)\" % (popt[0],perr[0],popt[1],perr[1],popt[2],perr[2],popt[3],perr[3]))\n",
    "\n",
    "plt.figure(figsize=(8, 6), dpi=80)\n",
    "plt.errorbar(xi, yi, xerr=sigmaxi, yerr=sigmayi, fmt='o', capsize=2, capthick=1)\n",
    "\n",
    "#plt.plot(xl,middle)\n",
    "#plt.plot(xl,lower)\n",
    "#plt.plot(xl,upper)\n",
    "plt.plot(xl,yfit)\n",
    "\n",
    "#########################\n",
    "\n",
    "plt.xlabel('Horizonatal Distance (meters)')\n",
    "plt.ylabel('Vertical Distance (meters)')\n",
    "plt.title('Determining the Electron Path (Accelerating Voltage = 2.5 kV)')\n",
    "plt.show()\n"
   ]
  },
  {
   "cell_type": "code",
   "execution_count": 12,
   "metadata": {},
   "outputs": [
    {
     "name": "stdout",
     "output_type": "stream",
     "text": [
      "d$_{eff} = (0.064 +/- 0.074)\n",
      "xi = (0.00324 +/- 0.02544)\n",
      "yi = (-0.00101 +/- 0.00155)\n",
      "alpha = (2.10950 +/- 0.68991)\n"
     ]
    }
   ],
   "source": [
    "Va = 2.50\n",
    "dVa = 0.01\n",
    "Vp = 3.64\n",
    "dVp = 0.01\n",
    "C = popt[0]\n",
    "dC = perr[0]\n",
    "x_i3 = popt[1]\n",
    "dx_i3 = perr[1]\n",
    "alpha3 = popt[2]\n",
    "dalpha3 = perr[2]\n",
    "y_i3 = popt[3]\n",
    "dy_i3 = perr[3]\n",
    "\n",
    "deff3 = Vp/(4*C*Va)\n",
    "\n",
    "ddeff3 = deff3*(dVp/Vp+dVa/Va+dC/C)\n",
    "\n",
    "print('d$_{eff} = (%0.3f +/- %0.3f)' % (deff3,ddeff3))\n",
    "\n",
    "print('xi = (%0.5f +/- %0.5f)' % (x_i3,dx_i3))\n",
    "print('yi = (%0.5f +/- %0.5f)' % (y_i3,dy_i3))\n",
    "print('alpha = (%0.5f +/- %0.5f)' % (alpha3,dalpha3))\n"
   ]
  },
  {
   "cell_type": "code",
   "execution_count": 13,
   "metadata": {},
   "outputs": [
    {
     "name": "stdout",
     "output_type": "stream",
     "text": [
      "Va = 4.50kV: d$_{eff} = (0.100 +/- 0.051)\n",
      "Va = 3.50kV: d$_{eff} = (0.084 +/- 0.047)\n",
      "Va = 2.50kV: d$_{eff} = (0.064 +/- 0.074)\n"
     ]
    }
   ],
   "source": [
    "# Summary of Part I\n",
    "\n",
    "print('Va = 4.50kV: d$_{eff} = (%0.3f +/- %0.3f)' % (deff1,ddeff1))\n",
    "print('Va = 3.50kV: d$_{eff} = (%0.3f +/- %0.3f)' % (deff2,ddeff2))\n",
    "print('Va = 2.50kV: d$_{eff} = (%0.3f +/- %0.3f)' % (deff3,ddeff3))"
   ]
  },
  {
   "cell_type": "markdown",
   "metadata": {},
   "source": [
    "# Determining the Effective Plate Separation"
   ]
  },
  {
   "cell_type": "code",
   "execution_count": 21,
   "metadata": {},
   "outputs": [
    {
     "name": "stdout",
     "output_type": "stream",
     "text": [
      "Plate Separation Data:\n",
      "   Vp   dVp    Va   dVa\n",
      " 1.89  0.01  2.60  0.01\n",
      " 2.05  0.01  2.81  0.01\n",
      " 2.19  0.01  3.01  0.01\n",
      " 2.34  0.01  3.21  0.01\n",
      " 2.45  0.01  3.41  0.01\n",
      " 2.60  0.01  3.61  0.01\n",
      " 2.71  0.01  3.80  0.01\n",
      " 2.83  0.01  4.00  0.01\n",
      " 2.95  0.01  4.19  0.01\n",
      " 3.16  0.01  4.40  0.01\n",
      " 3.25  0.01  4.59  0.01\n",
      " 3.41  0.01  4.81  0.01\n",
      " 3.53  0.01  5.01  0.01\n"
     ]
    }
   ],
   "source": [
    "# Create a Pandas DataFrame with data for part 2\n",
    "\n",
    "# The data elements are [Vp, dVp, Va, dVa]\n",
    "\n",
    "data4 = [[1.89,0.01,2.60,0.01], \n",
    "         [2.05,0.01,2.81,0.01], \n",
    "         [2.19,0.01,3.01,0.01],\n",
    "         [2.34,0.01,3.21,0.01], \n",
    "         [2.45,0.01,3.41,0.01], \n",
    "         [2.60,0.01,3.61,0.01],\n",
    "         [2.71,0.01,3.80,0.01], \n",
    "         [2.83,0.01,4.00,0.01], \n",
    "         [2.95,0.01,4.19,0.01],\n",
    "         [3.16,0.01,4.40,0.01],\n",
    "         [3.25,0.01,4.59,0.01], \n",
    "         [3.41,0.01,4.81,0.01],\n",
    "         [3.53,0.01,5.01,0.01]]\n",
    "# create dataframe\n",
    "df4 = pd.DataFrame(data4, columns = ['Vp', 'dVp','Va','dVa'])\n",
    "\n",
    "print('Plate Separation Data:')\n",
    "print(df4.to_string(index=False))"
   ]
  },
  {
   "cell_type": "code",
   "execution_count": 22,
   "metadata": {},
   "outputs": [
    {
     "name": "stdout",
     "output_type": "stream",
     "text": [
      "Beta: [0.6772159  0.14397488]\n",
      "Beta Std Error: [0.00702032 0.02721325]\n",
      "Beta Covariance: [[ 2.01471303e-05 -7.66365083e-05]\n",
      " [-7.66365083e-05  3.02733340e-04]]\n",
      "Residual Variance: 2.4462484462918765\n",
      "Inverse Condition #: 0.04113778192778172\n",
      "Reason(s) for Halting:\n",
      "  Sum of squares convergence\n",
      "\n",
      "Final Result: Y = (0.677215905 +/- 0.007020320)X + (0.143974883 +/- 0.027213250)\n"
     ]
    },
    {
     "data": {
      "image/png": "[encoded data removed]",
      "text/plain": [
       "<Figure size 640x480 with 1 Axes>"
      ]
     },
     "metadata": {
      "needs_background": "dark"
     },
     "output_type": "display_data"
    }
   ],
   "source": [
    "xi = df4['Va']\n",
    "yi = df4['Vp']\n",
    "sigmaxi = df4['dVa']\n",
    "sigmayi = df4['dVp']\n",
    "\n",
    "##############################\n",
    "\n",
    "from scipy.odr import *\n",
    "\n",
    "def fitfunction(B, x):\n",
    "    '''Linear function y = a*x+b'''\n",
    "    # B is a vector of the parameters.\n",
    "    # x is an array of the current x values.\n",
    "    # x is in the same format as the x passed to Data or RealData.\n",
    "    #\n",
    "    # Return an array in the same format as y passed to Data or RealData.\n",
    "    return B[0]*x+B[1]\n",
    "\n",
    "linear = Model(fitfunction) # create a Model object based on the fitfuncion we have defined\n",
    "mydata = RealData(xi, yi, sx=sigmaxi, sy=sigmayi) # create a data object based on our data, include errors.\n",
    "myodr = ODR(mydata, linear, beta0=[1., 2.]) # create a fitting object, based on the data, fit Model, and an intial set of parameters.\n",
    "myoutput = myodr.run()  # run the fitting process to get optimized parameters!\n",
    "\n",
    "myoutput.pprint() # print out the result of the fit\n",
    "\n",
    "# Now assign the important fit results to some more convenient variables.\n",
    "\n",
    "popt = myoutput.beta # the vector of optimized parameters\n",
    "pcov = myoutput.cov_beta # the covariance matrix\n",
    "perr = myoutput.sd_beta # the vector of ERRORS in the optimized parameters\n",
    "\n",
    "# The following lines generate upper and lower 99% \"Confidence Bands\" on the fit, for visualization\n",
    "# purposes.\n",
    "\n",
    "ps = np.random.multivariate_normal(popt,pcov,10000)\n",
    "xl = np.linspace(xi[0],xi[len(xi)-1],100)\n",
    "ysample=np.asarray([fitfunction(pl,xl) for pl in ps])\n",
    "\n",
    "lower = np.percentile(ysample,0.5,axis=0)\n",
    "upper = np.percentile(ysample,99.5,axis=0)\n",
    "middle = (lower+upper)/2.0\n",
    "\n",
    "print()\n",
    "print (\"Final Result: Y = (%0.9f +/- %0.9f)X + (%0.9f +/- %0.9f)\" % (popt[0],perr[0],popt[1],perr[1]))\n",
    "\n",
    "plt.figure(figsize=(8, 6), dpi=80)\n",
    "\n",
    "plt.errorbar(xi, yi, xerr=sigmaxi, yerr=sigmayi, fmt='o', capsize=2, capthick=1)\n",
    "\n",
    "plt.plot(xl,middle)\n",
    "plt.plot(xl,lower)\n",
    "plt.plot(xl,upper)\n",
    "\n",
    "#########################\n",
    "\n",
    "plt.xlabel('Accelerating Voltage (kV)')\n",
    "plt.ylabel('Plate Voltage (kV)')\n",
    "plt.title('Determining the Effective Plate Separation')\n",
    "plt.show()"
   ]
  },
  {
   "cell_type": "markdown",
   "metadata": {},
   "source": [
    "## Analysis of Electron Path:   Accelerating Voltage = 4.5 kV\n",
    "\n",
    "First of all, we see that the fit is linear, as expected.\n",
    "\n",
    "Second, we see that the result for the slope is $(0.727 \\pm 0.006)$.  \n",
    "\n",
    "Third, we see that the y-intercept of the fit is $(0.076 \\pm 0.023)$.  This is not\n",
    "consistent with zero, as expected.\n",
    "\n",
    "The theory predicts that this slope should be equal to: $\\frac{4 \\Delta y d_{eff}}{(\\Delta x)^2}$.  Thus, we can calculate that:\n",
    "\n",
    "$d_{eff} = slope \\left( \\frac{(\\Delta x)^2}{4 \\Delta y} \\right)$\n",
    "\n",
    "and \n",
    "\n",
    "$ \\delta(d_{eff}) = d_{eff} \\left( 2 \\frac{\\delta(\\Delta x)}{\\Delta x} + \\frac{\\delta(\\Delta y)}{\\Delta y} + \\frac{\\delta(slope)}{slope} \\right) $"
   ]
  },
  {
   "cell_type": "code",
   "execution_count": 23,
   "metadata": {},
   "outputs": [],
   "source": [
    "slope = popt[0]\n",
    "dslope = perr[0]\n",
    "\n",
    "deltax = 0.100\n",
    "ddeltax = 0.001\n",
    "deltay = 0.020\n",
    "ddeltay = 0.001\n",
    "\n",
    "deff4 = slope*(deltax**2)/(4.0*deltay)\n",
    "ddeff4 = deff4*(2*ddeltax/deltax + ddeltay/deltay + dslope/slope)\n",
    "\n"
   ]
  },
  {
   "cell_type": "code",
   "execution_count": 17,
   "metadata": {},
   "outputs": [
    {
     "name": "stdout",
     "output_type": "stream",
     "text": [
      "Part II: Effective distance = (0.064 +/- 0.005) m\n",
      "\n",
      "Part I:\n",
      "Va = 4.50kV: d_eff = (0.100 +/- 0.051) m\n",
      "Va = 3.50kV: d_eff = (0.084 +/- 0.047) m\n",
      "Va = 2.50kV: d_eff = (0.064 +/- 0.074) m\n"
     ]
    }
   ],
   "source": [
    "# Final Summary\n",
    "print (\"Part II: Effective distance = (%0.3f +/- %0.3f) m\" % (deff4,ddeff4))\n",
    "\n",
    "print()\n",
    "print(\"Part I:\")\n",
    "print('Va = 4.50kV: d_eff = (%0.3f +/- %0.3f) m' % (deff1,ddeff1))\n",
    "print('Va = 3.50kV: d_eff = (%0.3f +/- %0.3f) m' % (deff2,ddeff2))\n",
    "print('Va = 2.50kV: d_eff = (%0.3f +/- %0.3f) m' % (deff3,ddeff3))"
   ]
  },
  {
   "cell_type": "code",
   "execution_count": 18,
   "metadata": {},
   "outputs": [
    {
     "name": "stdout",
     "output_type": "stream",
     "text": [
      "Weighted Average = 0.0647 +/- 0.0053 m\n"
     ]
    },
    {
     "data": {
      "image/png": "[encoded data removed]",
      "text/plain": [
       "<Figure size 640x480 with 1 Axes>"
      ]
     },
     "metadata": {
      "needs_background": "dark"
     },
     "output_type": "display_data"
    }
   ],
   "source": [
    "x1 = ['IA','IB','IC','II']\n",
    "y1 = np.array([deff1,deff2,deff3,deff4])\n",
    "dy1 = np.array([ddeff1,ddeff2,ddeff3,ddeff4])\n",
    "\n",
    "# Calculate the weighted average of the effective distance values.\n",
    "def w_avg(x, dx):\n",
    "    d = x\n",
    "    w = 1.0/dx**2\n",
    "    return (d * w).sum()/w.sum(), np.sqrt(1/w.sum())\n",
    "\n",
    "average, daverage = w_avg(y1,dy1)\n",
    "print ('Weighted Average = %0.4f +/- %0.4f m' % (average,daverage))\n",
    "ylow = average-daverage\n",
    "yhigh = average+daverage\n",
    "y2 = [ylow,ylow,ylow,ylow]\n",
    "y3 = [yhigh,yhigh,yhigh,yhigh]\n",
    "\n",
    "\n",
    "plt.figure(figsize=(8, 6), dpi=80)\n",
    "\n",
    "plt.errorbar(x1, y1, yerr=dy1, fmt='o', capsize=2, capthick=1)\n",
    "plt.plot(x1,y2)\n",
    "plt.plot(x1,y3)\n",
    "\n",
    "#########################\n",
    "\n",
    "plt.xlabel('Experiment Part')\n",
    "plt.ylabel('Effective Plate Separation (m)')\n",
    "plt.title('Comparison of Parts I and II')\n",
    "plt.ylim(0,0.22)\n",
    "plt.show()"
   ]
  },
  {
   "cell_type": "code",
   "execution_count": 19,
   "metadata": {},
   "outputs": [
    {
     "data": {
      "image/png": "[encoded data removed]",
      "text/plain": [
       "<Figure size 640x480 with 1 Axes>"
      ]
     },
     "metadata": {
      "needs_background": "dark"
     },
     "output_type": "display_data"
    }
   ],
   "source": [
    "x1 = ['IA','IB','IC']\n",
    "y1 = [x_i1,x_i2,x_i3]\n",
    "dy1 = [dx_i1,dx_i2,dx_i3]\n",
    "y2 = [y_i1,y_i2,y_i3]\n",
    "dy2 = [dy_i1,dy_i2,dy_i3]\n",
    "\n",
    "plt.figure(figsize=(8, 6), dpi=80)\n",
    "\n",
    "plt.errorbar(x1, y1, yerr=dy1, fmt='o', capsize=2, capthick=1)\n",
    "plt.errorbar(x1, y2, yerr=dy2, fmt='o', capsize=2, capthick=1)\n",
    "#########################\n",
    "\n",
    "plt.xlabel('Experiment Part')\n",
    "plt.ylabel('Initial X/Y Position (m)')\n",
    "plt.title('Comparison of Part I Extractions')\n",
    "plt.ylim(-0.01,0.03)\n",
    "plt.show()"
   ]
  },
  {
   "cell_type": "code",
   "execution_count": 20,
   "metadata": {},
   "outputs": [
    {
     "name": "stdout",
     "output_type": "stream",
     "text": [
      "Weighted Average = 1.8623 +/- 0.1894 m\n"
     ]
    },
    {
     "data": {
      "image/png": "[encoded data removed]",
      "text/plain": [
       "<Figure size 640x480 with 1 Axes>"
      ]
     },
     "metadata": {
      "needs_background": "dark"
     },
     "output_type": "display_data"
    }
   ],
   "source": [
    "x1 = ['IA','IB','IC']\n",
    "y1 = np.array([alpha1,alpha2,alpha3])\n",
    "dy1 = np.array([dalpha1,dalpha2,dalpha3])\n",
    "\n",
    "average, daverage = w_avg(y1,dy1)\n",
    "print ('Weighted Average = %0.4f +/- %0.4f m' % (average,daverage))\n",
    "ylow = average-daverage\n",
    "yhigh = average+daverage\n",
    "y2 = [ylow,ylow,ylow]\n",
    "y3 = [yhigh,yhigh,yhigh]\n",
    "\n",
    "plt.figure(figsize=(8, 6), dpi=80)\n",
    "\n",
    "plt.errorbar(x1, y1, yerr=dy1, fmt='o', capsize=2, capthick=1)\n",
    "plt.plot(x1,y2)\n",
    "plt.plot(x1,y3)\n",
    "#########################\n",
    "\n",
    "plt.xlabel('Experiment Part')\n",
    "plt.ylabel('Exponent')\n",
    "plt.title('Comparison of Part I Extractions')\n",
    "plt.ylim(0.0,3.0)\n",
    "plt.show()"
   ]
  },
  {
   "cell_type": "code",
   "execution_count": null,
   "metadata": {},
   "outputs": [],
   "source": []
  },
  {
   "cell_type": "code",
   "execution_count": null,
   "metadata": {},
   "outputs": [],
   "source": []
  }
 ],
 "metadata": {
  "kernelspec": {
   "display_name": "Python 3",
   "language": "python",
   "name": "python3"
  },
  "language_info": {
   "codemirror_mode": {
    "name": "ipython",
    "version": 3
   },
   "file_extension": ".py",
   "mimetype": "text/x-python",
   "name": "python",
   "nbconvert_exporter": "python",
   "pygments_lexer": "ipython3",
   "version": "3.6.8"
  },
  "latex_envs": {
   "LaTeX_envs_menu_present": true,
   "autoclose": false,
   "autocomplete": true,
   "bibliofile": "biblio.bib",
   "cite_by": "apalike",
   "current_citInitial": 1,
   "eqLabelWithNumbers": true,
   "eqNumInitial": 1,
   "hotkeys": {
    "equation": "Ctrl-E",
    "itemize": "Ctrl-I"
   },
   "labels_anchors": false,
   "latex_user_defs": false,
   "report_style_numbering": false,
   "user_envs_cfg": false
  }
 },
 "nbformat": 4,
 "nbformat_minor": 4
}
