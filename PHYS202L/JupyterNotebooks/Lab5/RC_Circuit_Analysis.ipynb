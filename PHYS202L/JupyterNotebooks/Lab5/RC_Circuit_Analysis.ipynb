{
 "cells": [
  {
   "cell_type": "markdown",
   "metadata": {},
   "source": [
    "# Lab 5:  RC Circuit Analysis"
   ]
  },
  {
   "cell_type": "markdown",
   "metadata": {},
   "source": [
    "# Theory\n",
    "The capacitor relationship is defined to be\n",
    "$$C≝\\frac{Q}{V}\\tag{1}$$\n",
    "Where $C$ is the capacitance of the capacitor, $Q$ is the charge contained within the capacitor, and $V$ is the voltage\n",
    "across the capacitor. We can use this relationship to compute the capacitance of the capacitor, however we must be\n",
    "able to measure the charge. The easiest way to do that is to remember that the charge that flows into the capacitor\n",
    "per unit time is the current. So if we measure the current, $I$, flowing into the capacitor, we can integrate:\n",
    "$$I(t)=\\frac{dQ(t)}{dt}\\; or \\; Q(t)=∫^t_{0}I(t)dt\\tag{2}$$\n",
    "\n",
    "\n",
    "# The Discharging Capacitor\n",
    "To determine the charge and current through a capacitor which is discharging, we can use Kirchhoff’s Loop Rule on\n",
    "a circuit containing only the charged capacitor with capacitance, $C$, and a resistor, $R$. There are no sources of EMF,\n",
    "so we may write\n",
    "$$V_{C}+V_{R} = 0$$\n",
    "$$\\frac{Q}{C}+IR = 0$$\n",
    "$$\\frac{Q}{C}+R\\frac{dQ}{dt} = 0$$\n",
    "$$\\frac{dQ}{dt} = −\\frac{Q}{RC}$$\n",
    "$$\\frac{dQ}{Q}= −\\frac{dt}{RC}$$\n",
    "$$lnQ = −\\frac{t}{RC}+K$$\n",
    "\n",
    "If we then exponentiate both sides and set the initial charge to be $Q_{0}$\n",
    "at time t=0 we find\n",
    "$$Q(t)=Q_{0}e^{−\\frac{t}{RC}}\\tag{3}$$\n",
    "We define the time constant,\n",
    "$$τ≝RC\\tag{4}$$\n",
    "A derivative of the charge gives us the current:\n",
    "$$I(t)=\\frac{dQ}{dt} = \\frac{Q_{0}}{RC}e^{−\\frac{t}{τ}}=I_{0}e^{−\\frac{t}{τ}}\\tag{5}$$\n",
    "\n",
    "\n",
    "# The Charging Capacitor\n",
    "To determine the charge and current flowing into a charging capacitor, we can, once again, use Kirchhoff’s Loop\n",
    "Rule, but now we include the source EMF:\n",
    "$$V_{C} +V_{R} = \\epsilon$$\n",
    "$$\\frac{Q}{C}+IR = \\epsilon$$\n",
    "$$\\frac{Q}{RC}+\\frac{dQ}{dt} =\\frac{\\epsilon}{R}\\tag{6}$$\n",
    "\n",
    "This type of differential equation is called an $inhomogeneous differential equation$ because the constant term is no\n",
    "longer zero. The solution to this differential equation is the sum of two parts: we add together the solution to the\n",
    "homogeneous equation with a particular solution, $Q_{p}$\n",
    ", that does not depend on time:\n",
    "$$Q(t)=Ke^{−\\frac{t}{RC}} +Q_{p}\\tag{7}$$\n",
    "where we will have to re-evaluate the constant, $K$. When we replace this into (6) we find that $Qp=εC$ . We\n",
    "now set our initial condition so that the initial charge is zero at $t=0$:\n",
    "Q(0)=K+εC=0 or K=−εC\n",
    "We then re-write (7):\n",
    "$$Q(t)=εC(1−e^{−\\frac{t}{τ}})\\tag{8}$$\n",
    "\n",
    "A derivative with respect to time gives us the current:\n",
    "\n",
    "$$I(t)=\\frac{dQ}{dt} = \\frac{\\epsilon}{R}e^{−\\frac{t}{τ}}\\tag{9}$$"
   ]
  },
  {
   "cell_type": "code",
   "execution_count": 1,
   "metadata": {},
   "outputs": [],
   "source": [
    "import numpy as np\n",
    "import pandas as pd\n",
    "import matplotlib.pyplot as plt\n",
    "import scipy.stats as stats\n",
    "\n",
    "\n",
    "import sys; sys.path.insert(0, '..')\n",
    "from P202_Functions import *\n",
    "\n",
    "# The following lines make plots in dark mode look reasonable.  If you are not using dark\n",
    "# mode you don't need them, but you can also just leave them here and it should work fine.\n",
    "\n",
    "dark_mode = True\n",
    "# plotting choices for dark-mode\n",
    "if (dark_mode):\n",
    "    from jupyterthemes import jtplot\n",
    "    jtplot.style(theme='monokai', context='notebook', ticks=True, grid=False)\n",
    "    linecolor = 'w'\n",
    "else:\n",
    "    linecolor = 'k'"
   ]
  },
  {
   "cell_type": "markdown",
   "metadata": {},
   "source": [
    "# Capacitor-Resistor Combination 1\n",
    "\n",
    "In each phase of this experiment, a different combination of capactior and resistor, in a series circuit, was used.  The theory is as follows:\n",
    "\n",
    "When the switch is closed, thus defining $t=0$, the voltage across the capacitor will be given by:\n",
    "\n",
    "$\n",
    "\\begin{equation}\n",
    "V(t) = V_{source}(1 - e^{-\\frac{t}{RC}})\n",
    "\\end{equation}\n",
    "$\n",
    "\n",
    "The current through the circuit, defined according to $i_C = C\\frac{dV_C}{dt}$, is:\n",
    "\n",
    "$\n",
    "\\begin{equation}\n",
    "i(t) = \\frac{V_{source}}{R}e^{-\\frac{t}{RC}}\n",
    "\\end{equation}\n",
    "$\n",
    "\n",
    "The charge on the capacitor, defined by $Q = \\int_0^t i(t)dt$, is given by:\n",
    "\n",
    "$\n",
    "\\begin{equation}\n",
    "Q(t) = C V_{source}(1-e^{-\\frac{t}{RC}})\n",
    "\\end{equation}\n",
    "$\n"
   ]
  },
  {
   "cell_type": "code",
   "execution_count": 2,
   "metadata": {},
   "outputs": [
    {
     "name": "stdout",
     "output_type": "stream",
     "text": [
      "RC Time Constant: 1.5 seconds\n"
     ]
    }
   ],
   "source": [
    "# Create a Pandas DataFrame with data for part 1\n",
    "# Enter saved file as .csv in \" \" below!#######\n",
    "df1 = pd.read_csv(\"Experiment_5.csv\")\n",
    "\n",
    "# Enter EXACT MEASURED Resistor size and Capacitor size used for this trial below! (Capacitor in micro Farads uF, Resistor in Ohms)\n",
    "df1_R = 15000\n",
    "df1_C = 100\n",
    "\n",
    "Tau_1= df1_R * df1_C * (1/1000000)\n",
    "print('RC Time Constant:', Tau_1,'seconds')\n",
    "\n",
    "#Enter Voltage applied to the circuit below. (Should be 10V)\n",
    "E= 10.0\n",
    "\n",
    "\n",
    "\n",
    "df1_iv = (df1.copy()).drop(df1.columns[3], axis=1).dropna()\n",
    "df1_q = (df1.copy()).drop(df1.columns[2], axis=1)\n",
    "df1_q = (df1_q.copy()).drop(df1_q.columns[1], axis=1).dropna()"
   ]
  },
  {
   "cell_type": "code",
   "execution_count": 3,
   "metadata": {},
   "outputs": [
    {
     "data": {
      "text/html": [
       "<div>\n",
       "<style scoped>\n",
       "    .dataframe tbody tr th:only-of-type {\n",
       "        vertical-align: middle;\n",
       "    }\n",
       "\n",
       "    .dataframe tbody tr th {\n",
       "        vertical-align: top;\n",
       "    }\n",
       "\n",
       "    .dataframe thead th {\n",
       "        text-align: right;\n",
       "    }\n",
       "</style>\n",
       "<table border=\"1\" class=\"dataframe\">\n",
       "  <thead>\n",
       "    <tr style=\"text-align: right;\">\n",
       "      <th></th>\n",
       "      <th>t</th>\n",
       "      <th>v</th>\n",
       "      <th>i</th>\n",
       "      <th>di</th>\n",
       "      <th>dv</th>\n",
       "      <th>dt</th>\n",
       "    </tr>\n",
       "  </thead>\n",
       "  <tbody>\n",
       "    <tr>\n",
       "      <th>0</th>\n",
       "      <td>0.0000</td>\n",
       "      <td>0.008</td>\n",
       "      <td>-0.000123</td>\n",
       "      <td>0.000001</td>\n",
       "      <td>0.001</td>\n",
       "      <td>0.0001</td>\n",
       "    </tr>\n",
       "    <tr>\n",
       "      <th>2</th>\n",
       "      <td>0.0005</td>\n",
       "      <td>0.009</td>\n",
       "      <td>-0.000091</td>\n",
       "      <td>0.000001</td>\n",
       "      <td>0.001</td>\n",
       "      <td>0.0001</td>\n",
       "    </tr>\n",
       "    <tr>\n",
       "      <th>4</th>\n",
       "      <td>0.0010</td>\n",
       "      <td>0.007</td>\n",
       "      <td>-0.000091</td>\n",
       "      <td>0.000001</td>\n",
       "      <td>0.001</td>\n",
       "      <td>0.0001</td>\n",
       "    </tr>\n",
       "    <tr>\n",
       "      <th>6</th>\n",
       "      <td>0.0020</td>\n",
       "      <td>0.009</td>\n",
       "      <td>-0.000101</td>\n",
       "      <td>0.000001</td>\n",
       "      <td>0.001</td>\n",
       "      <td>0.0001</td>\n",
       "    </tr>\n",
       "    <tr>\n",
       "      <th>8</th>\n",
       "      <td>0.0020</td>\n",
       "      <td>0.008</td>\n",
       "      <td>-0.000079</td>\n",
       "      <td>0.000001</td>\n",
       "      <td>0.001</td>\n",
       "      <td>0.0001</td>\n",
       "    </tr>\n",
       "    <tr>\n",
       "      <th>...</th>\n",
       "      <td>...</td>\n",
       "      <td>...</td>\n",
       "      <td>...</td>\n",
       "      <td>...</td>\n",
       "      <td>...</td>\n",
       "      <td>...</td>\n",
       "    </tr>\n",
       "    <tr>\n",
       "      <th>56408</th>\n",
       "      <td>14.1020</td>\n",
       "      <td>10.193</td>\n",
       "      <td>0.002000</td>\n",
       "      <td>0.000001</td>\n",
       "      <td>0.001</td>\n",
       "      <td>0.0001</td>\n",
       "    </tr>\n",
       "    <tr>\n",
       "      <th>56410</th>\n",
       "      <td>14.1030</td>\n",
       "      <td>10.194</td>\n",
       "      <td>0.002000</td>\n",
       "      <td>0.000001</td>\n",
       "      <td>0.001</td>\n",
       "      <td>0.0001</td>\n",
       "    </tr>\n",
       "    <tr>\n",
       "      <th>56412</th>\n",
       "      <td>14.1030</td>\n",
       "      <td>10.194</td>\n",
       "      <td>0.002000</td>\n",
       "      <td>0.000001</td>\n",
       "      <td>0.001</td>\n",
       "      <td>0.0001</td>\n",
       "    </tr>\n",
       "    <tr>\n",
       "      <th>56414</th>\n",
       "      <td>14.1040</td>\n",
       "      <td>10.194</td>\n",
       "      <td>0.002000</td>\n",
       "      <td>0.000001</td>\n",
       "      <td>0.001</td>\n",
       "      <td>0.0001</td>\n",
       "    </tr>\n",
       "    <tr>\n",
       "      <th>56416</th>\n",
       "      <td>14.1040</td>\n",
       "      <td>10.194</td>\n",
       "      <td>0.002000</td>\n",
       "      <td>0.000001</td>\n",
       "      <td>0.001</td>\n",
       "      <td>0.0001</td>\n",
       "    </tr>\n",
       "  </tbody>\n",
       "</table>\n",
       "<p>28209 rows × 6 columns</p>\n",
       "</div>"
      ],
      "text/plain": [
       "             t       v         i        di     dv      dt\n",
       "0       0.0000   0.008 -0.000123  0.000001  0.001  0.0001\n",
       "2       0.0005   0.009 -0.000091  0.000001  0.001  0.0001\n",
       "4       0.0010   0.007 -0.000091  0.000001  0.001  0.0001\n",
       "6       0.0020   0.009 -0.000101  0.000001  0.001  0.0001\n",
       "8       0.0020   0.008 -0.000079  0.000001  0.001  0.0001\n",
       "...        ...     ...       ...       ...    ...     ...\n",
       "56408  14.1020  10.193  0.002000  0.000001  0.001  0.0001\n",
       "56410  14.1030  10.194  0.002000  0.000001  0.001  0.0001\n",
       "56412  14.1030  10.194  0.002000  0.000001  0.001  0.0001\n",
       "56414  14.1040  10.194  0.002000  0.000001  0.001  0.0001\n",
       "56416  14.1040  10.194  0.002000  0.000001  0.001  0.0001\n",
       "\n",
       "[28209 rows x 6 columns]"
      ]
     },
     "execution_count": 3,
     "metadata": {},
     "output_type": "execute_result"
    }
   ],
   "source": [
    "df1_iv = df1_iv.set_axis(['t', 'v', 'i'], axis=1, inplace=False)\n",
    "df1_q = df1_q.set_axis(['t', 'q'], axis=1, inplace=False)\n",
    "\n",
    "df1_iv['di']=0.000001\n",
    "df1_iv['dv']=0.001\n",
    "df1_iv['dt']=0.0001\n",
    "\n",
    "df1_q['dt']=0.0001\n",
    "df1_q['dq']=1E-8\n",
    "\n",
    "#pd.set_option('display.max_rows', None)\n",
    "df1_iv"
   ]
  },
  {
   "cell_type": "markdown",
   "metadata": {},
   "source": [
    "Our first task is to define the $t=0$ point.  We should graph the raw data, for voltage vs. time, and use this plot to decide on the fit region."
   ]
  },
  {
   "cell_type": "code",
   "execution_count": 4,
   "metadata": {},
   "outputs": [
    {
     "data": {
      "text/plain": [
       "<ErrorbarContainer object of 3 artists>"
      ]
     },
     "execution_count": 4,
     "metadata": {},
     "output_type": "execute_result"
    },
    {
     "data": {
      "image/png": "[encoded data removed]",
      "text/plain": [
       "<Figure size 432x288 with 1 Axes>"
      ]
     },
     "metadata": {
      "needs_background": "dark"
     },
     "output_type": "display_data"
    }
   ],
   "source": [
    "xi_all1 = np.array(df1_iv['t'])\n",
    "yi_all1 = np.array(df1_iv['v'])\n",
    "sigmaxi_all1 = np.array(df1_iv['dt'])\n",
    "sigmayi_all1 = np.array(df1_iv['dv'])\n",
    "\n",
    "plt.errorbar(xi_all1, yi_all1, xerr=sigmaxi_all1, yerr=sigmayi_all1, fmt='o', capsize=2, capthick=1)\n",
    "#plt.xlim(1.2,1.23)\n",
    "#plt.ylim(-0.025,0.025)\n",
    "#Adjust tlow and thigh below to encompass the bend of the graph for best fit. \n",
    "tlow = 1.220\n",
    "thigh = 10.500\n",
    "\n",
    "df1_iv_select = df1_iv[(df1_iv['t']>tlow) & (df1_iv['t']<thigh)]\n",
    "xi1 = np.array(df1_iv_select['t'])\n",
    "yi1 = np.array(df1_iv_select['v'])\n",
    "sigmaxi1 = np.array(df1_iv_select['dt'])\n",
    "sigmayi1 = np.array(df1_iv_select['dv'])\n",
    "\n",
    "\n",
    "plt.errorbar(xi1, yi1, xerr=sigmaxi1, yerr=sigmayi1, fmt='o', capsize=2, capthick=1)\n",
    "\n"
   ]
  },
  {
   "cell_type": "code",
   "execution_count": 5,
   "metadata": {
    "scrolled": true
   },
   "outputs": [
    {
     "name": "stdout",
     "output_type": "stream",
     "text": [
      "[ 0.   1.5  3.   4.5  6.   7.5  9.  10.5 12.  13.5]\n",
      "[0.         6.32120559 8.64664717 9.50212932 9.81684361 9.93262053\n",
      " 9.97521248 9.99088118 9.99664537 9.9987659 ]\n"
     ]
    },
    {
     "data": {
      "image/png": "[encoded data removed]",
      "text/plain": [
       "<Figure size 432x288 with 1 Axes>"
      ]
     },
     "metadata": {
      "needs_background": "dark"
     },
     "output_type": "display_data"
    }
   ],
   "source": [
    "\n",
    "exp1_Tau = Tau_1 * np.arange(0,10)\n",
    "print(exp1_Tau)\n",
    "Exp_E = E * (1 - np.exp(-np.arange(0,10)))\n",
    "print(Exp_E)\n",
    "\n",
    "fig = plt.figure()\n",
    "plt.plot(exp1_Tau,Exp_E,label='Projected')\n",
    "plt.plot(xi_all1, yi_all1, label='Measured')\n",
    "plt.xlabel('Tau (RC)')\n",
    "plt.ylabel('Voltage (V)')\n",
    "plt.xlim(0,10)\n",
    "plt.legend()\n",
    "plt.show()"
   ]
  },
  {
   "cell_type": "code",
   "execution_count": 6,
   "metadata": {},
   "outputs": [
    {
     "name": "stdout",
     "output_type": "stream",
     "text": [
      "Beta: [9.97997692 0.5998958  1.71728429]\n",
      "Beta Std Error: [0.00089767 0.00094031 0.00117724]\n",
      "Beta Covariance: [[ 1.80718449e-10 -9.11149107e-11  1.71842424e-10]\n",
      " [-9.11149107e-11  1.98297324e-10 -2.16282618e-10]\n",
      " [ 1.71842424e-10 -2.16282618e-10  3.10813913e-10]]\n",
      "Residual Variance: 4458.919447941498\n",
      "Inverse Condition #: 0.145614868452997\n",
      "Reason(s) for Halting:\n",
      "  Sum of squares convergence\n",
      "\n",
      "Final Result: Y = (9.979976916 +/- 0.000897669) (1 - EXP(-(X - (0.599895798 +/- 0.000940315))/(1.717284289 +/- 0.001177240)))\n",
      "1.5\n"
     ]
    },
    {
     "data": {
      "image/png": "[encoded data removed]",
      "text/plain": [
       "<Figure size 640x480 with 1 Axes>"
      ]
     },
     "metadata": {
      "needs_background": "dark"
     },
     "output_type": "display_data"
    }
   ],
   "source": [
    "popt, pcov, perr = charging_fit_plot(xi1,yi1,sigmaxi1,sigmayi1,plt,tlow,thigh)\n",
    "\n",
    "#########################\n",
    "print(Tau_1)\n",
    "\n",
    "plt.xlabel('Time (seconds)')\n",
    "plt.ylabel('Voltage (Volts)')\n",
    "plt.title('RC Circuit Configuration 1')\n",
    "plt.show()"
   ]
  },
  {
   "cell_type": "code",
   "execution_count": null,
   "metadata": {},
   "outputs": [],
   "source": []
  },
  {
   "cell_type": "code",
   "execution_count": 7,
   "metadata": {},
   "outputs": [
    {
     "name": "stdout",
     "output_type": "stream",
     "text": [
      "RC Time Constant: 0.22 seconds\n"
     ]
    }
   ],
   "source": [
    "# Create a Pandas DataFrame with data for part 2\n",
    "# Enter saved file as .csv in \" \" below!#########\n",
    "df2 = pd.read_csv(\"Exp_5_220.csv\")\n",
    "\n",
    "# Enter EXACT MEASURED Resistor size and Capacitor size user for this trial below! (Capacitor in micro Farads uF, Resistor in Ohms)\n",
    "df2_R = 220\n",
    "df2_C = 1000\n",
    "Tau_2 = df2_R * df2_C * (1/1000000)\n",
    "print('RC Time Constant:', Tau_2,'seconds')\n",
    "\n",
    "#Enter Voltage applied to the circuit below. (Should be 10V)\n",
    "E= 10.0\n",
    "\n",
    "df2_iv = (df2.copy()).drop(df2.columns[3], axis=1).dropna()\n",
    "df2_q = (df2.copy()).drop(df2.columns[2], axis=1)\n",
    "df2_q = (df2_q.copy()).drop(df2_q.columns[1], axis=1).dropna()"
   ]
  },
  {
   "cell_type": "code",
   "execution_count": 8,
   "metadata": {},
   "outputs": [
    {
     "data": {
      "text/html": [
       "<div>\n",
       "<style scoped>\n",
       "    .dataframe tbody tr th:only-of-type {\n",
       "        vertical-align: middle;\n",
       "    }\n",
       "\n",
       "    .dataframe tbody tr th {\n",
       "        vertical-align: top;\n",
       "    }\n",
       "\n",
       "    .dataframe thead th {\n",
       "        text-align: right;\n",
       "    }\n",
       "</style>\n",
       "<table border=\"1\" class=\"dataframe\">\n",
       "  <thead>\n",
       "    <tr style=\"text-align: right;\">\n",
       "      <th></th>\n",
       "      <th>t</th>\n",
       "      <th>v</th>\n",
       "      <th>i</th>\n",
       "      <th>di</th>\n",
       "      <th>dv</th>\n",
       "      <th>dt</th>\n",
       "    </tr>\n",
       "  </thead>\n",
       "  <tbody>\n",
       "    <tr>\n",
       "      <th>0</th>\n",
       "      <td>0.0000</td>\n",
       "      <td>0.002</td>\n",
       "      <td>-0.000058</td>\n",
       "      <td>0.000001</td>\n",
       "      <td>0.001</td>\n",
       "      <td>0.0001</td>\n",
       "    </tr>\n",
       "    <tr>\n",
       "      <th>2</th>\n",
       "      <td>0.0005</td>\n",
       "      <td>0.002</td>\n",
       "      <td>-0.000068</td>\n",
       "      <td>0.000001</td>\n",
       "      <td>0.001</td>\n",
       "      <td>0.0001</td>\n",
       "    </tr>\n",
       "    <tr>\n",
       "      <th>4</th>\n",
       "      <td>0.0010</td>\n",
       "      <td>0.002</td>\n",
       "      <td>-0.000046</td>\n",
       "      <td>0.000001</td>\n",
       "      <td>0.001</td>\n",
       "      <td>0.0001</td>\n",
       "    </tr>\n",
       "    <tr>\n",
       "      <th>6</th>\n",
       "      <td>0.0020</td>\n",
       "      <td>0.002</td>\n",
       "      <td>-0.000050</td>\n",
       "      <td>0.000001</td>\n",
       "      <td>0.001</td>\n",
       "      <td>0.0001</td>\n",
       "    </tr>\n",
       "    <tr>\n",
       "      <th>8</th>\n",
       "      <td>0.0020</td>\n",
       "      <td>0.002</td>\n",
       "      <td>-0.000040</td>\n",
       "      <td>0.000001</td>\n",
       "      <td>0.001</td>\n",
       "      <td>0.0001</td>\n",
       "    </tr>\n",
       "    <tr>\n",
       "      <th>...</th>\n",
       "      <td>...</td>\n",
       "      <td>...</td>\n",
       "      <td>...</td>\n",
       "      <td>...</td>\n",
       "      <td>...</td>\n",
       "      <td>...</td>\n",
       "    </tr>\n",
       "    <tr>\n",
       "      <th>42352</th>\n",
       "      <td>10.5880</td>\n",
       "      <td>10.589</td>\n",
       "      <td>0.000086</td>\n",
       "      <td>0.000001</td>\n",
       "      <td>0.001</td>\n",
       "      <td>0.0001</td>\n",
       "    </tr>\n",
       "    <tr>\n",
       "      <th>42354</th>\n",
       "      <td>10.5890</td>\n",
       "      <td>10.588</td>\n",
       "      <td>0.000114</td>\n",
       "      <td>0.000001</td>\n",
       "      <td>0.001</td>\n",
       "      <td>0.0001</td>\n",
       "    </tr>\n",
       "    <tr>\n",
       "      <th>42356</th>\n",
       "      <td>10.5890</td>\n",
       "      <td>10.589</td>\n",
       "      <td>0.000099</td>\n",
       "      <td>0.000001</td>\n",
       "      <td>0.001</td>\n",
       "      <td>0.0001</td>\n",
       "    </tr>\n",
       "    <tr>\n",
       "      <th>42358</th>\n",
       "      <td>10.5900</td>\n",
       "      <td>10.589</td>\n",
       "      <td>0.000086</td>\n",
       "      <td>0.000001</td>\n",
       "      <td>0.001</td>\n",
       "      <td>0.0001</td>\n",
       "    </tr>\n",
       "    <tr>\n",
       "      <th>42360</th>\n",
       "      <td>10.5900</td>\n",
       "      <td>10.589</td>\n",
       "      <td>0.000090</td>\n",
       "      <td>0.000001</td>\n",
       "      <td>0.001</td>\n",
       "      <td>0.0001</td>\n",
       "    </tr>\n",
       "  </tbody>\n",
       "</table>\n",
       "<p>21181 rows × 6 columns</p>\n",
       "</div>"
      ],
      "text/plain": [
       "             t       v         i        di     dv      dt\n",
       "0       0.0000   0.002 -0.000058  0.000001  0.001  0.0001\n",
       "2       0.0005   0.002 -0.000068  0.000001  0.001  0.0001\n",
       "4       0.0010   0.002 -0.000046  0.000001  0.001  0.0001\n",
       "6       0.0020   0.002 -0.000050  0.000001  0.001  0.0001\n",
       "8       0.0020   0.002 -0.000040  0.000001  0.001  0.0001\n",
       "...        ...     ...       ...       ...    ...     ...\n",
       "42352  10.5880  10.589  0.000086  0.000001  0.001  0.0001\n",
       "42354  10.5890  10.588  0.000114  0.000001  0.001  0.0001\n",
       "42356  10.5890  10.589  0.000099  0.000001  0.001  0.0001\n",
       "42358  10.5900  10.589  0.000086  0.000001  0.001  0.0001\n",
       "42360  10.5900  10.589  0.000090  0.000001  0.001  0.0001\n",
       "\n",
       "[21181 rows x 6 columns]"
      ]
     },
     "execution_count": 8,
     "metadata": {},
     "output_type": "execute_result"
    }
   ],
   "source": [
    "df2_iv = df2_iv.set_axis(['t', 'v', 'i'], axis=1, inplace=False)\n",
    "df2_q = df2_q.set_axis(['t', 'q'], axis=1, inplace=False)\n",
    "\n",
    "df2_iv['di']=0.000001\n",
    "df2_iv['dv']=0.001\n",
    "df2_iv['dt']=0.0001\n",
    "\n",
    "df2_q['dt']=0.0001\n",
    "df2_q['dq']=1E-8\n",
    "\n",
    "#pd.set_option('display.max_rows', None)\n",
    "df2_iv"
   ]
  },
  {
   "cell_type": "code",
   "execution_count": null,
   "metadata": {},
   "outputs": [],
   "source": []
  },
  {
   "cell_type": "code",
   "execution_count": 9,
   "metadata": {
    "scrolled": true
   },
   "outputs": [
    {
     "data": {
      "text/plain": [
       "<ErrorbarContainer object of 3 artists>"
      ]
     },
     "execution_count": 9,
     "metadata": {},
     "output_type": "execute_result"
    },
    {
     "data": {
      "image/png": "[encoded data removed]",
      "text/plain": [
       "<Figure size 432x288 with 1 Axes>"
      ]
     },
     "metadata": {
      "needs_background": "dark"
     },
     "output_type": "display_data"
    }
   ],
   "source": [
    "xi_all2 = np.array(df2_iv['t'])\n",
    "yi_all2 = np.array(df2_iv['v'])\n",
    "sigmaxi2 = np.array(df2_iv['dt'])\n",
    "sigmayi2 = np.array(df2_iv['dv'])\n",
    "\n",
    "plt.errorbar(xi_all2, yi_all2, xerr=sigmaxi2, yerr=sigmayi2, fmt='o', capsize=2, capthick=1)\n",
    "#plt.xlim(1.2,1.23)\n",
    "#plt.ylim(-0.025,0.025)\n",
    "#Adjust tlow and thigh below to encompass the bend of the graph for best fit.\n",
    "tlow = 0.50\n",
    "thigh = 2.500\n",
    "\n",
    "df2_iv_select = df2_iv[(df2_iv['t']>tlow) & (df2_iv['t']<thigh)]\n",
    "xi2 = np.array(df2_iv_select['t'])\n",
    "yi2 = np.array(df2_iv_select['v'])\n",
    "sigmaxi2 = np.array(df2_iv_select['dt'])\n",
    "sigmayi2 = np.array(df2_iv_select['dv'])\n",
    "\n",
    "plt.errorbar(xi2, yi2, xerr=sigmaxi2, yerr=sigmayi2, fmt='o', capsize=2, capthick=1)"
   ]
  },
  {
   "cell_type": "code",
   "execution_count": 10,
   "metadata": {
    "scrolled": true
   },
   "outputs": [
    {
     "name": "stdout",
     "output_type": "stream",
     "text": [
      "[0.   0.22 0.44 0.66 0.88 1.1  1.32 1.54 1.76 1.98]\n",
      "[0.         6.32120559 8.64664717 9.50212932 9.81684361 9.93262053\n",
      " 9.97521248 9.99088118 9.99664537 9.9987659 ]\n"
     ]
    },
    {
     "data": {
      "image/png": "[encoded data removed]",
      "text/plain": [
       "<Figure size 432x288 with 1 Axes>"
      ]
     },
     "metadata": {
      "needs_background": "dark"
     },
     "output_type": "display_data"
    }
   ],
   "source": [
    "exp2_Tau = Tau_2 * np.arange(0,10)\n",
    "print(exp2_Tau)\n",
    "Exp_E2 = E * (1 - np.exp(-np.arange(0,10)))\n",
    "print(Exp_E2)\n",
    "\n",
    "fig = plt.figure()\n",
    "plt.plot(exp2_Tau,Exp_E2,label=\"Projected\")\n",
    "plt.plot(xi_all2, yi_all2, label='Measured')\n",
    "plt.xlabel('Time (Seconds)')\n",
    "plt.ylabel('Voltage (V)')\n",
    "plt.xlim(0,10)\n",
    "plt.legend()\n",
    "plt.show()"
   ]
  },
  {
   "cell_type": "code",
   "execution_count": 11,
   "metadata": {},
   "outputs": [
    {
     "name": "stdout",
     "output_type": "stream",
     "text": [
      "Beta: [10.67837023  0.66845779  0.30049021]\n",
      "Beta Std Error: [0.01046746 0.00139374 0.00199032]\n",
      "Beta Covariance: [[ 8.27272820e-10 -2.23963325e-11  1.07219749e-10]\n",
      " [-2.23963325e-11  1.46666827e-11 -1.19640621e-11]\n",
      " [ 1.07219749e-10 -1.19640621e-11  2.99097771e-11]]\n",
      "Residual Variance: 132444.4601184634\n",
      "Inverse Condition #: 0.1917386415673354\n",
      "Reason(s) for Halting:\n",
      "  Sum of squares convergence\n",
      "\n",
      "Final Result: Y = (10.678370228 +/- 0.010467459) (1 - EXP(-(X - (0.668457792 +/- 0.001393743))/(0.300490207 +/- 0.001990323)))\n",
      "0.22 seconds\n"
     ]
    },
    {
     "data": {
      "image/png": "[encoded data removed]",
      "text/plain": [
       "<Figure size 640x480 with 1 Axes>"
      ]
     },
     "metadata": {
      "needs_background": "dark"
     },
     "output_type": "display_data"
    }
   ],
   "source": [
    "popt2, pcov2, perr2 = charging_fit_plot(xi2,yi2,sigmaxi2,sigmayi2,plt,tlow,thigh)\n",
    "\n",
    "#########################\n",
    "print(Tau_2,'seconds')\n",
    "\n",
    "plt.xlabel('Time (seconds)')\n",
    "plt.ylabel('Voltage (Volts)')\n",
    "plt.title('RC Circuit Configuration 1')\n",
    "plt.show()"
   ]
  },
  {
   "cell_type": "code",
   "execution_count": null,
   "metadata": {},
   "outputs": [],
   "source": []
  },
  {
   "cell_type": "code",
   "execution_count": null,
   "metadata": {},
   "outputs": [],
   "source": []
  }
 ],
 "metadata": {
  "kernelspec": {
   "display_name": "Python 3",
   "language": "python",
   "name": "python3"
  },
  "language_info": {
   "codemirror_mode": {
    "name": "ipython",
    "version": 3
   },
   "file_extension": ".py",
   "mimetype": "text/x-python",
   "name": "python",
   "nbconvert_exporter": "python",
   "pygments_lexer": "ipython3",
   "version": "3.6.8"
  },
  "latex_envs": {
   "LaTeX_envs_menu_present": true,
   "autoclose": false,
   "autocomplete": true,
   "bibliofile": "biblio.bib",
   "cite_by": "apalike",
   "current_citInitial": 1,
   "eqLabelWithNumbers": true,
   "eqNumInitial": 1,
   "hotkeys": {
    "equation": "Ctrl-E",
    "itemize": "Ctrl-I"
   },
   "labels_anchors": false,
   "latex_user_defs": false,
   "report_style_numbering": false,
   "user_envs_cfg": false
  }
 },
 "nbformat": 4,
 "nbformat_minor": 4
}
