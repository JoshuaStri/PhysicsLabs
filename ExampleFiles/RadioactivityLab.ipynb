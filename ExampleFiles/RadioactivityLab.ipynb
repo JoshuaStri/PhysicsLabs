{
 "cells": [
  {
   "cell_type": "markdown",
   "metadata": {},
   "source": [
    "## Physics 152L Radioactivity Lab ##\n",
    "\n",
    "### 1. Read in the data\n",
    "\n",
    "Import the usual libraries, and then read in the data from the saved CSV file into a Pandas dataframe.\n",
    "\n",
    "We can use df.info() to get a basic summary of the data."
   ]
  },
  {
   "cell_type": "code",
   "execution_count": 9,
   "metadata": {},
   "outputs": [
    {
     "name": "stdout",
     "output_type": "stream",
     "text": [
      "<class 'pandas.core.frame.DataFrame'>\n",
      "RangeIndex: 11 entries, 0 to 10\n",
      "Data columns (total 2 columns):\n",
      " #   Column        Non-Null Count  Dtype\n",
      "---  ------        --------------  -----\n",
      " 0   Time (s)      11 non-null     int64\n",
      " 1   Position (m)  11 non-null     int64\n",
      "dtypes: int64(2)\n",
      "memory usage: 304.0 bytes\n"
     ]
    }
   ],
   "source": [
    "import numpy as np\n",
    "import matplotlib.pyplot as plt\n",
    "import pandas as pd\n",
    "\n",
    "df = pd.read_csv(\"./Demo files/Sawtooth test.csv\")\n",
    "\n",
    "df.info()"
   ]
  },
  {
   "cell_type": "markdown",
   "metadata": {},
   "source": [
    "### 2. Splitting Up The Data ###\n",
    "\n",
    "Inspection of the dataframe shows us that there are five data sets from the different\n",
    "parts of the experiment that are combined into our single CSV file, and hence into our\n",
    "initial dataframe.\n",
    "\n",
    "We can use df.filter() to parse this main dataframe and create separate dataframes for\n",
    "each part of the experiment."
   ]
  },
  {
   "cell_type": "code",
   "execution_count": 10,
   "metadata": {},
   "outputs": [],
   "source": [
    "background = df.filter(['Time (s) Background',\n",
    "                        'Geiger Counts (counts/sample) Background',\n",
    "                        'RootN (cts/5s) Background',\n",
    "                        'Background Subtracted (cts/5s) Background'], axis=1).dropna()\n",
    "background2 = df.filter(['Time (s) Background2',\n",
    "                        'Geiger Counts (counts/sample) Background2',\n",
    "                        'RootN (cts/5s) Background2',\n",
    "                        'Background Subtracted (cts/5s) Background2'], axis=1).dropna()\n",
    "barium = df.filter(['Time (s) Barium',\n",
    "                        'Geiger Counts (counts/sample) Barium',\n",
    "                        'RootN (cts/5s) Barium',\n",
    "                        'Background Subtracted (cts/5s) Barium'], axis=1).dropna()\n",
    "radium = df.filter(['Time (s) Radium',\n",
    "                        'Geiger Counts (counts/sample) Radium',\n",
    "                        'RootN (cts/5s) Radium',\n",
    "                        'Background Subtracted (cts/5s) Radium'], axis=1).dropna()\n",
    "radsamples = df.filter(['Time (s) RadSamples',\n",
    "                        'Geiger Counts (counts/sample) RadSamples',\n",
    "                        'RootN (cts/5s) RadSamples',\n",
    "                        'Background Subtracted (cts/5s) RadSamples'], axis=1).dropna()"
   ]
  },
  {
   "cell_type": "markdown",
   "metadata": {},
   "source": [
    "### 3.  Part I:  Background Measurments ###\n",
    "\n",
    "We begin by plotting the data from part I.  \n",
    "\n",
    "In order to calculate the average background rate, with uncertainty, we do the following:\n",
    "* Get the total integrated counts\n",
    "* Get the total time\n",
    "* Calculate the average rate\n",
    "* Calculate the uncertainty, using the fact that $\\Delta N = \\sqrt{N}$.\n",
    "\n",
    "There are two background measurements in the CSV file, and so we will do the same thing\n",
    "for each of these two data sets."
   ]
  },
  {
   "cell_type": "code",
   "execution_count": 11,
   "metadata": {},
   "outputs": [
    {
     "ename": "KeyError",
     "evalue": "'Time (s) Background'",
     "output_type": "error",
     "traceback": [
      "\u001b[0;31m---------------------------------------------------------------------------\u001b[0m",
      "\u001b[0;31mKeyError\u001b[0m                                  Traceback (most recent call last)",
      "\u001b[0;32m~/.local/lib/python3.6/site-packages/pandas/core/indexes/base.py\u001b[0m in \u001b[0;36mget_loc\u001b[0;34m(self, key, method, tolerance)\u001b[0m\n\u001b[1;32m   2897\u001b[0m             \u001b[0;32mtry\u001b[0m\u001b[0;34m:\u001b[0m\u001b[0;34m\u001b[0m\u001b[0;34m\u001b[0m\u001b[0m\n\u001b[0;32m-> 2898\u001b[0;31m                 \u001b[0;32mreturn\u001b[0m \u001b[0mself\u001b[0m\u001b[0;34m.\u001b[0m\u001b[0m_engine\u001b[0m\u001b[0;34m.\u001b[0m\u001b[0mget_loc\u001b[0m\u001b[0;34m(\u001b[0m\u001b[0mcasted_key\u001b[0m\u001b[0;34m)\u001b[0m\u001b[0;34m\u001b[0m\u001b[0;34m\u001b[0m\u001b[0m\n\u001b[0m\u001b[1;32m   2899\u001b[0m             \u001b[0;32mexcept\u001b[0m \u001b[0mKeyError\u001b[0m \u001b[0;32mas\u001b[0m \u001b[0merr\u001b[0m\u001b[0;34m:\u001b[0m\u001b[0;34m\u001b[0m\u001b[0;34m\u001b[0m\u001b[0m\n",
      "\u001b[0;32mpandas/_libs/index.pyx\u001b[0m in \u001b[0;36mpandas._libs.index.IndexEngine.get_loc\u001b[0;34m()\u001b[0m\n",
      "\u001b[0;32mpandas/_libs/index.pyx\u001b[0m in \u001b[0;36mpandas._libs.index.IndexEngine.get_loc\u001b[0;34m()\u001b[0m\n",
      "\u001b[0;32mpandas/_libs/hashtable_class_helper.pxi\u001b[0m in \u001b[0;36mpandas._libs.hashtable.PyObjectHashTable.get_item\u001b[0;34m()\u001b[0m\n",
      "\u001b[0;32mpandas/_libs/hashtable_class_helper.pxi\u001b[0m in \u001b[0;36mpandas._libs.hashtable.PyObjectHashTable.get_item\u001b[0;34m()\u001b[0m\n",
      "\u001b[0;31mKeyError\u001b[0m: 'Time (s) Background'",
      "\nThe above exception was the direct cause of the following exception:\n",
      "\u001b[0;31mKeyError\u001b[0m                                  Traceback (most recent call last)",
      "\u001b[0;32m<ipython-input-11-7b6b1fea4002>\u001b[0m in \u001b[0;36m<module>\u001b[0;34m\u001b[0m\n\u001b[1;32m      1\u001b[0m \u001b[0mfig\u001b[0m\u001b[0;34m=\u001b[0m\u001b[0mplt\u001b[0m\u001b[0;34m.\u001b[0m\u001b[0mfigure\u001b[0m\u001b[0;34m(\u001b[0m\u001b[0mfigsize\u001b[0m\u001b[0;34m=\u001b[0m\u001b[0;34m(\u001b[0m\u001b[0;36m7\u001b[0m\u001b[0;34m,\u001b[0m\u001b[0;36m5\u001b[0m\u001b[0;34m)\u001b[0m\u001b[0;34m,\u001b[0m \u001b[0mdpi\u001b[0m\u001b[0;34m=\u001b[0m \u001b[0;36m100\u001b[0m\u001b[0;34m,\u001b[0m \u001b[0mfacecolor\u001b[0m\u001b[0;34m=\u001b[0m\u001b[0;34m'w'\u001b[0m\u001b[0;34m,\u001b[0m \u001b[0medgecolor\u001b[0m\u001b[0;34m=\u001b[0m\u001b[0;34m'k'\u001b[0m\u001b[0;34m)\u001b[0m\u001b[0;34m\u001b[0m\u001b[0;34m\u001b[0m\u001b[0m\n\u001b[0;32m----> 2\u001b[0;31m plt.plot(background['Time (s) Background'],\n\u001b[0m\u001b[1;32m      3\u001b[0m          background['Geiger Counts (counts/sample) Background'],'r.', label = 'Raw Data')\n\u001b[1;32m      4\u001b[0m plt.plot(background['Time (s) Background'],\n\u001b[1;32m      5\u001b[0m          background['RootN (cts/5s) Background'],'b--', label = 'Cumulative Error')\n",
      "\u001b[0;32m~/.local/lib/python3.6/site-packages/pandas/core/frame.py\u001b[0m in \u001b[0;36m__getitem__\u001b[0;34m(self, key)\u001b[0m\n\u001b[1;32m   2904\u001b[0m             \u001b[0;32mif\u001b[0m \u001b[0mself\u001b[0m\u001b[0;34m.\u001b[0m\u001b[0mcolumns\u001b[0m\u001b[0;34m.\u001b[0m\u001b[0mnlevels\u001b[0m \u001b[0;34m>\u001b[0m \u001b[0;36m1\u001b[0m\u001b[0;34m:\u001b[0m\u001b[0;34m\u001b[0m\u001b[0;34m\u001b[0m\u001b[0m\n\u001b[1;32m   2905\u001b[0m                 \u001b[0;32mreturn\u001b[0m \u001b[0mself\u001b[0m\u001b[0;34m.\u001b[0m\u001b[0m_getitem_multilevel\u001b[0m\u001b[0;34m(\u001b[0m\u001b[0mkey\u001b[0m\u001b[0;34m)\u001b[0m\u001b[0;34m\u001b[0m\u001b[0;34m\u001b[0m\u001b[0m\n\u001b[0;32m-> 2906\u001b[0;31m             \u001b[0mindexer\u001b[0m \u001b[0;34m=\u001b[0m \u001b[0mself\u001b[0m\u001b[0;34m.\u001b[0m\u001b[0mcolumns\u001b[0m\u001b[0;34m.\u001b[0m\u001b[0mget_loc\u001b[0m\u001b[0;34m(\u001b[0m\u001b[0mkey\u001b[0m\u001b[0;34m)\u001b[0m\u001b[0;34m\u001b[0m\u001b[0;34m\u001b[0m\u001b[0m\n\u001b[0m\u001b[1;32m   2907\u001b[0m             \u001b[0;32mif\u001b[0m \u001b[0mis_integer\u001b[0m\u001b[0;34m(\u001b[0m\u001b[0mindexer\u001b[0m\u001b[0;34m)\u001b[0m\u001b[0;34m:\u001b[0m\u001b[0;34m\u001b[0m\u001b[0;34m\u001b[0m\u001b[0m\n\u001b[1;32m   2908\u001b[0m                 \u001b[0mindexer\u001b[0m \u001b[0;34m=\u001b[0m \u001b[0;34m[\u001b[0m\u001b[0mindexer\u001b[0m\u001b[0;34m]\u001b[0m\u001b[0;34m\u001b[0m\u001b[0;34m\u001b[0m\u001b[0m\n",
      "\u001b[0;32m~/.local/lib/python3.6/site-packages/pandas/core/indexes/base.py\u001b[0m in \u001b[0;36mget_loc\u001b[0;34m(self, key, method, tolerance)\u001b[0m\n\u001b[1;32m   2898\u001b[0m                 \u001b[0;32mreturn\u001b[0m \u001b[0mself\u001b[0m\u001b[0;34m.\u001b[0m\u001b[0m_engine\u001b[0m\u001b[0;34m.\u001b[0m\u001b[0mget_loc\u001b[0m\u001b[0;34m(\u001b[0m\u001b[0mcasted_key\u001b[0m\u001b[0;34m)\u001b[0m\u001b[0;34m\u001b[0m\u001b[0;34m\u001b[0m\u001b[0m\n\u001b[1;32m   2899\u001b[0m             \u001b[0;32mexcept\u001b[0m \u001b[0mKeyError\u001b[0m \u001b[0;32mas\u001b[0m \u001b[0merr\u001b[0m\u001b[0;34m:\u001b[0m\u001b[0;34m\u001b[0m\u001b[0;34m\u001b[0m\u001b[0m\n\u001b[0;32m-> 2900\u001b[0;31m                 \u001b[0;32mraise\u001b[0m \u001b[0mKeyError\u001b[0m\u001b[0;34m(\u001b[0m\u001b[0mkey\u001b[0m\u001b[0;34m)\u001b[0m \u001b[0;32mfrom\u001b[0m \u001b[0merr\u001b[0m\u001b[0;34m\u001b[0m\u001b[0;34m\u001b[0m\u001b[0m\n\u001b[0m\u001b[1;32m   2901\u001b[0m \u001b[0;34m\u001b[0m\u001b[0m\n\u001b[1;32m   2902\u001b[0m         \u001b[0;32mif\u001b[0m \u001b[0mtolerance\u001b[0m \u001b[0;32mis\u001b[0m \u001b[0;32mnot\u001b[0m \u001b[0;32mNone\u001b[0m\u001b[0;34m:\u001b[0m\u001b[0;34m\u001b[0m\u001b[0;34m\u001b[0m\u001b[0m\n",
      "\u001b[0;31mKeyError\u001b[0m: 'Time (s) Background'"
     ]
    },
    {
     "data": {
      "text/plain": [
       "<Figure size 700x500 with 0 Axes>"
      ]
     },
     "metadata": {},
     "output_type": "display_data"
    }
   ],
   "source": [
    "fig=plt.figure(figsize=(7,5), dpi= 100, facecolor='w', edgecolor='k')\n",
    "plt.plot(background['Time (s) Background'],\n",
    "         background['Geiger Counts (counts/sample) Background'],'r.', label = 'Raw Data')\n",
    "plt.plot(background['Time (s) Background'],\n",
    "         background['RootN (cts/5s) Background'],'b--', label = 'Cumulative Error')\n",
    "plt.plot(background['Time (s) Background'],\n",
    "         background['Background Subtracted (cts/5s) Background'],'g-', \n",
    "         label = 'Background Subtracted')\n",
    "plt.legend()\n",
    "\n",
    "entries = len(background)\n",
    "count_sum = background['Geiger Counts (counts/sample) Background'].sum()\n",
    "end_time = background['Time (s) Background'][entries-1]\n",
    "rate = count_sum/end_time*60 \n",
    "erate = np.sqrt(count_sum)/end_time*60.0\n",
    "        \n",
    "print ('Counts = ',count_sum,' Time = ',end_time,' Rate = ',rate,' +/- ',erate)"
   ]
  },
  {
   "cell_type": "code",
   "execution_count": 8,
   "metadata": {},
   "outputs": [
    {
     "ename": "KeyError",
     "evalue": "'Time (s) Background2'",
     "output_type": "error",
     "traceback": [
      "\u001b[0;31m---------------------------------------------------------------------------\u001b[0m",
      "\u001b[0;31mKeyError\u001b[0m                                  Traceback (most recent call last)",
      "\u001b[0;32m~/.local/lib/python3.6/site-packages/pandas/core/indexes/base.py\u001b[0m in \u001b[0;36mget_loc\u001b[0;34m(self, key, method, tolerance)\u001b[0m\n\u001b[1;32m   2897\u001b[0m             \u001b[0;32mtry\u001b[0m\u001b[0;34m:\u001b[0m\u001b[0;34m\u001b[0m\u001b[0;34m\u001b[0m\u001b[0m\n\u001b[0;32m-> 2898\u001b[0;31m                 \u001b[0;32mreturn\u001b[0m \u001b[0mself\u001b[0m\u001b[0;34m.\u001b[0m\u001b[0m_engine\u001b[0m\u001b[0;34m.\u001b[0m\u001b[0mget_loc\u001b[0m\u001b[0;34m(\u001b[0m\u001b[0mcasted_key\u001b[0m\u001b[0;34m)\u001b[0m\u001b[0;34m\u001b[0m\u001b[0;34m\u001b[0m\u001b[0m\n\u001b[0m\u001b[1;32m   2899\u001b[0m             \u001b[0;32mexcept\u001b[0m \u001b[0mKeyError\u001b[0m \u001b[0;32mas\u001b[0m \u001b[0merr\u001b[0m\u001b[0;34m:\u001b[0m\u001b[0;34m\u001b[0m\u001b[0;34m\u001b[0m\u001b[0m\n",
      "\u001b[0;32mpandas/_libs/index.pyx\u001b[0m in \u001b[0;36mpandas._libs.index.IndexEngine.get_loc\u001b[0;34m()\u001b[0m\n",
      "\u001b[0;32mpandas/_libs/index.pyx\u001b[0m in \u001b[0;36mpandas._libs.index.IndexEngine.get_loc\u001b[0;34m()\u001b[0m\n",
      "\u001b[0;32mpandas/_libs/hashtable_class_helper.pxi\u001b[0m in \u001b[0;36mpandas._libs.hashtable.PyObjectHashTable.get_item\u001b[0;34m()\u001b[0m\n",
      "\u001b[0;32mpandas/_libs/hashtable_class_helper.pxi\u001b[0m in \u001b[0;36mpandas._libs.hashtable.PyObjectHashTable.get_item\u001b[0;34m()\u001b[0m\n",
      "\u001b[0;31mKeyError\u001b[0m: 'Time (s) Background2'",
      "\nThe above exception was the direct cause of the following exception:\n",
      "\u001b[0;31mKeyError\u001b[0m                                  Traceback (most recent call last)",
      "\u001b[0;32m<ipython-input-8-7878cefb0f57>\u001b[0m in \u001b[0;36m<module>\u001b[0;34m\u001b[0m\n\u001b[1;32m      1\u001b[0m \u001b[0mfig\u001b[0m\u001b[0;34m=\u001b[0m\u001b[0mplt\u001b[0m\u001b[0;34m.\u001b[0m\u001b[0mfigure\u001b[0m\u001b[0;34m(\u001b[0m\u001b[0mfigsize\u001b[0m\u001b[0;34m=\u001b[0m\u001b[0;34m(\u001b[0m\u001b[0;36m7\u001b[0m\u001b[0;34m,\u001b[0m\u001b[0;36m5\u001b[0m\u001b[0;34m)\u001b[0m\u001b[0;34m,\u001b[0m \u001b[0mdpi\u001b[0m\u001b[0;34m=\u001b[0m \u001b[0;36m100\u001b[0m\u001b[0;34m,\u001b[0m \u001b[0mfacecolor\u001b[0m\u001b[0;34m=\u001b[0m\u001b[0;34m'w'\u001b[0m\u001b[0;34m,\u001b[0m \u001b[0medgecolor\u001b[0m\u001b[0;34m=\u001b[0m\u001b[0;34m'k'\u001b[0m\u001b[0;34m)\u001b[0m\u001b[0;34m\u001b[0m\u001b[0;34m\u001b[0m\u001b[0m\n\u001b[0;32m----> 2\u001b[0;31m plt.plot(background2['Time (s) Background2'],\n\u001b[0m\u001b[1;32m      3\u001b[0m          background2['Geiger Counts (counts/sample) Background2'],'r.',label = 'Raw Data' )\n\u001b[1;32m      4\u001b[0m plt.plot(background2['Time (s) Background2'],\n\u001b[1;32m      5\u001b[0m          background2['RootN (cts/5s) Background2'],'b--', label = 'Cumulative Error' )\n",
      "\u001b[0;32m~/.local/lib/python3.6/site-packages/pandas/core/frame.py\u001b[0m in \u001b[0;36m__getitem__\u001b[0;34m(self, key)\u001b[0m\n\u001b[1;32m   2904\u001b[0m             \u001b[0;32mif\u001b[0m \u001b[0mself\u001b[0m\u001b[0;34m.\u001b[0m\u001b[0mcolumns\u001b[0m\u001b[0;34m.\u001b[0m\u001b[0mnlevels\u001b[0m \u001b[0;34m>\u001b[0m \u001b[0;36m1\u001b[0m\u001b[0;34m:\u001b[0m\u001b[0;34m\u001b[0m\u001b[0;34m\u001b[0m\u001b[0m\n\u001b[1;32m   2905\u001b[0m                 \u001b[0;32mreturn\u001b[0m \u001b[0mself\u001b[0m\u001b[0;34m.\u001b[0m\u001b[0m_getitem_multilevel\u001b[0m\u001b[0;34m(\u001b[0m\u001b[0mkey\u001b[0m\u001b[0;34m)\u001b[0m\u001b[0;34m\u001b[0m\u001b[0;34m\u001b[0m\u001b[0m\n\u001b[0;32m-> 2906\u001b[0;31m             \u001b[0mindexer\u001b[0m \u001b[0;34m=\u001b[0m \u001b[0mself\u001b[0m\u001b[0;34m.\u001b[0m\u001b[0mcolumns\u001b[0m\u001b[0;34m.\u001b[0m\u001b[0mget_loc\u001b[0m\u001b[0;34m(\u001b[0m\u001b[0mkey\u001b[0m\u001b[0;34m)\u001b[0m\u001b[0;34m\u001b[0m\u001b[0;34m\u001b[0m\u001b[0m\n\u001b[0m\u001b[1;32m   2907\u001b[0m             \u001b[0;32mif\u001b[0m \u001b[0mis_integer\u001b[0m\u001b[0;34m(\u001b[0m\u001b[0mindexer\u001b[0m\u001b[0;34m)\u001b[0m\u001b[0;34m:\u001b[0m\u001b[0;34m\u001b[0m\u001b[0;34m\u001b[0m\u001b[0m\n\u001b[1;32m   2908\u001b[0m                 \u001b[0mindexer\u001b[0m \u001b[0;34m=\u001b[0m \u001b[0;34m[\u001b[0m\u001b[0mindexer\u001b[0m\u001b[0;34m]\u001b[0m\u001b[0;34m\u001b[0m\u001b[0;34m\u001b[0m\u001b[0m\n",
      "\u001b[0;32m~/.local/lib/python3.6/site-packages/pandas/core/indexes/base.py\u001b[0m in \u001b[0;36mget_loc\u001b[0;34m(self, key, method, tolerance)\u001b[0m\n\u001b[1;32m   2898\u001b[0m                 \u001b[0;32mreturn\u001b[0m \u001b[0mself\u001b[0m\u001b[0;34m.\u001b[0m\u001b[0m_engine\u001b[0m\u001b[0;34m.\u001b[0m\u001b[0mget_loc\u001b[0m\u001b[0;34m(\u001b[0m\u001b[0mcasted_key\u001b[0m\u001b[0;34m)\u001b[0m\u001b[0;34m\u001b[0m\u001b[0;34m\u001b[0m\u001b[0m\n\u001b[1;32m   2899\u001b[0m             \u001b[0;32mexcept\u001b[0m \u001b[0mKeyError\u001b[0m \u001b[0;32mas\u001b[0m \u001b[0merr\u001b[0m\u001b[0;34m:\u001b[0m\u001b[0;34m\u001b[0m\u001b[0;34m\u001b[0m\u001b[0m\n\u001b[0;32m-> 2900\u001b[0;31m                 \u001b[0;32mraise\u001b[0m \u001b[0mKeyError\u001b[0m\u001b[0;34m(\u001b[0m\u001b[0mkey\u001b[0m\u001b[0;34m)\u001b[0m \u001b[0;32mfrom\u001b[0m \u001b[0merr\u001b[0m\u001b[0;34m\u001b[0m\u001b[0;34m\u001b[0m\u001b[0m\n\u001b[0m\u001b[1;32m   2901\u001b[0m \u001b[0;34m\u001b[0m\u001b[0m\n\u001b[1;32m   2902\u001b[0m         \u001b[0;32mif\u001b[0m \u001b[0mtolerance\u001b[0m \u001b[0;32mis\u001b[0m \u001b[0;32mnot\u001b[0m \u001b[0;32mNone\u001b[0m\u001b[0;34m:\u001b[0m\u001b[0;34m\u001b[0m\u001b[0;34m\u001b[0m\u001b[0m\n",
      "\u001b[0;31mKeyError\u001b[0m: 'Time (s) Background2'"
     ]
    },
    {
     "data": {
      "text/plain": [
       "<Figure size 700x500 with 0 Axes>"
      ]
     },
     "metadata": {},
     "output_type": "display_data"
    }
   ],
   "source": [
    "fig=plt.figure(figsize=(7,5), dpi= 100, facecolor='w', edgecolor='k')\n",
    "plt.plot(background2['Time (s) Background2'],\n",
    "         background2['Geiger Counts (counts/sample) Background2'],'r.',label = 'Raw Data' )\n",
    "plt.plot(background2['Time (s) Background2'],\n",
    "         background2['RootN (cts/5s) Background2'],'b--', label = 'Cumulative Error' )\n",
    "plt.plot(background2['Time (s) Background2'],\n",
    "         background2['Background Subtracted (cts/5s) Background2'],\n",
    "         'g-', label = 'Background Subtracted')\n",
    "plt.legend()\n",
    "\n",
    "entries = len(background2)\n",
    "count_sum = background2['Geiger Counts (counts/sample) Background2'].sum()\n",
    "end_time = background2['Time (s) Background2'][entries-1]\n",
    "rate = count_sum/end_time*60 \n",
    "erate = np.sqrt(count_sum)/end_time*60.0\n",
    "        \n",
    "print ('Counts = ',count_sum,' Time = ',end_time,' Rate = ',rate,' +/- ',erate)"
   ]
  },
  {
   "cell_type": "markdown",
   "metadata": {},
   "source": [
    "### 3.  Barium Measurements\n",
    "\n",
    "Plot the barium data.  The expected distribution is:\n",
    "\n",
    "\\begin{equation}\n",
    "R(t) = R_0 e^{-Bt} \\nonumber\n",
    "\\end{equation}"
   ]
  },
  {
   "cell_type": "code",
   "execution_count": null,
   "metadata": {},
   "outputs": [],
   "source": [
    "fig=plt.figure(figsize=(7,5), dpi= 100, facecolor='w', edgecolor='k')\n",
    "plt.plot(barium['Time (s) Barium'],\n",
    "         barium['Background Subtracted (cts/5s) Barium'],'g.',\n",
    "         label='Background Subtracted')"
   ]
  },
  {
   "cell_type": "markdown",
   "metadata": {},
   "source": [
    "So, the distribution looks roughly exponential, which is good.  But, in order to extract the parameters of this distribution, i.e. $R_0$ and $B$, we take a slightly different approach.\n",
    "\n",
    "Taking the natural logarithm of both sides, we have that:\n",
    "\n",
    "\\begin{equation}\n",
    "ln(R) = ln(R_0 e^{-Bt}) = ln(R_0) - Bt \\nonumber\n",
    "\\end{equation}\n",
    "\n",
    "Thus, if we plot $ln(R)$ vs. $t$, then we expect a $linear$ graph, with a positive y-intercept (=$ln(R_0)$) and negative slope (=$-B$).\n",
    "\n",
    "We can use the linear regression fitting model from sklearn to fit this data, and extract\n",
    "the numerical values of the slope and intercept."
   ]
  },
  {
   "cell_type": "code",
   "execution_count": null,
   "metadata": {},
   "outputs": [],
   "source": [
    "fig=plt.figure(figsize=(7,5), dpi= 100, facecolor='w', edgecolor='k')\n",
    "plt.plot(barium['Time (s) Barium'],\n",
    "         np.log(barium['Background Subtracted (cts/5s) Barium']),'g.',\n",
    "         label='Background Subtracted')\n",
    "\n",
    "from sklearn import linear_model\n",
    "\n",
    "reg = linear_model.LinearRegression()\n",
    "\n",
    "x_data = barium['Time (s) Barium'].values.reshape(-1, 1)\n",
    "y_data = np.log(barium['Background Subtracted (cts/5s) Barium'].values.reshape(-1, 1))\n",
    "\n",
    "reg.fit(x_data,y_data)\n",
    "\n",
    "print ('Fit: y_intercept = ',reg.intercept_)\n",
    "print ('Fit: slope = ',reg.coef_)\n",
    "\n",
    "y_fit = x_data*reg.coef_ + reg.intercept_\n",
    "plt.plot(x_data,y_fit,'r-',label='Linear Fit')\n",
    "plt.legend()"
   ]
  },
  {
   "cell_type": "markdown",
   "metadata": {},
   "source": [
    "Note that the linear fit is NOT a particularly good one, because by the end of the data set, it\n",
    "appears that the radioactive material has mostly decayed away, and we are not seeing the\n",
    "same exponential fall-off.\n",
    "\n",
    "So, what to do?  Well, we can limit the region of the fit to just the first 450 second or so, where the decay does appear to follow the expected log-linear dependence."
   ]
  },
  {
   "cell_type": "code",
   "execution_count": null,
   "metadata": {},
   "outputs": [],
   "source": [
    "barium2 = barium[barium['Time (s) Barium'] < 450]\n",
    "\n",
    "fig=plt.figure(figsize=(7,5), dpi= 100, facecolor='w', edgecolor='k')\n",
    "plt.plot(barium['Time (s) Barium'],\n",
    "         np.log(barium['Background Subtracted (cts/5s) Barium']),'g.',\n",
    "         label='Background Subtracted')\n",
    "\n",
    "from sklearn import linear_model\n",
    "\n",
    "reg = linear_model.LinearRegression()\n",
    "\n",
    "x_data = barium2['Time (s) Barium'].values.reshape(-1, 1)\n",
    "y_data = np.log(barium2['Background Subtracted (cts/5s) Barium'].values.reshape(-1, 1))\n",
    "\n",
    "reg.fit(x_data,y_data)\n",
    "\n",
    "print ('Fit: y_intercept = ',reg.intercept_)\n",
    "print ('Fit: slope = ',reg.coef_)\n",
    "\n",
    "print ('Half-Life = ',float(-np.log(2)/reg.coef_),' seconds.')\n",
    "\n",
    "y_fit = x_data*reg.coef_ + reg.intercept_\n",
    "plt.plot(x_data,y_fit,'r-',label='Linear Fit')\n",
    "plt.legend()"
   ]
  },
  {
   "cell_type": "markdown",
   "metadata": {},
   "source": [
    "###  4. Measurements with Different Absorbers ###\n",
    "\n",
    "Let's begin by looking at the raw data.\n",
    "\n",
    "We that there are five distinct \"sections\" in the data set that correspond to five\n",
    "different experimental conditions:\n",
    "\n",
    "* Gamma + Beta Source with no absorber\n",
    "* Gamma + Beta Source with absorber to block beta particles\n",
    "* Gamma + Beta Source with Cardboard absorber\n",
    "* Gamma + Beta Source with Aluminum absorber\n",
    "* Gamma + Beta Source with Lead absorber"
   ]
  },
  {
   "cell_type": "code",
   "execution_count": null,
   "metadata": {},
   "outputs": [],
   "source": [
    "fig=plt.figure(figsize=(7,5), dpi= 100, facecolor='w', edgecolor='k')\n",
    "plt.plot(radium['Time (s) Radium'],radium['Background Subtracted (cts/5s) Radium'],'g-')"
   ]
  },
  {
   "cell_type": "markdown",
   "metadata": {},
   "source": [
    "For each of the five measurements, we will set a time range (t1min and t1max).  Then, we filter the data set to include only measurements during these time windows.  Once we have the filtered data set, we can calculate an average rate over that time window.  In each case, we plot a horizontal line at the appropriate rate for that time window on top of the raw data."
   ]
  },
  {
   "cell_type": "code",
   "execution_count": null,
   "metadata": {},
   "outputs": [],
   "source": [
    "fig=plt.figure(figsize=(7,5), dpi= 100, facecolor='w', edgecolor='k')\n",
    "plt.plot(radium['Time (s) Radium'],radium['Background Subtracted (cts/5s) Radium'],'g-')\n",
    "\n",
    "t1min = 0.0\n",
    "t1max = 90.0\n",
    "gammabeta = radium[radium['Time (s) Radium']>t1min]\n",
    "gammabeta = gammabeta[gammabeta['Time (s) Radium']<t1max]\n",
    "\n",
    "gammabeta_rate = gammabeta['Background Subtracted (cts/5s) Radium'].mean()*1.0\n",
    "print ('Gamma+Beta Rate = ',gammabeta_rate,' cts/5 sec')\n",
    "\n",
    "x = np.array([t1min,t1max])\n",
    "y = np.array([gammabeta_rate,gammabeta_rate])\n",
    "plt.plot(x,y,'b-')\n",
    "\n",
    "t1min = 100.0\n",
    "t1max = 170.0\n",
    "gamma = radium[radium['Time (s) Radium']>t1min]\n",
    "gamma = gamma[gamma['Time (s) Radium']<t1max]\n",
    "\n",
    "gamma_rate = gamma['Background Subtracted (cts/5s) Radium'].mean()*1.0\n",
    "print ('Gamma Rate = ',gamma_rate,' cts/5 sec')\n",
    "print ('Beta Rate = ',gammabeta_rate-gamma_rate,' cts/5 sec')\n",
    "\n",
    "x = np.array([t1min,t1max])\n",
    "y = np.array([gamma_rate,gamma_rate])\n",
    "plt.plot(x,y,'b-')\n",
    "\n",
    "print (\"\")\n",
    "\n",
    "t1min = 180.0\n",
    "t1max = 240.0\n",
    "cardboard = radium[radium['Time (s) Radium']>t1min]\n",
    "cardboard = cardboard[cardboard['Time (s) Radium']<t1max]\n",
    "\n",
    "cardboard_rate = cardboard['Background Subtracted (cts/5s) Radium'].mean()*1.0\n",
    "print ('Cardboard Rate = ',cardboard_rate,' cts/5 sec')\n",
    "\n",
    "x = np.array([t1min,t1max])\n",
    "y = np.array([cardboard_rate,cardboard_rate])\n",
    "plt.plot(x,y,'b-')\n",
    "\n",
    "t1min = 260.0\n",
    "t1max = 305.0\n",
    "aluminum = radium[radium['Time (s) Radium']>t1min]\n",
    "aluminum = aluminum[aluminum['Time (s) Radium']<t1max]\n",
    "\n",
    "aluminum_rate = aluminum['Background Subtracted (cts/5s) Radium'].mean()*1.0\n",
    "print ('Aluminum Rate = ',aluminum_rate,' cts/5 sec')\n",
    "\n",
    "x = np.array([t1min,t1max])\n",
    "y = np.array([aluminum_rate,aluminum_rate])\n",
    "plt.plot(x,y,'b-')\n",
    "\n",
    "t1min = 340.0\n",
    "t1max = 410.0\n",
    "lead = radium[radium['Time (s) Radium']>t1min]\n",
    "lead = lead[lead['Time (s) Radium']<t1max]\n",
    "\n",
    "lead_rate = lead['Background Subtracted (cts/5s) Radium'].mean()*1.0\n",
    "print ('Lead Rate = ',lead_rate,' cts/5 sec')\n",
    "\n",
    "x = np.array([t1min,t1max])\n",
    "y = np.array([lead_rate,lead_rate])\n",
    "plt.plot(x,y,'b-')"
   ]
  },
  {
   "cell_type": "markdown",
   "metadata": {},
   "source": [
    "###  4. Measurements with Different Sources (With and Without Lead Absorber)\n",
    "\n",
    "In this part of the experiment, there are ten separate measurements, corresponding to five different sources, with data taken both with and without a lead absorber.  \n",
    "\n",
    "We begin by plotting the raw data, and we can clearly see the ten different situations.\n",
    "\n",
    "As in the last section, we will calculate the average rate for each of these ten time windows, and plot this average rate on top of the data.  Of course, we need to define the ten time windows (as four arrays - two for no absorber and two for absorber).\n"
   ]
  },
  {
   "cell_type": "code",
   "execution_count": null,
   "metadata": {},
   "outputs": [],
   "source": [
    "fig=plt.figure(figsize=(7,5), dpi= 100, facecolor='w', edgecolor='k')\n",
    "plt.plot(radsamples['Time (s) RadSamples'],\n",
    "         radsamples['Background Subtracted (cts/5s) RadSamples'],'g-')"
   ]
  },
  {
   "cell_type": "code",
   "execution_count": null,
   "metadata": {},
   "outputs": [],
   "source": [
    "fig=plt.figure(figsize=(7,5), dpi= 100, facecolor='w', edgecolor='k')\n",
    "plt.plot(radsamples['Time (s) RadSamples'],\n",
    "         radsamples['Background Subtracted (cts/5s) RadSamples'],'g-')\n",
    "\n",
    "tsmin = np.array([0.0,250.0,500.0,720.0,990.0])\n",
    "tsmax = np.array([105.0,340.0,580.0,830.0,1070.0])\n",
    "tlmin = np.array([120.0,375.0,650.0,850.0,1100.0])\n",
    "tlmax = np.array([220.0,460.0,720.0,950.0,1190.0])\n",
    "\n",
    "for i in range(5):\n",
    "    t1min = tsmin[i]\n",
    "    t1max = tsmax[i]\n",
    "    rate = radsamples[radsamples['Time (s) RadSamples']>t1min]\n",
    "    rate = rate[rate['Time (s) RadSamples']<t1max]\n",
    "\n",
    "    no_lead_rate = rate['Background Subtracted (cts/5s) RadSamples'].mean()*1.0\n",
    "    print ('NoLeadRate[',i+1,'] = ',no_lead_rate,' cts/5 sec')\n",
    "\n",
    "    x = np.array([t1min,t1max])\n",
    "    y = np.array([no_lead_rate,no_lead_rate])\n",
    "    plt.plot(x,y,'b-')\n",
    "    \n",
    "    t1min = tlmin[i]\n",
    "    t1max = tlmax[i]\n",
    "    rate = radsamples[radsamples['Time (s) RadSamples']>t1min]\n",
    "    rate = rate[rate['Time (s) RadSamples']<t1max]\n",
    "\n",
    "    lead_rate = rate['Background Subtracted (cts/5s) RadSamples'].mean()*1.0\n",
    "    print ('LeadRate[',i+1,'] = ',lead_rate,' cts/5 sec')\n",
    "\n",
    "    x = np.array([t1min,t1max])\n",
    "    y = np.array([lead_rate,lead_rate])\n",
    "    plt.plot(x,y,'b-')\n",
    "    print()"
   ]
  },
  {
   "cell_type": "code",
   "execution_count": null,
   "metadata": {},
   "outputs": [],
   "source": []
  },
  {
   "cell_type": "code",
   "execution_count": null,
   "metadata": {},
   "outputs": [],
   "source": []
  }
 ],
 "metadata": {
  "kernelspec": {
   "display_name": "Python 3",
   "language": "python",
   "name": "python3"
  },
  "language_info": {
   "codemirror_mode": {
    "name": "ipython",
    "version": 3
   },
   "file_extension": ".py",
   "mimetype": "text/x-python",
   "name": "python",
   "nbconvert_exporter": "python",
   "pygments_lexer": "ipython3",
   "version": "3.6.8"
  }
 },
 "nbformat": 4,
 "nbformat_minor": 4
}
